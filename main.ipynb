{
 "cells": [
  {
   "cell_type": "markdown",
   "id": "6f1b7e1d-b455-4e6b-aff4-a4ac74ebfd6c",
   "metadata": {},
   "source": [
    "# Gerekli Kütüphaneler"
   ]
  },
  {
   "cell_type": "code",
   "execution_count": 1,
   "id": "445133d6-7200-47b8-ae2d-43c9faa35c80",
   "metadata": {},
   "outputs": [
    {
     "name": "stderr",
     "output_type": "stream",
     "text": [
      "[nltk_data] Downloading package stopwords to\n",
      "[nltk_data]     /Users/mustafaerengulbahar/nltk_data...\n",
      "[nltk_data]   Package stopwords is already up-to-date!\n"
     ]
    }
   ],
   "source": [
    "import pandas as pd\n",
    "import re\n",
    "import numpy as np\n",
    "from matplotlib import pyplot as plt\n",
    "import seaborn as sns\n",
    "import tensorflow as tf\n",
    "from xgboost import XGBClassifier\n",
    "from catboost import CatBoostClassifier\n",
    "from sklearn.naive_bayes import BernoulliNB\n",
    "from sklearn.metrics import confusion_matrix, classification_report, f1_score\n",
    "from sklearn.svm import SVC\n",
    "from sklearn.ensemble import RandomForestClassifier, GradientBoostingClassifier\n",
    "from tensorflow.keras.preprocessing.text import Tokenizer\n",
    "from tensorflow.keras.preprocessing.sequence import pad_sequences\n",
    "from tensorflow.keras.callbacks import EarlyStopping\n",
    "from sklearn.feature_extraction.text import TfidfVectorizer, CountVectorizer\n",
    "from sklearn.model_selection import train_test_split, StratifiedKFold, cross_val_score\n",
    "import warnings\n",
    "import nltk\n",
    "nltk.download('stopwords')\n",
    "from nltk.corpus import stopwords\n",
    "import pickle\n",
    "\n",
    "warnings.simplefilter(action='ignore', category=FutureWarning)\n",
    "pd.set_option('display.float_format', lambda x: '%.3f' % x)"
   ]
  },
  {
   "cell_type": "markdown",
   "id": "91868e87-1a89-4241-8295-9e0201e5f5d6",
   "metadata": {},
   "source": [
    "# Veriyi Okuma"
   ]
  },
  {
   "cell_type": "code",
   "execution_count": 2,
   "id": "c7f07d9a-3fa7-4c6a-b515-9d1062b9a630",
   "metadata": {
    "scrolled": true
   },
   "outputs": [
    {
     "data": {
      "text/html": [
       "<div>\n",
       "<style scoped>\n",
       "    .dataframe tbody tr th:only-of-type {\n",
       "        vertical-align: middle;\n",
       "    }\n",
       "\n",
       "    .dataframe tbody tr th {\n",
       "        vertical-align: top;\n",
       "    }\n",
       "\n",
       "    .dataframe thead th {\n",
       "        text-align: right;\n",
       "    }\n",
       "</style>\n",
       "<table border=\"1\" class=\"dataframe\">\n",
       "  <thead>\n",
       "    <tr style=\"text-align: right;\">\n",
       "      <th></th>\n",
       "      <th>Görüş</th>\n",
       "      <th>Durum</th>\n",
       "    </tr>\n",
       "  </thead>\n",
       "  <tbody>\n",
       "    <tr>\n",
       "      <th>0</th>\n",
       "      <td>Cumhuriyetin 100. Yılı x Filenin Sultanları\\n...</td>\n",
       "      <td>Olumlu</td>\n",
       "    </tr>\n",
       "    <tr>\n",
       "      <th>1</th>\n",
       "      <td>Olimpiyat altınımız olacak!!</td>\n",
       "      <td>Olumlu</td>\n",
       "    </tr>\n",
       "    <tr>\n",
       "      <th>2</th>\n",
       "      <td>Keşke Fenerbahçe -Galatasaray süper kupa maçı ...</td>\n",
       "      <td>Olumlu</td>\n",
       "    </tr>\n",
       "    <tr>\n",
       "      <th>3</th>\n",
       "      <td>Sacmalaama olimpiyat yılı fjejsjdj hem gui ile...</td>\n",
       "      <td>Olumlu</td>\n",
       "    </tr>\n",
       "    <tr>\n",
       "      <th>4</th>\n",
       "      <td>Geçen sene bilmem de bu sene yedeğe asla geçme...</td>\n",
       "      <td>Olumlu</td>\n",
       "    </tr>\n",
       "  </tbody>\n",
       "</table>\n",
       "</div>"
      ],
      "text/plain": [
       "                                               Görüş   Durum\n",
       "0   Cumhuriyetin 100. Yılı x Filenin Sultanları\\n...  Olumlu\n",
       "1                       Olimpiyat altınımız olacak!!  Olumlu\n",
       "2  Keşke Fenerbahçe -Galatasaray süper kupa maçı ...  Olumlu\n",
       "3  Sacmalaama olimpiyat yılı fjejsjdj hem gui ile...  Olumlu\n",
       "4  Geçen sene bilmem de bu sene yedeğe asla geçme...  Olumlu"
      ]
     },
     "execution_count": 2,
     "metadata": {},
     "output_type": "execute_result"
    }
   ],
   "source": [
    "# Buradan datayı okuyoruz\n",
    "df = pd.read_excel(\"data/tweets.xlsx\")\n",
    "df.head()"
   ]
  },
  {
   "cell_type": "code",
   "execution_count": 3,
   "id": "8a6ab223-57be-44cb-9b5d-b88627cbb3f1",
   "metadata": {},
   "outputs": [
    {
     "data": {
      "image/png": "[encoded data removed]",
      "text/plain": [
       "<Figure size 640x480 with 1 Axes>"
      ]
     },
     "metadata": {},
     "output_type": "display_data"
    }
   ],
   "source": [
    "# Burada olumlu ve olumsuz metinlerin yoğunluklarını görüyoruz\n",
    "sns.countplot(x = df.Durum);"
   ]
  },
  {
   "cell_type": "markdown",
   "id": "57488cc5-b42d-4f51-add4-bbb99164f6f4",
   "metadata": {},
   "source": [
    "# Veri Ön İşleme"
   ]
  },
  {
   "cell_type": "code",
   "execution_count": 9,
   "id": "6ceabafb-74fd-459a-9999-f3dbe28f8387",
   "metadata": {},
   "outputs": [
    {
     "data": {
      "text/html": [
       "<div>\n",
       "<style scoped>\n",
       "    .dataframe tbody tr th:only-of-type {\n",
       "        vertical-align: middle;\n",
       "    }\n",
       "\n",
       "    .dataframe tbody tr th {\n",
       "        vertical-align: top;\n",
       "    }\n",
       "\n",
       "    .dataframe thead th {\n",
       "        text-align: right;\n",
       "    }\n",
       "</style>\n",
       "<table border=\"1\" class=\"dataframe\">\n",
       "  <thead>\n",
       "    <tr style=\"text-align: right;\">\n",
       "      <th></th>\n",
       "      <th>Görüş</th>\n",
       "      <th>Durum</th>\n",
       "    </tr>\n",
       "  </thead>\n",
       "  <tbody>\n",
       "    <tr>\n",
       "      <th>0</th>\n",
       "      <td>Ürün gayet güzel boyutları  dört kişilik aile ...</td>\n",
       "      <td>1</td>\n",
       "    </tr>\n",
       "    <tr>\n",
       "      <th>1</th>\n",
       "      <td>Ürünü kullandım gayet memnunum</td>\n",
       "      <td>1</td>\n",
       "    </tr>\n",
       "    <tr>\n",
       "      <th>2</th>\n",
       "      <td>Hızlı kargo</td>\n",
       "      <td>1</td>\n",
       "    </tr>\n",
       "    <tr>\n",
       "      <th>3</th>\n",
       "      <td>8 yıl önce lg 42 lm serisi almıştım ve tv den ...</td>\n",
       "      <td>0</td>\n",
       "    </tr>\n",
       "    <tr>\n",
       "      <th>4</th>\n",
       "      <td>ürün fena değil ancak gövdenin plastik olması ...</td>\n",
       "      <td>1</td>\n",
       "    </tr>\n",
       "  </tbody>\n",
       "</table>\n",
       "</div>"
      ],
      "text/plain": [
       "                                               Görüş  Durum\n",
       "0  Ürün gayet güzel boyutları  dört kişilik aile ...      1\n",
       "1                     Ürünü kullandım gayet memnunum      1\n",
       "2                                        Hızlı kargo      1\n",
       "3  8 yıl önce lg 42 lm serisi almıştım ve tv den ...      0\n",
       "4  ürün fena değil ancak gövdenin plastik olması ...      1"
      ]
     },
     "execution_count": 9,
     "metadata": {},
     "output_type": "execute_result"
    }
   ],
   "source": [
    "# Burada olumlu ve olumsuz etiketli verileri 1 ve 0 olacak şekilde etiketliyoruz\n",
    "sent_dict = {'Olumsuz': 0, 'Olumlu': 1}\n",
    "\n",
    "df['Durum'] = df['Durum'].map(sent_dict)\n",
    "df.head()"
   ]
  },
  {
   "cell_type": "code",
   "execution_count": 10,
   "id": "98672774-8cf3-4992-917e-8ed27d963958",
   "metadata": {},
   "outputs": [
    {
     "name": "stderr",
     "output_type": "stream",
     "text": [
      "<>:11: SyntaxWarning: invalid escape sequence '\\d'\n",
      "<>:11: SyntaxWarning: invalid escape sequence '\\d'\n",
      "C:\\Users\\erenn\\AppData\\Local\\Temp\\ipykernel_14504\\3724318612.py:11: SyntaxWarning: invalid escape sequence '\\d'\n",
      "  df['new_text'] = df['new_text'].str.replace(\"[\\d]\", \"\")\n"
     ]
    },
    {
     "data": {
      "text/html": [
       "<div>\n",
       "<style scoped>\n",
       "    .dataframe tbody tr th:only-of-type {\n",
       "        vertical-align: middle;\n",
       "    }\n",
       "\n",
       "    .dataframe tbody tr th {\n",
       "        vertical-align: top;\n",
       "    }\n",
       "\n",
       "    .dataframe thead th {\n",
       "        text-align: right;\n",
       "    }\n",
       "</style>\n",
       "<table border=\"1\" class=\"dataframe\">\n",
       "  <thead>\n",
       "    <tr style=\"text-align: right;\">\n",
       "      <th></th>\n",
       "      <th>Görüş</th>\n",
       "      <th>Durum</th>\n",
       "      <th>new_text</th>\n",
       "    </tr>\n",
       "  </thead>\n",
       "  <tbody>\n",
       "    <tr>\n",
       "      <th>0</th>\n",
       "      <td>Ürün gayet güzel boyutları  dört kişilik aile ...</td>\n",
       "      <td>1</td>\n",
       "      <td>ürün gayet güzel boyutları  dört kişilik aile ...</td>\n",
       "    </tr>\n",
       "    <tr>\n",
       "      <th>1</th>\n",
       "      <td>Ürünü kullandım gayet memnunum</td>\n",
       "      <td>1</td>\n",
       "      <td>ürünü kullandım gayet memnunum</td>\n",
       "    </tr>\n",
       "    <tr>\n",
       "      <th>2</th>\n",
       "      <td>Hızlı kargo</td>\n",
       "      <td>1</td>\n",
       "      <td>hızlı kargo</td>\n",
       "    </tr>\n",
       "    <tr>\n",
       "      <th>3</th>\n",
       "      <td>8 yıl önce lg 42 lm serisi almıştım ve tv den ...</td>\n",
       "      <td>0</td>\n",
       "      <td>8 yıl önce lg 42 lm serisi almıştım ve tv den ...</td>\n",
       "    </tr>\n",
       "    <tr>\n",
       "      <th>4</th>\n",
       "      <td>ürün fena değil ancak gövdenin plastik olması ...</td>\n",
       "      <td>1</td>\n",
       "      <td>ürün fena değil ancak gövdenin plastik olması ...</td>\n",
       "    </tr>\n",
       "  </tbody>\n",
       "</table>\n",
       "</div>"
      ],
      "text/plain": [
       "                                               Görüş  Durum  \\\n",
       "0  Ürün gayet güzel boyutları  dört kişilik aile ...      1   \n",
       "1                     Ürünü kullandım gayet memnunum      1   \n",
       "2                                        Hızlı kargo      1   \n",
       "3  8 yıl önce lg 42 lm serisi almıştım ve tv den ...      0   \n",
       "4  ürün fena değil ancak gövdenin plastik olması ...      1   \n",
       "\n",
       "                                            new_text  \n",
       "0  ürün gayet güzel boyutları  dört kişilik aile ...  \n",
       "1                     ürünü kullandım gayet memnunum  \n",
       "2                                        hızlı kargo  \n",
       "3  8 yıl önce lg 42 lm serisi almıştım ve tv den ...  \n",
       "4  ürün fena değil ancak gövdenin plastik olması ...  "
      ]
     },
     "execution_count": 10,
     "metadata": {},
     "output_type": "execute_result"
    }
   ],
   "source": [
    "# Burada veri üzerinde ön işleme yapıyoruz\n",
    "def clean_text(text):\n",
    "\n",
    "    unwanted_pattern = r'[!.\\n,:“”,?@#\"]'\n",
    "    regex = re.compile(unwanted_pattern)\n",
    "    cleaned_text = regex.sub(\" \", text)\n",
    "    \n",
    "    return cleaned_text\n",
    "\n",
    "df['new_text'] = df['Görüş'].astype(str).apply(clean_text)\n",
    "df['new_text'] = df['new_text'].str.replace(\"[\\d]\", \"\")\n",
    "df['new_text'] = df['new_text'].str.lower()\n",
    "\n",
    "df.head()"
   ]
  },
  {
   "cell_type": "code",
   "execution_count": 11,
   "id": "63f6256d-4b08-44c3-b31b-b6914d9fee71",
   "metadata": {},
   "outputs": [
    {
     "data": {
      "text/plain": [
       "Görüş       0\n",
       "Durum       0\n",
       "new_text    0\n",
       "dtype: int64"
      ]
     },
     "execution_count": 11,
     "metadata": {},
     "output_type": "execute_result"
    }
   ],
   "source": [
    "# Değer olmayan verileri tablodan siliyoruz\n",
    "df = df.dropna()\n",
    "df.isna().sum()"
   ]
  },
  {
   "cell_type": "code",
   "execution_count": 12,
   "id": "88e4dc4a-d481-4143-8b19-cca0ecd39b26",
   "metadata": {},
   "outputs": [
    {
     "data": {
      "text/plain": [
       "['acaba', 'ama', 'aslında', 'az', 'bazı']"
      ]
     },
     "execution_count": 12,
     "metadata": {},
     "output_type": "execute_result"
    }
   ],
   "source": [
    "# Burada bazı gereksiz kelimeri silmek için NLTK kütüphanesinden stopwords fonksiyonunu kullanıyoruz. Bazı gereksiz kelimeri gösterelim.\n",
    "ineffective = stopwords.words('turkish')\n",
    "ineffective[:5]"
   ]
  },
  {
   "cell_type": "code",
   "execution_count": 13,
   "id": "190914ef-ff60-443f-8271-62a0b7bb00cc",
   "metadata": {},
   "outputs": [
    {
     "data": {
      "text/html": [
       "<div>\n",
       "<style scoped>\n",
       "    .dataframe tbody tr th:only-of-type {\n",
       "        vertical-align: middle;\n",
       "    }\n",
       "\n",
       "    .dataframe tbody tr th {\n",
       "        vertical-align: top;\n",
       "    }\n",
       "\n",
       "    .dataframe thead th {\n",
       "        text-align: right;\n",
       "    }\n",
       "</style>\n",
       "<table border=\"1\" class=\"dataframe\">\n",
       "  <thead>\n",
       "    <tr style=\"text-align: right;\">\n",
       "      <th></th>\n",
       "      <th>Görüş</th>\n",
       "      <th>Durum</th>\n",
       "      <th>new_text</th>\n",
       "    </tr>\n",
       "  </thead>\n",
       "  <tbody>\n",
       "    <tr>\n",
       "      <th>0</th>\n",
       "      <td>Ürün gayet güzel boyutları  dört kişilik aile ...</td>\n",
       "      <td>1</td>\n",
       "      <td>ürün gayet güzel boyutları dört kişilik aile y...</td>\n",
       "    </tr>\n",
       "    <tr>\n",
       "      <th>1</th>\n",
       "      <td>Ürünü kullandım gayet memnunum</td>\n",
       "      <td>1</td>\n",
       "      <td>ürünü kullandım gayet memnunum</td>\n",
       "    </tr>\n",
       "    <tr>\n",
       "      <th>2</th>\n",
       "      <td>Hızlı kargo</td>\n",
       "      <td>1</td>\n",
       "      <td>hızlı kargo</td>\n",
       "    </tr>\n",
       "    <tr>\n",
       "      <th>3</th>\n",
       "      <td>8 yıl önce lg 42 lm serisi almıştım ve tv den ...</td>\n",
       "      <td>0</td>\n",
       "      <td>8 yıl önce lg 42 lm serisi almıştım tv den gay...</td>\n",
       "    </tr>\n",
       "    <tr>\n",
       "      <th>4</th>\n",
       "      <td>ürün fena değil ancak gövdenin plastik olması ...</td>\n",
       "      <td>1</td>\n",
       "      <td>ürün fena değil ancak gövdenin plastik olması ...</td>\n",
       "    </tr>\n",
       "  </tbody>\n",
       "</table>\n",
       "</div>"
      ],
      "text/plain": [
       "                                               Görüş  Durum  \\\n",
       "0  Ürün gayet güzel boyutları  dört kişilik aile ...      1   \n",
       "1                     Ürünü kullandım gayet memnunum      1   \n",
       "2                                        Hızlı kargo      1   \n",
       "3  8 yıl önce lg 42 lm serisi almıştım ve tv den ...      0   \n",
       "4  ürün fena değil ancak gövdenin plastik olması ...      1   \n",
       "\n",
       "                                            new_text  \n",
       "0  ürün gayet güzel boyutları dört kişilik aile y...  \n",
       "1                     ürünü kullandım gayet memnunum  \n",
       "2                                        hızlı kargo  \n",
       "3  8 yıl önce lg 42 lm serisi almıştım tv den gay...  \n",
       "4  ürün fena değil ancak gövdenin plastik olması ...  "
      ]
     },
     "execution_count": 13,
     "metadata": {},
     "output_type": "execute_result"
    }
   ],
   "source": [
    "df['new_text'] = df['new_text'].apply(lambda x: \" \".join(x for x in x.split() if x not in ineffective))\n",
    "\n",
    "df.head()"
   ]
  },
  {
   "cell_type": "code",
   "execution_count": 15,
   "id": "76675055-8398-456f-96a9-b8ba9452c90e",
   "metadata": {},
   "outputs": [],
   "source": [
    "# Yapılan ön işlemli dataframe'yi kaydedelim\n",
    "df.to_csv(\"data/tweets2.csv\")"
   ]
  },
  {
   "cell_type": "code",
   "execution_count": 49,
   "id": "17aaf7d2-8377-452b-8da7-5cfdb20a4e41",
   "metadata": {},
   "outputs": [],
   "source": [
    "# TF-IDF'yi metindeki bir kelimenin önemini ölçmek için kullanıyoruz. Böylece bir kelimenin cümledeki sıklık değeri metnin tamamındaki sıklık değerine bölünerek o sözcüğe bir ağırlık değeri verilir.\n",
    "# CountVectorizer, bir metindeki her kelimenin geçiş sayısını sayarak bir dağılım matrisi oluşturur.Bu matriste, her kelime bir sütun ve her metin bir satırdır.\n",
    "X_train, X_test, y_train, y_test = train_test_split(df['new_text'], df['Durum'], test_size=0.2, random_state=42)\n",
    "\n",
    "tf_vector = TfidfVectorizer(max_features =  5000)\n",
    "ct_vector = CountVectorizer(max_features = 5000)\n",
    "\n",
    "#X = tf_vector.fit_transform(df['new_text'])\n",
    "#Y = df['sentiment']\n",
    "\n",
    "X_train_vec = tf_vector.fit_transform(X_train)\n",
    "X_test_vec = tf_vector.transform(X_test)\n",
    "X_train_ct = ct_vector.fit_transform(X_train)\n",
    "X_test_ct = ct_vector.transform(X_test)"
   ]
  },
  {
   "cell_type": "markdown",
   "id": "a81c63e0-820b-455f-9af0-62cbcd8a7919",
   "metadata": {},
   "source": [
    "# Makine Öğrenmesi Modelleri"
   ]
  },
  {
   "cell_type": "markdown",
   "id": "e6125b71-06fb-4009-ac4b-9e0874bbe41c",
   "metadata": {},
   "source": [
    "## Naive Bayes"
   ]
  },
  {
   "cell_type": "code",
   "execution_count": 50,
   "id": "8a2d9a5c-5f62-49e9-b353-0ab5896a4a11",
   "metadata": {},
   "outputs": [
    {
     "data": {
      "image/png": "[encoded data removed]",
      "text/plain": [
       "<Figure size 640x480 with 1 Axes>"
      ]
     },
     "metadata": {},
     "output_type": "display_data"
    },
    {
     "name": "stdout",
     "output_type": "stream",
     "text": [
      "              precision    recall  f1-score   support\n",
      "\n",
      "           0       0.92      0.72      0.81       843\n",
      "           1       0.77      0.93      0.85       855\n",
      "\n",
      "    accuracy                           0.83      1698\n",
      "   macro avg       0.84      0.83      0.83      1698\n",
      "weighted avg       0.84      0.83      0.83      1698\n",
      "\n"
     ]
    }
   ],
   "source": [
    "nb_tf = BernoulliNB()\n",
    "nb_tf.fit(X_train_vec, y_train)\n",
    "\n",
    "def evaluate_model(model, X_test, y_test):\n",
    "    y_pred = model.predict(X_test)\n",
    "    cm = confusion_matrix(y_test, y_pred)\n",
    "    sns.heatmap(cm, annot=True, cbar=False, fmt=\".4g\")\n",
    "    plt.show()\n",
    "    print(classification_report(y_test, y_pred))\n",
    "    \n",
    "result = pd.DataFrame(columns=['TF_Vectorizer_accuracy', 'Count_Vectorizer_accuracy', 'Model'])\n",
    "    \n",
    "evaluate_model(nb_tf, X_test_vec, y_test)\n",
    "\n",
    "# Precision (Hassasiyet): Pozitif olarak tahmin edilen örnekler arasında gerçekten pozitif olanların oranı.\n",
    "# Recall (Duyarlılık veya yeniden çağırma): Gerçek pozitif örneklerin, pozitif olarak doğru tahmin edilenlerle oranı.\n",
    "# F1-Score: Hassasiyet ve duyarlılığın harmonik ortalaması. Dengeli bir metrik olup, her iki değeri de dikkate alır.\n",
    "# Support (Destek): Her sınıftaki gerçek örnek sayısı."
   ]
  },
  {
   "cell_type": "code",
   "execution_count": 51,
   "id": "c086a42e-c3f7-4d1c-afd3-a9df2ee04266",
   "metadata": {},
   "outputs": [
    {
     "data": {
      "image/png": "[encoded data removed]",
      "text/plain": [
       "<Figure size 640x480 with 1 Axes>"
      ]
     },
     "metadata": {},
     "output_type": "display_data"
    },
    {
     "name": "stdout",
     "output_type": "stream",
     "text": [
      "              precision    recall  f1-score   support\n",
      "\n",
      "           0       0.92      0.72      0.81       843\n",
      "           1       0.77      0.93      0.85       855\n",
      "\n",
      "    accuracy                           0.83      1698\n",
      "   macro avg       0.84      0.83      0.83      1698\n",
      "weighted avg       0.84      0.83      0.83      1698\n",
      "\n"
     ]
    },
    {
     "data": {
      "text/html": [
       "<div>\n",
       "<style scoped>\n",
       "    .dataframe tbody tr th:only-of-type {\n",
       "        vertical-align: middle;\n",
       "    }\n",
       "\n",
       "    .dataframe tbody tr th {\n",
       "        vertical-align: top;\n",
       "    }\n",
       "\n",
       "    .dataframe thead th {\n",
       "        text-align: right;\n",
       "    }\n",
       "</style>\n",
       "<table border=\"1\" class=\"dataframe\">\n",
       "  <thead>\n",
       "    <tr style=\"text-align: right;\">\n",
       "      <th></th>\n",
       "      <th>TF_Vectorizer_accuracy</th>\n",
       "      <th>Count_Vectorizer_accuracy</th>\n",
       "      <th>Model</th>\n",
       "    </tr>\n",
       "  </thead>\n",
       "  <tbody>\n",
       "    <tr>\n",
       "      <th>0</th>\n",
       "      <td>0.829</td>\n",
       "      <td>0.829</td>\n",
       "      <td>Naive Bayes</td>\n",
       "    </tr>\n",
       "  </tbody>\n",
       "</table>\n",
       "</div>"
      ],
      "text/plain": [
       "   TF_Vectorizer_accuracy  Count_Vectorizer_accuracy        Model\n",
       "0                   0.829                      0.829  Naive Bayes"
      ]
     },
     "execution_count": 51,
     "metadata": {},
     "output_type": "execute_result"
    }
   ],
   "source": [
    "nb_ct = BernoulliNB()\n",
    "nb_ct.fit(X_train_ct, y_train)\n",
    "\n",
    "new_row = pd.DataFrame({\n",
    "    'Model': ['Naive Bayes'],\n",
    "    'Count_Vectorizer_accuracy': [nb_ct.score(X_test_ct, y_test)],\n",
    "    'TF_Vectorizer_accuracy': [nb_tf.score(X_test_vec, y_test)]\n",
    "})\n",
    "\n",
    "evaluate_model(nb_ct, X_test_ct, y_test)\n",
    "result = pd.concat([result, new_row], ignore_index=True)\n",
    "\n",
    "result"
   ]
  },
  {
   "cell_type": "markdown",
   "id": "8946a8ea-7569-495c-9db7-ddca2b227e38",
   "metadata": {},
   "source": [
    "## Support Vector Machine (SVM)"
   ]
  },
  {
   "cell_type": "code",
   "execution_count": 52,
   "id": "04e4c3ee-cb19-4cb5-89fc-dfb517e889a0",
   "metadata": {},
   "outputs": [
    {
     "data": {
      "image/png": "[encoded data removed]",
      "text/plain": [
       "<Figure size 640x480 with 1 Axes>"
      ]
     },
     "metadata": {},
     "output_type": "display_data"
    },
    {
     "name": "stdout",
     "output_type": "stream",
     "text": [
      "              precision    recall  f1-score   support\n",
      "\n",
      "           0       0.89      0.93      0.91       843\n",
      "           1       0.93      0.89      0.91       855\n",
      "\n",
      "    accuracy                           0.91      1698\n",
      "   macro avg       0.91      0.91      0.91      1698\n",
      "weighted avg       0.91      0.91      0.91      1698\n",
      "\n"
     ]
    }
   ],
   "source": [
    "svc_tf = SVC()\n",
    "svc_tf.fit(X_train_vec, y_train)\n",
    "evaluate_model(svc_tf, X_test_vec, y_test)\n",
    "\n",
    "# Precision (Hassasiyet): Pozitif olarak tahmin edilen örnekler arasında gerçekten pozitif olanların oranı.\n",
    "# Recall (Duyarlılık veya yeniden çağırma): Gerçek pozitif örneklerin, pozitif olarak doğru tahmin edilenlerle oranı.\n",
    "# F1-Score: Hassasiyet ve duyarlılığın harmonik ortalaması. Dengeli bir metrik olup, her iki değeri de dikkate alır.\n",
    "# Support (Destek): Her sınıftaki gerçek örnek sayısı."
   ]
  },
  {
   "cell_type": "code",
   "execution_count": 53,
   "id": "1c27c5d9-84c8-4b12-adf7-69668db93c96",
   "metadata": {},
   "outputs": [
    {
     "data": {
      "image/png": "[encoded data removed]",
      "text/plain": [
       "<Figure size 640x480 with 1 Axes>"
      ]
     },
     "metadata": {},
     "output_type": "display_data"
    },
    {
     "name": "stdout",
     "output_type": "stream",
     "text": [
      "              precision    recall  f1-score   support\n",
      "\n",
      "           0       0.86      0.93      0.89       843\n",
      "           1       0.92      0.85      0.88       855\n",
      "\n",
      "    accuracy                           0.89      1698\n",
      "   macro avg       0.89      0.89      0.89      1698\n",
      "weighted avg       0.89      0.89      0.89      1698\n",
      "\n"
     ]
    },
    {
     "data": {
      "text/html": [
       "<div>\n",
       "<style scoped>\n",
       "    .dataframe tbody tr th:only-of-type {\n",
       "        vertical-align: middle;\n",
       "    }\n",
       "\n",
       "    .dataframe tbody tr th {\n",
       "        vertical-align: top;\n",
       "    }\n",
       "\n",
       "    .dataframe thead th {\n",
       "        text-align: right;\n",
       "    }\n",
       "</style>\n",
       "<table border=\"1\" class=\"dataframe\">\n",
       "  <thead>\n",
       "    <tr style=\"text-align: right;\">\n",
       "      <th></th>\n",
       "      <th>TF_Vectorizer_accuracy</th>\n",
       "      <th>Count_Vectorizer_accuracy</th>\n",
       "      <th>Model</th>\n",
       "    </tr>\n",
       "  </thead>\n",
       "  <tbody>\n",
       "    <tr>\n",
       "      <th>0</th>\n",
       "      <td>0.829</td>\n",
       "      <td>0.829</td>\n",
       "      <td>Naive Bayes</td>\n",
       "    </tr>\n",
       "    <tr>\n",
       "      <th>1</th>\n",
       "      <td>0.907</td>\n",
       "      <td>0.888</td>\n",
       "      <td>Support Vector Machine</td>\n",
       "    </tr>\n",
       "  </tbody>\n",
       "</table>\n",
       "</div>"
      ],
      "text/plain": [
       "   TF_Vectorizer_accuracy  Count_Vectorizer_accuracy                   Model\n",
       "0                   0.829                      0.829             Naive Bayes\n",
       "1                   0.907                      0.888  Support Vector Machine"
      ]
     },
     "execution_count": 53,
     "metadata": {},
     "output_type": "execute_result"
    }
   ],
   "source": [
    "svc_ct = SVC()\n",
    "svc_ct.fit(X_train_ct, y_train)\n",
    "evaluate_model(svc_ct, X_test_ct, y_test)\n",
    "\n",
    "new_row_svc = pd.DataFrame({\n",
    "    'Model': ['Support Vector Machine'],\n",
    "    'Count_Vectorizer_accuracy': [svc_ct.score(X_test_ct, y_test)],\n",
    "    'TF_Vectorizer_accuracy': [svc_tf.score(X_test_vec, y_test)]\n",
    "})\n",
    "\n",
    "result = pd.concat([result, new_row_svc], ignore_index=True)\n",
    "result"
   ]
  },
  {
   "cell_type": "markdown",
   "id": "44a93520-12e7-4181-b02d-88c3ad575abe",
   "metadata": {},
   "source": [
    "## XGBOOST"
   ]
  },
  {
   "cell_type": "code",
   "execution_count": 54,
   "id": "7421bffb-155d-4917-b02c-418c47c6ebc6",
   "metadata": {},
   "outputs": [
    {
     "data": {
      "image/png": "[encoded data removed]",
      "text/plain": [
       "<Figure size 640x480 with 1 Axes>"
      ]
     },
     "metadata": {},
     "output_type": "display_data"
    },
    {
     "name": "stdout",
     "output_type": "stream",
     "text": [
      "              precision    recall  f1-score   support\n",
      "\n",
      "           0       0.85      0.91      0.88       843\n",
      "           1       0.91      0.84      0.88       855\n",
      "\n",
      "    accuracy                           0.88      1698\n",
      "   macro avg       0.88      0.88      0.88      1698\n",
      "weighted avg       0.88      0.88      0.88      1698\n",
      "\n"
     ]
    }
   ],
   "source": [
    "xb_tf = XGBClassifier()\n",
    "xb_tf.fit(X_train_vec, y_train)\n",
    "evaluate_model(xb_tf, X_test_vec, y_test)\n",
    "\n",
    "# Precision (Hassasiyet): Pozitif olarak tahmin edilen örnekler arasında gerçekten pozitif olanların oranı.\n",
    "# Recall (Duyarlılık veya yeniden çağırma): Gerçek pozitif örneklerin, pozitif olarak doğru tahmin edilenlerle oranı.\n",
    "# F1-Score: Hassasiyet ve duyarlılığın harmonik ortalaması. Dengeli bir metrik olup, her iki değeri de dikkate alır.\n",
    "# Support (Destek): Her sınıftaki gerçek örnek sayısı."
   ]
  },
  {
   "cell_type": "code",
   "execution_count": 55,
   "id": "fc055056-0c44-44e6-9923-05d5b3463f16",
   "metadata": {},
   "outputs": [
    {
     "data": {
      "image/png": "[encoded data removed]",
      "text/plain": [
       "<Figure size 640x480 with 1 Axes>"
      ]
     },
     "metadata": {},
     "output_type": "display_data"
    },
    {
     "name": "stdout",
     "output_type": "stream",
     "text": [
      "              precision    recall  f1-score   support\n",
      "\n",
      "           0       0.86      0.90      0.88       843\n",
      "           1       0.89      0.85      0.87       855\n",
      "\n",
      "    accuracy                           0.88      1698\n",
      "   macro avg       0.88      0.88      0.88      1698\n",
      "weighted avg       0.88      0.88      0.88      1698\n",
      "\n"
     ]
    },
    {
     "data": {
      "text/html": [
       "<div>\n",
       "<style scoped>\n",
       "    .dataframe tbody tr th:only-of-type {\n",
       "        vertical-align: middle;\n",
       "    }\n",
       "\n",
       "    .dataframe tbody tr th {\n",
       "        vertical-align: top;\n",
       "    }\n",
       "\n",
       "    .dataframe thead th {\n",
       "        text-align: right;\n",
       "    }\n",
       "</style>\n",
       "<table border=\"1\" class=\"dataframe\">\n",
       "  <thead>\n",
       "    <tr style=\"text-align: right;\">\n",
       "      <th></th>\n",
       "      <th>TF_Vectorizer_accuracy</th>\n",
       "      <th>Count_Vectorizer_accuracy</th>\n",
       "      <th>Model</th>\n",
       "    </tr>\n",
       "  </thead>\n",
       "  <tbody>\n",
       "    <tr>\n",
       "      <th>0</th>\n",
       "      <td>0.829</td>\n",
       "      <td>0.829</td>\n",
       "      <td>Naive Bayes</td>\n",
       "    </tr>\n",
       "    <tr>\n",
       "      <th>1</th>\n",
       "      <td>0.907</td>\n",
       "      <td>0.888</td>\n",
       "      <td>Support Vector Machine</td>\n",
       "    </tr>\n",
       "    <tr>\n",
       "      <th>2</th>\n",
       "      <td>0.879</td>\n",
       "      <td>0.876</td>\n",
       "      <td>XGBOOST</td>\n",
       "    </tr>\n",
       "  </tbody>\n",
       "</table>\n",
       "</div>"
      ],
      "text/plain": [
       "   TF_Vectorizer_accuracy  Count_Vectorizer_accuracy                   Model\n",
       "0                   0.829                      0.829             Naive Bayes\n",
       "1                   0.907                      0.888  Support Vector Machine\n",
       "2                   0.879                      0.876                 XGBOOST"
      ]
     },
     "execution_count": 55,
     "metadata": {},
     "output_type": "execute_result"
    }
   ],
   "source": [
    "xb_ct = XGBClassifier()\n",
    "xb_ct.fit(X_train_ct, y_train)\n",
    "evaluate_model(xb_ct, X_test_ct, y_test)\n",
    "\n",
    "new_row_xb = pd.DataFrame({\n",
    "    'Model': ['XGBOOST'],\n",
    "    'Count_Vectorizer_accuracy': [xb_ct.score(X_test_ct, y_test)],\n",
    "    'TF_Vectorizer_accuracy': [xb_tf.score(X_test_vec, y_test)]\n",
    "})\n",
    "\n",
    "result = pd.concat([result, new_row_xb], ignore_index=True)\n",
    "\n",
    "result"
   ]
  },
  {
   "cell_type": "markdown",
   "id": "8d90cf6e-4656-4f6d-9b72-948215a68f2f",
   "metadata": {},
   "source": [
    "## CATBOOST"
   ]
  },
  {
   "cell_type": "code",
   "execution_count": 56,
   "id": "88298995-edee-41db-87ad-7a2dd74f9a10",
   "metadata": {},
   "outputs": [
    {
     "data": {
      "image/png": "[encoded data removed]",
      "text/plain": [
       "<Figure size 640x480 with 1 Axes>"
      ]
     },
     "metadata": {},
     "output_type": "display_data"
    },
    {
     "name": "stdout",
     "output_type": "stream",
     "text": [
      "              precision    recall  f1-score   support\n",
      "\n",
      "           0       0.86      0.93      0.89       843\n",
      "           1       0.92      0.86      0.89       855\n",
      "\n",
      "    accuracy                           0.89      1698\n",
      "   macro avg       0.89      0.89      0.89      1698\n",
      "weighted avg       0.89      0.89      0.89      1698\n",
      "\n"
     ]
    }
   ],
   "source": [
    "cb_tf = CatBoostClassifier()\n",
    "cb_tf.fit(X_train_vec, y_train, verbose = 0)\n",
    "evaluate_model(cb_tf, X_test_vec, y_test)\n",
    "\n",
    "# Precision (Hassasiyet): Pozitif olarak tahmin edilen örnekler arasında gerçekten pozitif olanların oranı.\n",
    "# Recall (Duyarlılık veya yeniden çağırma): Gerçek pozitif örneklerin, pozitif olarak doğru tahmin edilenlerle oranı.\n",
    "# F1-Score: Hassasiyet ve duyarlılığın harmonik ortalaması. Dengeli bir metrik olup, her iki değeri de dikkate alır.\n",
    "# Support (Destek): Her sınıftaki gerçek örnek sayısı."
   ]
  },
  {
   "cell_type": "code",
   "execution_count": 57,
   "id": "8a442eb1-53cd-4310-968a-0778a561e0d8",
   "metadata": {},
   "outputs": [
    {
     "data": {
      "image/png": "[encoded data removed]",
      "text/plain": [
       "<Figure size 640x480 with 1 Axes>"
      ]
     },
     "metadata": {},
     "output_type": "display_data"
    },
    {
     "name": "stdout",
     "output_type": "stream",
     "text": [
      "              precision    recall  f1-score   support\n",
      "\n",
      "           0       0.87      0.91      0.89       843\n",
      "           1       0.91      0.86      0.88       855\n",
      "\n",
      "    accuracy                           0.89      1698\n",
      "   macro avg       0.89      0.89      0.89      1698\n",
      "weighted avg       0.89      0.89      0.89      1698\n",
      "\n"
     ]
    },
    {
     "data": {
      "text/html": [
       "<div>\n",
       "<style scoped>\n",
       "    .dataframe tbody tr th:only-of-type {\n",
       "        vertical-align: middle;\n",
       "    }\n",
       "\n",
       "    .dataframe tbody tr th {\n",
       "        vertical-align: top;\n",
       "    }\n",
       "\n",
       "    .dataframe thead th {\n",
       "        text-align: right;\n",
       "    }\n",
       "</style>\n",
       "<table border=\"1\" class=\"dataframe\">\n",
       "  <thead>\n",
       "    <tr style=\"text-align: right;\">\n",
       "      <th></th>\n",
       "      <th>TF_Vectorizer_accuracy</th>\n",
       "      <th>Count_Vectorizer_accuracy</th>\n",
       "      <th>Model</th>\n",
       "    </tr>\n",
       "  </thead>\n",
       "  <tbody>\n",
       "    <tr>\n",
       "      <th>0</th>\n",
       "      <td>0.829</td>\n",
       "      <td>0.829</td>\n",
       "      <td>Naive Bayes</td>\n",
       "    </tr>\n",
       "    <tr>\n",
       "      <th>1</th>\n",
       "      <td>0.907</td>\n",
       "      <td>0.888</td>\n",
       "      <td>Support Vector Machine</td>\n",
       "    </tr>\n",
       "    <tr>\n",
       "      <th>2</th>\n",
       "      <td>0.879</td>\n",
       "      <td>0.876</td>\n",
       "      <td>XGBOOST</td>\n",
       "    </tr>\n",
       "    <tr>\n",
       "      <th>3</th>\n",
       "      <td>0.890</td>\n",
       "      <td>0.886</td>\n",
       "      <td>CATBOOST</td>\n",
       "    </tr>\n",
       "  </tbody>\n",
       "</table>\n",
       "</div>"
      ],
      "text/plain": [
       "   TF_Vectorizer_accuracy  Count_Vectorizer_accuracy                   Model\n",
       "0                   0.829                      0.829             Naive Bayes\n",
       "1                   0.907                      0.888  Support Vector Machine\n",
       "2                   0.879                      0.876                 XGBOOST\n",
       "3                   0.890                      0.886                CATBOOST"
      ]
     },
     "execution_count": 57,
     "metadata": {},
     "output_type": "execute_result"
    }
   ],
   "source": [
    "cb_ct = CatBoostClassifier()\n",
    "cb_ct.fit(X_train_ct, y_train, verbose=0)\n",
    "evaluate_model(cb_ct, X_test_ct, y_test)\n",
    "\n",
    "new_row_cb = pd.DataFrame({\n",
    "    'Model': ['CATBOOST'],\n",
    "    'Count_Vectorizer_accuracy': [cb_ct.score(X_test_ct, y_test)],\n",
    "    'TF_Vectorizer_accuracy': [cb_tf.score(X_test_vec, y_test)]\n",
    "})\n",
    "\n",
    "result = pd.concat([result, new_row_cb], ignore_index=True)\n",
    "result"
   ]
  },
  {
   "cell_type": "markdown",
   "id": "747c2865-7e86-4a3f-b2c9-4f5fae7fb997",
   "metadata": {},
   "source": [
    "# Derin Öğrenme Modelleri"
   ]
  },
  {
   "cell_type": "markdown",
   "id": "ad6e8c3a-1ad3-4f0c-adc0-05f190f7ee4b",
   "metadata": {},
   "source": [
    "## ANN"
   ]
  },
  {
   "cell_type": "code",
   "execution_count": 58,
   "id": "8b379aeb-04b9-494a-9162-12ad68cb78a9",
   "metadata": {},
   "outputs": [],
   "source": [
    "train_df, test_df = train_test_split(df, test_size=0.2, random_state=42)\n",
    "\n",
    "# Tokenizer'ı yarat və train datasını tokenize et\n",
    "# Create Tokenizer and tokenize train data\n",
    "num_words = 10000\n",
    "tokenizer = Tokenizer(num_words=num_words)\n",
    "tokenizer.fit_on_texts(train_df[\"Görüş\"])\n",
    "\n",
    "# Tokenize edilmiş dataları tamamla (padding et)\n",
    "# Padding tokenized data\n",
    "maxlen = 200\n",
    "X_train_dl = pad_sequences(tokenizer.texts_to_sequences(train_df[\"Görüş\"]), maxlen=maxlen)\n",
    "X_test_dl = pad_sequences(tokenizer.texts_to_sequences(test_df[\"Görüş\"]), maxlen=maxlen)\n",
    "\n",
    "y_train = train_df[\"Durum\"].values\n",
    "y_test = test_df[\"Durum\"].values"
   ]
  },
  {
   "cell_type": "code",
   "execution_count": 59,
   "id": "fa0be580-5edf-4ee0-808e-967e0c5c922a",
   "metadata": {},
   "outputs": [
    {
     "name": "stderr",
     "output_type": "stream",
     "text": [
      "C:\\Users\\erenn\\AppData\\Local\\Programs\\Python\\Python312\\Lib\\site-packages\\keras\\src\\layers\\core\\dense.py:87: UserWarning: Do not pass an `input_shape`/`input_dim` argument to a layer. When using Sequential models, prefer using an `Input(shape)` object as the first layer in the model instead.\n",
      "  super().__init__(activity_regularizer=activity_regularizer, **kwargs)\n"
     ]
    },
    {
     "data": {
      "text/html": [
       "<pre style=\"white-space:pre;overflow-x:auto;line-height:normal;font-family:Menlo,'DejaVu Sans Mono',consolas,'Courier New',monospace\"><span style=\"font-weight: bold\">Model: \"sequential_4\"</span>\n",
       "</pre>\n"
      ],
      "text/plain": [
       "\u001b[1mModel: \"sequential_4\"\u001b[0m\n"
      ]
     },
     "metadata": {},
     "output_type": "display_data"
    },
    {
     "data": {
      "text/html": [
       "<pre style=\"white-space:pre;overflow-x:auto;line-height:normal;font-family:Menlo,'DejaVu Sans Mono',consolas,'Courier New',monospace\">┏━━━━━━━━━━━━━━━━━━━━━━━━━━━━━━━━━━━━━━┳━━━━━━━━━━━━━━━━━━━━━━━━━━━━━┳━━━━━━━━━━━━━━━━━┓\n",
       "┃<span style=\"font-weight: bold\"> Layer (type)                         </span>┃<span style=\"font-weight: bold\"> Output Shape                </span>┃<span style=\"font-weight: bold\">         Param # </span>┃\n",
       "┡━━━━━━━━━━━━━━━━━━━━━━━━━━━━━━━━━━━━━━╇━━━━━━━━━━━━━━━━━━━━━━━━━━━━━╇━━━━━━━━━━━━━━━━━┩\n",
       "│ dense_9 (<span style=\"color: #0087ff; text-decoration-color: #0087ff\">Dense</span>)                      │ (<span style=\"color: #00d7ff; text-decoration-color: #00d7ff\">None</span>, <span style=\"color: #00af00; text-decoration-color: #00af00\">128</span>)                 │          <span style=\"color: #00af00; text-decoration-color: #00af00\">25,728</span> │\n",
       "├──────────────────────────────────────┼─────────────────────────────┼─────────────────┤\n",
       "│ dense_10 (<span style=\"color: #0087ff; text-decoration-color: #0087ff\">Dense</span>)                     │ (<span style=\"color: #00d7ff; text-decoration-color: #00d7ff\">None</span>, <span style=\"color: #00af00; text-decoration-color: #00af00\">64</span>)                  │           <span style=\"color: #00af00; text-decoration-color: #00af00\">8,256</span> │\n",
       "├──────────────────────────────────────┼─────────────────────────────┼─────────────────┤\n",
       "│ dense_11 (<span style=\"color: #0087ff; text-decoration-color: #0087ff\">Dense</span>)                     │ (<span style=\"color: #00d7ff; text-decoration-color: #00d7ff\">None</span>, <span style=\"color: #00af00; text-decoration-color: #00af00\">1</span>)                   │              <span style=\"color: #00af00; text-decoration-color: #00af00\">65</span> │\n",
       "└──────────────────────────────────────┴─────────────────────────────┴─────────────────┘\n",
       "</pre>\n"
      ],
      "text/plain": [
       "┏━━━━━━━━━━━━━━━━━━━━━━━━━━━━━━━━━━━━━━┳━━━━━━━━━━━━━━━━━━━━━━━━━━━━━┳━━━━━━━━━━━━━━━━━┓\n",
       "┃\u001b[1m \u001b[0m\u001b[1mLayer (type)                        \u001b[0m\u001b[1m \u001b[0m┃\u001b[1m \u001b[0m\u001b[1mOutput Shape               \u001b[0m\u001b[1m \u001b[0m┃\u001b[1m \u001b[0m\u001b[1m        Param #\u001b[0m\u001b[1m \u001b[0m┃\n",
       "┡━━━━━━━━━━━━━━━━━━━━━━━━━━━━━━━━━━━━━━╇━━━━━━━━━━━━━━━━━━━━━━━━━━━━━╇━━━━━━━━━━━━━━━━━┩\n",
       "│ dense_9 (\u001b[38;5;33mDense\u001b[0m)                      │ (\u001b[38;5;45mNone\u001b[0m, \u001b[38;5;34m128\u001b[0m)                 │          \u001b[38;5;34m25,728\u001b[0m │\n",
       "├──────────────────────────────────────┼─────────────────────────────┼─────────────────┤\n",
       "│ dense_10 (\u001b[38;5;33mDense\u001b[0m)                     │ (\u001b[38;5;45mNone\u001b[0m, \u001b[38;5;34m64\u001b[0m)                  │           \u001b[38;5;34m8,256\u001b[0m │\n",
       "├──────────────────────────────────────┼─────────────────────────────┼─────────────────┤\n",
       "│ dense_11 (\u001b[38;5;33mDense\u001b[0m)                     │ (\u001b[38;5;45mNone\u001b[0m, \u001b[38;5;34m1\u001b[0m)                   │              \u001b[38;5;34m65\u001b[0m │\n",
       "└──────────────────────────────────────┴─────────────────────────────┴─────────────────┘\n"
      ]
     },
     "metadata": {},
     "output_type": "display_data"
    },
    {
     "data": {
      "text/html": [
       "<pre style=\"white-space:pre;overflow-x:auto;line-height:normal;font-family:Menlo,'DejaVu Sans Mono',consolas,'Courier New',monospace\"><span style=\"font-weight: bold\"> Total params: </span><span style=\"color: #00af00; text-decoration-color: #00af00\">34,049</span> (133.00 KB)\n",
       "</pre>\n"
      ],
      "text/plain": [
       "\u001b[1m Total params: \u001b[0m\u001b[38;5;34m34,049\u001b[0m (133.00 KB)\n"
      ]
     },
     "metadata": {},
     "output_type": "display_data"
    },
    {
     "data": {
      "text/html": [
       "<pre style=\"white-space:pre;overflow-x:auto;line-height:normal;font-family:Menlo,'DejaVu Sans Mono',consolas,'Courier New',monospace\"><span style=\"font-weight: bold\"> Trainable params: </span><span style=\"color: #00af00; text-decoration-color: #00af00\">34,049</span> (133.00 KB)\n",
       "</pre>\n"
      ],
      "text/plain": [
       "\u001b[1m Trainable params: \u001b[0m\u001b[38;5;34m34,049\u001b[0m (133.00 KB)\n"
      ]
     },
     "metadata": {},
     "output_type": "display_data"
    },
    {
     "data": {
      "text/html": [
       "<pre style=\"white-space:pre;overflow-x:auto;line-height:normal;font-family:Menlo,'DejaVu Sans Mono',consolas,'Courier New',monospace\"><span style=\"font-weight: bold\"> Non-trainable params: </span><span style=\"color: #00af00; text-decoration-color: #00af00\">0</span> (0.00 B)\n",
       "</pre>\n"
      ],
      "text/plain": [
       "\u001b[1m Non-trainable params: \u001b[0m\u001b[38;5;34m0\u001b[0m (0.00 B)\n"
      ]
     },
     "metadata": {},
     "output_type": "display_data"
    }
   ],
   "source": [
    "tf.random.set_seed(42)\n",
    "\n",
    "ann_model = tf.keras.Sequential([\n",
    "    tf.keras.layers.Dense(128, activation='relu', input_shape = (X_train_dl.shape[1], )),\n",
    "    tf.keras.layers.Dense(64, activation='relu'),\n",
    "    tf.keras.layers.Dense(1, activation='sigmoid')\n",
    "])\n",
    "\n",
    "ann_model.compile(loss='binary_crossentropy', optimizer='adam', metrics=['accuracy'])\n",
    "\n",
    "ann_model.summary()"
   ]
  },
  {
   "cell_type": "code",
   "execution_count": 60,
   "id": "f625cbee-4e10-4298-98f4-babc660b1625",
   "metadata": {},
   "outputs": [],
   "source": [
    "early_stopping = tf.keras.callbacks.EarlyStopping(monitor='val_loss', patience=2, mode='min', restore_best_weights=True)"
   ]
  },
  {
   "cell_type": "code",
   "execution_count": 61,
   "id": "623aec4e-8825-4202-afb3-ea28fd9aea11",
   "metadata": {},
   "outputs": [
    {
     "name": "stdout",
     "output_type": "stream",
     "text": [
      "Epoch 1/20\n",
      "\u001b[1m213/213\u001b[0m \u001b[32m━━━━━━━━━━━━━━━━━━━━\u001b[0m\u001b[37m\u001b[0m \u001b[1m1s\u001b[0m 2ms/step - accuracy: 0.5455 - loss: 64.2969 - val_accuracy: 0.5383 - val_loss: 26.5269\n",
      "Epoch 2/20\n",
      "\u001b[1m213/213\u001b[0m \u001b[32m━━━━━━━━━━━━━━━━━━━━\u001b[0m\u001b[37m\u001b[0m \u001b[1m0s\u001b[0m 1ms/step - accuracy: 0.5818 - loss: 23.4662 - val_accuracy: 0.5312 - val_loss: 20.3819\n",
      "Epoch 3/20\n",
      "\u001b[1m213/213\u001b[0m \u001b[32m━━━━━━━━━━━━━━━━━━━━\u001b[0m\u001b[37m\u001b[0m \u001b[1m0s\u001b[0m 993us/step - accuracy: 0.6049 - loss: 11.6467 - val_accuracy: 0.5618 - val_loss: 15.1820\n",
      "Epoch 4/20\n",
      "\u001b[1m213/213\u001b[0m \u001b[32m━━━━━━━━━━━━━━━━━━━━\u001b[0m\u001b[37m\u001b[0m \u001b[1m0s\u001b[0m 1ms/step - accuracy: 0.6331 - loss: 7.2458 - val_accuracy: 0.5707 - val_loss: 12.5322\n",
      "Epoch 5/20\n",
      "\u001b[1m213/213\u001b[0m \u001b[32m━━━━━━━━━━━━━━━━━━━━\u001b[0m\u001b[37m\u001b[0m \u001b[1m0s\u001b[0m 949us/step - accuracy: 0.6546 - loss: 5.5375 - val_accuracy: 0.5677 - val_loss: 12.5433\n",
      "Epoch 6/20\n",
      "\u001b[1m213/213\u001b[0m \u001b[32m━━━━━━━━━━━━━━━━━━━━\u001b[0m\u001b[37m\u001b[0m \u001b[1m0s\u001b[0m 1ms/step - accuracy: 0.6556 - loss: 4.8900 - val_accuracy: 0.5807 - val_loss: 10.7873\n",
      "Epoch 7/20\n",
      "\u001b[1m213/213\u001b[0m \u001b[32m━━━━━━━━━━━━━━━━━━━━\u001b[0m\u001b[37m\u001b[0m \u001b[1m0s\u001b[0m 1ms/step - accuracy: 0.6796 - loss: 3.3897 - val_accuracy: 0.5683 - val_loss: 10.3717\n",
      "Epoch 8/20\n",
      "\u001b[1m213/213\u001b[0m \u001b[32m━━━━━━━━━━━━━━━━━━━━\u001b[0m\u001b[37m\u001b[0m \u001b[1m0s\u001b[0m 1ms/step - accuracy: 0.6815 - loss: 3.1812 - val_accuracy: 0.5866 - val_loss: 9.8392\n",
      "Epoch 9/20\n",
      "\u001b[1m213/213\u001b[0m \u001b[32m━━━━━━━━━━━━━━━━━━━━\u001b[0m\u001b[37m\u001b[0m \u001b[1m0s\u001b[0m 1ms/step - accuracy: 0.6859 - loss: 3.2350 - val_accuracy: 0.5801 - val_loss: 9.7221\n",
      "Epoch 10/20\n",
      "\u001b[1m213/213\u001b[0m \u001b[32m━━━━━━━━━━━━━━━━━━━━\u001b[0m\u001b[37m\u001b[0m \u001b[1m0s\u001b[0m 1ms/step - accuracy: 0.6852 - loss: 2.7104 - val_accuracy: 0.5760 - val_loss: 9.3192\n",
      "Epoch 11/20\n",
      "\u001b[1m213/213\u001b[0m \u001b[32m━━━━━━━━━━━━━━━━━━━━\u001b[0m\u001b[37m\u001b[0m \u001b[1m0s\u001b[0m 2ms/step - accuracy: 0.6996 - loss: 2.4938 - val_accuracy: 0.5907 - val_loss: 8.6923\n",
      "Epoch 12/20\n",
      "\u001b[1m213/213\u001b[0m \u001b[32m━━━━━━━━━━━━━━━━━━━━\u001b[0m\u001b[37m\u001b[0m \u001b[1m0s\u001b[0m 1ms/step - accuracy: 0.7012 - loss: 2.1675 - val_accuracy: 0.5648 - val_loss: 8.8840\n",
      "Epoch 13/20\n",
      "\u001b[1m213/213\u001b[0m \u001b[32m━━━━━━━━━━━━━━━━━━━━\u001b[0m\u001b[37m\u001b[0m \u001b[1m0s\u001b[0m 1ms/step - accuracy: 0.7152 - loss: 2.2039 - val_accuracy: 0.5724 - val_loss: 8.9633\n"
     ]
    }
   ],
   "source": [
    "history_ann = ann_model.fit(X_train_dl, y_train, validation_data=(X_test_dl, y_test), epochs= 20, batch_size=32, callbacks = [early_stopping])"
   ]
  },
  {
   "cell_type": "code",
   "execution_count": 62,
   "id": "7a5ddb61-4936-4f62-998a-c290614ba560",
   "metadata": {},
   "outputs": [],
   "source": [
    "def evaluate_model_dl(model, X_test, y_test):\n",
    "    y_pred = (model.predict(X_test_dl) > 0.5).astype(int)\n",
    "    cm = confusion_matrix(y_test, y_pred)\n",
    "    sns.heatmap(cm, annot=True, cbar=False, fmt=\".4g\")\n",
    "    plt.show()\n",
    "    print(classification_report(y_test, y_pred))\n",
    "    \n",
    "result_dl = pd.DataFrame(columns=['Accuracy', 'Model'])"
   ]
  },
  {
   "cell_type": "code",
   "execution_count": 63,
   "id": "ac5396f4-5029-4426-a9ff-79b5c58a2870",
   "metadata": {},
   "outputs": [
    {
     "name": "stdout",
     "output_type": "stream",
     "text": [
      "\u001b[1m54/54\u001b[0m \u001b[32m━━━━━━━━━━━━━━━━━━━━\u001b[0m\u001b[37m\u001b[0m \u001b[1m0s\u001b[0m 1ms/step\n"
     ]
    },
    {
     "data": {
      "image/png": "[encoded data removed]",
      "text/plain": [
       "<Figure size 640x480 with 1 Axes>"
      ]
     },
     "metadata": {},
     "output_type": "display_data"
    },
    {
     "name": "stdout",
     "output_type": "stream",
     "text": [
      "              precision    recall  f1-score   support\n",
      "\n",
      "           0       0.57      0.68      0.62       843\n",
      "           1       0.61      0.50      0.55       855\n",
      "\n",
      "    accuracy                           0.59      1698\n",
      "   macro avg       0.59      0.59      0.59      1698\n",
      "weighted avg       0.59      0.59      0.59      1698\n",
      "\n"
     ]
    }
   ],
   "source": [
    "evaluate_model_dl(ann_model, X_test_dl, y_test)\n",
    "\n",
    "# Precision (Hassasiyet): Pozitif olarak tahmin edilen örnekler arasında gerçekten pozitif olanların oranı.\n",
    "# Recall (Duyarlılık veya yeniden çağırma): Gerçek pozitif örneklerin, pozitif olarak doğru tahmin edilenlerle oranı.\n",
    "# F1-Score: Hassasiyet ve duyarlılığın harmonik ortalaması. Dengeli bir metrik olup, her iki değeri de dikkate alır.\n",
    "# Support (Destek): Her sınıftaki gerçek örnek sayısı."
   ]
  },
  {
   "cell_type": "code",
   "execution_count": 64,
   "id": "7ddf8a7d-d9ce-49ce-9fe3-5c939b24babf",
   "metadata": {},
   "outputs": [
    {
     "name": "stdout",
     "output_type": "stream",
     "text": [
      "\u001b[1m54/54\u001b[0m \u001b[32m━━━━━━━━━━━━━━━━━━━━\u001b[0m\u001b[37m\u001b[0m \u001b[1m0s\u001b[0m 637us/step - accuracy: 0.5825 - loss: 9.5033\n"
     ]
    },
    {
     "data": {
      "text/html": [
       "<div>\n",
       "<style scoped>\n",
       "    .dataframe tbody tr th:only-of-type {\n",
       "        vertical-align: middle;\n",
       "    }\n",
       "\n",
       "    .dataframe tbody tr th {\n",
       "        vertical-align: top;\n",
       "    }\n",
       "\n",
       "    .dataframe thead th {\n",
       "        text-align: right;\n",
       "    }\n",
       "</style>\n",
       "<table border=\"1\" class=\"dataframe\">\n",
       "  <thead>\n",
       "    <tr style=\"text-align: right;\">\n",
       "      <th></th>\n",
       "      <th>Accuracy</th>\n",
       "      <th>Model</th>\n",
       "    </tr>\n",
       "  </thead>\n",
       "  <tbody>\n",
       "    <tr>\n",
       "      <th>0</th>\n",
       "      <td>0.591</td>\n",
       "      <td>ANN</td>\n",
       "    </tr>\n",
       "  </tbody>\n",
       "</table>\n",
       "</div>"
      ],
      "text/plain": [
       "   Accuracy Model\n",
       "0     0.591   ANN"
      ]
     },
     "execution_count": 64,
     "metadata": {},
     "output_type": "execute_result"
    }
   ],
   "source": [
    "# ANN model değerlendirmesi (ann_model ve X_test_dl, y_test zaten tanımlanmış olmalı)\n",
    "accuracy_ann = ann_model.evaluate(X_test_dl, y_test)[1]  # Modelin doğruluk skorunu almak için\n",
    "\n",
    "new_row_ann = pd.DataFrame({\n",
    "    'Model': ['ANN'],\n",
    "    'Accuracy': [accuracy_ann]\n",
    "})\n",
    "\n",
    "result_dl = pd.concat([result_dl, new_row_ann], ignore_index=True)\n",
    "result_dl"
   ]
  },
  {
   "cell_type": "markdown",
   "id": "91e90ed4-e610-4e57-82dd-620ab90b214a",
   "metadata": {},
   "source": [
    "## Embeding"
   ]
  },
  {
   "cell_type": "code",
   "execution_count": 65,
   "id": "798df586-d45c-4635-97cd-0069c8174649",
   "metadata": {},
   "outputs": [
    {
     "name": "stderr",
     "output_type": "stream",
     "text": [
      "C:\\Users\\erenn\\AppData\\Local\\Programs\\Python\\Python312\\Lib\\site-packages\\keras\\src\\layers\\core\\embedding.py:90: UserWarning: Argument `input_length` is deprecated. Just remove it.\n",
      "  warnings.warn(\n"
     ]
    },
    {
     "data": {
      "text/html": [
       "<pre style=\"white-space:pre;overflow-x:auto;line-height:normal;font-family:Menlo,'DejaVu Sans Mono',consolas,'Courier New',monospace\"><span style=\"font-weight: bold\">Model: \"sequential_5\"</span>\n",
       "</pre>\n"
      ],
      "text/plain": [
       "\u001b[1mModel: \"sequential_5\"\u001b[0m\n"
      ]
     },
     "metadata": {},
     "output_type": "display_data"
    },
    {
     "data": {
      "text/html": [
       "<pre style=\"white-space:pre;overflow-x:auto;line-height:normal;font-family:Menlo,'DejaVu Sans Mono',consolas,'Courier New',monospace\">┏━━━━━━━━━━━━━━━━━━━━━━━━━━━━━━━━━━━━━━┳━━━━━━━━━━━━━━━━━━━━━━━━━━━━━┳━━━━━━━━━━━━━━━━━┓\n",
       "┃<span style=\"font-weight: bold\"> Layer (type)                         </span>┃<span style=\"font-weight: bold\"> Output Shape                </span>┃<span style=\"font-weight: bold\">         Param # </span>┃\n",
       "┡━━━━━━━━━━━━━━━━━━━━━━━━━━━━━━━━━━━━━━╇━━━━━━━━━━━━━━━━━━━━━━━━━━━━━╇━━━━━━━━━━━━━━━━━┩\n",
       "│ embedding_3 (<span style=\"color: #0087ff; text-decoration-color: #0087ff\">Embedding</span>)              │ ?                           │     <span style=\"color: #00af00; text-decoration-color: #00af00\">0</span> (unbuilt) │\n",
       "├──────────────────────────────────────┼─────────────────────────────┼─────────────────┤\n",
       "│ global_max_pooling1d_2               │ ?                           │     <span style=\"color: #00af00; text-decoration-color: #00af00\">0</span> (unbuilt) │\n",
       "│ (<span style=\"color: #0087ff; text-decoration-color: #0087ff\">GlobalMaxPooling1D</span>)                 │                             │                 │\n",
       "├──────────────────────────────────────┼─────────────────────────────┼─────────────────┤\n",
       "│ dense_12 (<span style=\"color: #0087ff; text-decoration-color: #0087ff\">Dense</span>)                     │ ?                           │     <span style=\"color: #00af00; text-decoration-color: #00af00\">0</span> (unbuilt) │\n",
       "├──────────────────────────────────────┼─────────────────────────────┼─────────────────┤\n",
       "│ dense_13 (<span style=\"color: #0087ff; text-decoration-color: #0087ff\">Dense</span>)                     │ ?                           │     <span style=\"color: #00af00; text-decoration-color: #00af00\">0</span> (unbuilt) │\n",
       "└──────────────────────────────────────┴─────────────────────────────┴─────────────────┘\n",
       "</pre>\n"
      ],
      "text/plain": [
       "┏━━━━━━━━━━━━━━━━━━━━━━━━━━━━━━━━━━━━━━┳━━━━━━━━━━━━━━━━━━━━━━━━━━━━━┳━━━━━━━━━━━━━━━━━┓\n",
       "┃\u001b[1m \u001b[0m\u001b[1mLayer (type)                        \u001b[0m\u001b[1m \u001b[0m┃\u001b[1m \u001b[0m\u001b[1mOutput Shape               \u001b[0m\u001b[1m \u001b[0m┃\u001b[1m \u001b[0m\u001b[1m        Param #\u001b[0m\u001b[1m \u001b[0m┃\n",
       "┡━━━━━━━━━━━━━━━━━━━━━━━━━━━━━━━━━━━━━━╇━━━━━━━━━━━━━━━━━━━━━━━━━━━━━╇━━━━━━━━━━━━━━━━━┩\n",
       "│ embedding_3 (\u001b[38;5;33mEmbedding\u001b[0m)              │ ?                           │     \u001b[38;5;34m0\u001b[0m (unbuilt) │\n",
       "├──────────────────────────────────────┼─────────────────────────────┼─────────────────┤\n",
       "│ global_max_pooling1d_2               │ ?                           │     \u001b[38;5;34m0\u001b[0m (unbuilt) │\n",
       "│ (\u001b[38;5;33mGlobalMaxPooling1D\u001b[0m)                 │                             │                 │\n",
       "├──────────────────────────────────────┼─────────────────────────────┼─────────────────┤\n",
       "│ dense_12 (\u001b[38;5;33mDense\u001b[0m)                     │ ?                           │     \u001b[38;5;34m0\u001b[0m (unbuilt) │\n",
       "├──────────────────────────────────────┼─────────────────────────────┼─────────────────┤\n",
       "│ dense_13 (\u001b[38;5;33mDense\u001b[0m)                     │ ?                           │     \u001b[38;5;34m0\u001b[0m (unbuilt) │\n",
       "└──────────────────────────────────────┴─────────────────────────────┴─────────────────┘\n"
      ]
     },
     "metadata": {},
     "output_type": "display_data"
    },
    {
     "data": {
      "text/html": [
       "<pre style=\"white-space:pre;overflow-x:auto;line-height:normal;font-family:Menlo,'DejaVu Sans Mono',consolas,'Courier New',monospace\"><span style=\"font-weight: bold\"> Total params: </span><span style=\"color: #00af00; text-decoration-color: #00af00\">0</span> (0.00 B)\n",
       "</pre>\n"
      ],
      "text/plain": [
       "\u001b[1m Total params: \u001b[0m\u001b[38;5;34m0\u001b[0m (0.00 B)\n"
      ]
     },
     "metadata": {},
     "output_type": "display_data"
    },
    {
     "data": {
      "text/html": [
       "<pre style=\"white-space:pre;overflow-x:auto;line-height:normal;font-family:Menlo,'DejaVu Sans Mono',consolas,'Courier New',monospace\"><span style=\"font-weight: bold\"> Trainable params: </span><span style=\"color: #00af00; text-decoration-color: #00af00\">0</span> (0.00 B)\n",
       "</pre>\n"
      ],
      "text/plain": [
       "\u001b[1m Trainable params: \u001b[0m\u001b[38;5;34m0\u001b[0m (0.00 B)\n"
      ]
     },
     "metadata": {},
     "output_type": "display_data"
    },
    {
     "data": {
      "text/html": [
       "<pre style=\"white-space:pre;overflow-x:auto;line-height:normal;font-family:Menlo,'DejaVu Sans Mono',consolas,'Courier New',monospace\"><span style=\"font-weight: bold\"> Non-trainable params: </span><span style=\"color: #00af00; text-decoration-color: #00af00\">0</span> (0.00 B)\n",
       "</pre>\n"
      ],
      "text/plain": [
       "\u001b[1m Non-trainable params: \u001b[0m\u001b[38;5;34m0\u001b[0m (0.00 B)\n"
      ]
     },
     "metadata": {},
     "output_type": "display_data"
    }
   ],
   "source": [
    "tf.random.set_seed(42)\n",
    "\n",
    "em_model = tf.keras.Sequential([\n",
    "    tf.keras.layers.Embedding(num_words, 16, input_length=maxlen),\n",
    "    tf.keras.layers.GlobalMaxPooling1D(),\n",
    "    tf.keras.layers.Dense(64, activation='relu'),\n",
    "    tf.keras.layers.Dense(1, activation='sigmoid')\n",
    "])\n",
    "\n",
    "em_model.compile(loss='binary_crossentropy', optimizer='adam', metrics=['accuracy'])\n",
    "\n",
    "em_model.summary()"
   ]
  },
  {
   "cell_type": "code",
   "execution_count": 66,
   "id": "9b04a923-a574-44cf-8971-c4fd6007c2d0",
   "metadata": {},
   "outputs": [
    {
     "name": "stdout",
     "output_type": "stream",
     "text": [
      "Epoch 1/20\n",
      "\u001b[1m213/213\u001b[0m \u001b[32m━━━━━━━━━━━━━━━━━━━━\u001b[0m\u001b[37m\u001b[0m \u001b[1m2s\u001b[0m 4ms/step - accuracy: 0.6583 - loss: 0.6620 - val_accuracy: 0.8681 - val_loss: 0.3693\n",
      "Epoch 2/20\n",
      "\u001b[1m213/213\u001b[0m \u001b[32m━━━━━━━━━━━━━━━━━━━━\u001b[0m\u001b[37m\u001b[0m \u001b[1m1s\u001b[0m 2ms/step - accuracy: 0.8731 - loss: 0.3325 - val_accuracy: 0.8946 - val_loss: 0.2742\n",
      "Epoch 3/20\n",
      "\u001b[1m213/213\u001b[0m \u001b[32m━━━━━━━━━━━━━━━━━━━━\u001b[0m\u001b[37m\u001b[0m \u001b[1m0s\u001b[0m 2ms/step - accuracy: 0.9198 - loss: 0.2219 - val_accuracy: 0.8993 - val_loss: 0.2540\n",
      "Epoch 4/20\n",
      "\u001b[1m213/213\u001b[0m \u001b[32m━━━━━━━━━━━━━━━━━━━━\u001b[0m\u001b[37m\u001b[0m \u001b[1m0s\u001b[0m 2ms/step - accuracy: 0.9456 - loss: 0.1646 - val_accuracy: 0.9081 - val_loss: 0.2475\n",
      "Epoch 5/20\n",
      "\u001b[1m213/213\u001b[0m \u001b[32m━━━━━━━━━━━━━━━━━━━━\u001b[0m\u001b[37m\u001b[0m \u001b[1m0s\u001b[0m 2ms/step - accuracy: 0.9619 - loss: 0.1226 - val_accuracy: 0.9093 - val_loss: 0.2504\n",
      "Epoch 6/20\n",
      "\u001b[1m213/213\u001b[0m \u001b[32m━━━━━━━━━━━━━━━━━━━━\u001b[0m\u001b[37m\u001b[0m \u001b[1m1s\u001b[0m 2ms/step - accuracy: 0.9740 - loss: 0.0920 - val_accuracy: 0.9052 - val_loss: 0.2574\n"
     ]
    }
   ],
   "source": [
    "history_em = em_model.fit(X_train_dl, y_train, validation_data=(X_test_dl, y_test), epochs= 20, batch_size=32, callbacks = [early_stopping])"
   ]
  },
  {
   "cell_type": "code",
   "execution_count": 67,
   "id": "e2898f18-84b8-4b85-99d8-9f9b2bc528fd",
   "metadata": {},
   "outputs": [
    {
     "name": "stdout",
     "output_type": "stream",
     "text": [
      "\u001b[1m54/54\u001b[0m \u001b[32m━━━━━━━━━━━━━━━━━━━━\u001b[0m\u001b[37m\u001b[0m \u001b[1m0s\u001b[0m 2ms/step\n"
     ]
    },
    {
     "data": {
      "image/png": "[encoded data removed]",
      "text/plain": [
       "<Figure size 640x480 with 1 Axes>"
      ]
     },
     "metadata": {},
     "output_type": "display_data"
    },
    {
     "name": "stdout",
     "output_type": "stream",
     "text": [
      "              precision    recall  f1-score   support\n",
      "\n",
      "           0       0.90      0.92      0.91       843\n",
      "           1       0.92      0.90      0.91       855\n",
      "\n",
      "    accuracy                           0.91      1698\n",
      "   macro avg       0.91      0.91      0.91      1698\n",
      "weighted avg       0.91      0.91      0.91      1698\n",
      "\n"
     ]
    }
   ],
   "source": [
    "evaluate_model_dl(em_model, X_test_dl, y_test)\n",
    "\n",
    "# Precision (Hassasiyet): Pozitif olarak tahmin edilen örnekler arasında gerçekten pozitif olanların oranı.\n",
    "# Recall (Duyarlılık veya yeniden çağırma): Gerçek pozitif örneklerin, pozitif olarak doğru tahmin edilenlerle oranı.\n",
    "# F1-Score: Hassasiyet ve duyarlılığın harmonik ortalaması. Dengeli bir metrik olup, her iki değeri de dikkate alır.\n",
    "# Support (Destek): Her sınıftaki gerçek örnek sayısı."
   ]
  },
  {
   "cell_type": "code",
   "execution_count": 68,
   "id": "f3a779e2-bea6-4d8c-8afe-5f20f13a04a7",
   "metadata": {},
   "outputs": [
    {
     "name": "stdout",
     "output_type": "stream",
     "text": [
      "\u001b[1m54/54\u001b[0m \u001b[32m━━━━━━━━━━━━━━━━━━━━\u001b[0m\u001b[37m\u001b[0m \u001b[1m0s\u001b[0m 941us/step - accuracy: 0.9173 - loss: 0.2307\n"
     ]
    },
    {
     "data": {
      "text/html": [
       "<div>\n",
       "<style scoped>\n",
       "    .dataframe tbody tr th:only-of-type {\n",
       "        vertical-align: middle;\n",
       "    }\n",
       "\n",
       "    .dataframe tbody tr th {\n",
       "        vertical-align: top;\n",
       "    }\n",
       "\n",
       "    .dataframe thead th {\n",
       "        text-align: right;\n",
       "    }\n",
       "</style>\n",
       "<table border=\"1\" class=\"dataframe\">\n",
       "  <thead>\n",
       "    <tr style=\"text-align: right;\">\n",
       "      <th></th>\n",
       "      <th>Accuracy</th>\n",
       "      <th>Model</th>\n",
       "    </tr>\n",
       "  </thead>\n",
       "  <tbody>\n",
       "    <tr>\n",
       "      <th>0</th>\n",
       "      <td>0.591</td>\n",
       "      <td>ANN</td>\n",
       "    </tr>\n",
       "    <tr>\n",
       "      <th>1</th>\n",
       "      <td>0.908</td>\n",
       "      <td>Embedding</td>\n",
       "    </tr>\n",
       "  </tbody>\n",
       "</table>\n",
       "</div>"
      ],
      "text/plain": [
       "   Accuracy      Model\n",
       "0     0.591        ANN\n",
       "1     0.908  Embedding"
      ]
     },
     "execution_count": 68,
     "metadata": {},
     "output_type": "execute_result"
    }
   ],
   "source": [
    "# Embedding modelin değerlendirilmesi\n",
    "accuracy_embedding = em_model.evaluate(X_test_dl, y_test)[1]  # Modelin doğruluk skorunu almak için\n",
    "\n",
    "new_row_embedding = pd.DataFrame({\n",
    "    'Model': ['Embedding'],\n",
    "    'Accuracy': [accuracy_embedding]\n",
    "})\n",
    "\n",
    "result_dl = pd.concat([result_dl, new_row_embedding], ignore_index=True)\n",
    "\n",
    "result_dl"
   ]
  },
  {
   "cell_type": "markdown",
   "id": "58950d44-a980-4aa5-aede-278c2bbff22d",
   "metadata": {},
   "source": [
    "## CNN"
   ]
  },
  {
   "cell_type": "code",
   "execution_count": 69,
   "id": "62165c2a-edd1-4849-bc5d-7718b1174b5f",
   "metadata": {},
   "outputs": [
    {
     "name": "stderr",
     "output_type": "stream",
     "text": [
      "C:\\Users\\erenn\\AppData\\Local\\Programs\\Python\\Python312\\Lib\\site-packages\\keras\\src\\layers\\core\\embedding.py:90: UserWarning: Argument `input_length` is deprecated. Just remove it.\n",
      "  warnings.warn(\n"
     ]
    },
    {
     "data": {
      "text/html": [
       "<pre style=\"white-space:pre;overflow-x:auto;line-height:normal;font-family:Menlo,'DejaVu Sans Mono',consolas,'Courier New',monospace\"><span style=\"font-weight: bold\">Model: \"sequential_6\"</span>\n",
       "</pre>\n"
      ],
      "text/plain": [
       "\u001b[1mModel: \"sequential_6\"\u001b[0m\n"
      ]
     },
     "metadata": {},
     "output_type": "display_data"
    },
    {
     "data": {
      "text/html": [
       "<pre style=\"white-space:pre;overflow-x:auto;line-height:normal;font-family:Menlo,'DejaVu Sans Mono',consolas,'Courier New',monospace\">┏━━━━━━━━━━━━━━━━━━━━━━━━━━━━━━━━━━━━━━┳━━━━━━━━━━━━━━━━━━━━━━━━━━━━━┳━━━━━━━━━━━━━━━━━┓\n",
       "┃<span style=\"font-weight: bold\"> Layer (type)                         </span>┃<span style=\"font-weight: bold\"> Output Shape                </span>┃<span style=\"font-weight: bold\">         Param # </span>┃\n",
       "┡━━━━━━━━━━━━━━━━━━━━━━━━━━━━━━━━━━━━━━╇━━━━━━━━━━━━━━━━━━━━━━━━━━━━━╇━━━━━━━━━━━━━━━━━┩\n",
       "│ embedding_4 (<span style=\"color: #0087ff; text-decoration-color: #0087ff\">Embedding</span>)              │ ?                           │     <span style=\"color: #00af00; text-decoration-color: #00af00\">0</span> (unbuilt) │\n",
       "├──────────────────────────────────────┼─────────────────────────────┼─────────────────┤\n",
       "│ conv1d_1 (<span style=\"color: #0087ff; text-decoration-color: #0087ff\">Conv1D</span>)                    │ ?                           │     <span style=\"color: #00af00; text-decoration-color: #00af00\">0</span> (unbuilt) │\n",
       "├──────────────────────────────────────┼─────────────────────────────┼─────────────────┤\n",
       "│ global_max_pooling1d_3               │ ?                           │     <span style=\"color: #00af00; text-decoration-color: #00af00\">0</span> (unbuilt) │\n",
       "│ (<span style=\"color: #0087ff; text-decoration-color: #0087ff\">GlobalMaxPooling1D</span>)                 │                             │                 │\n",
       "├──────────────────────────────────────┼─────────────────────────────┼─────────────────┤\n",
       "│ dense_14 (<span style=\"color: #0087ff; text-decoration-color: #0087ff\">Dense</span>)                     │ ?                           │     <span style=\"color: #00af00; text-decoration-color: #00af00\">0</span> (unbuilt) │\n",
       "├──────────────────────────────────────┼─────────────────────────────┼─────────────────┤\n",
       "│ dense_15 (<span style=\"color: #0087ff; text-decoration-color: #0087ff\">Dense</span>)                     │ ?                           │     <span style=\"color: #00af00; text-decoration-color: #00af00\">0</span> (unbuilt) │\n",
       "└──────────────────────────────────────┴─────────────────────────────┴─────────────────┘\n",
       "</pre>\n"
      ],
      "text/plain": [
       "┏━━━━━━━━━━━━━━━━━━━━━━━━━━━━━━━━━━━━━━┳━━━━━━━━━━━━━━━━━━━━━━━━━━━━━┳━━━━━━━━━━━━━━━━━┓\n",
       "┃\u001b[1m \u001b[0m\u001b[1mLayer (type)                        \u001b[0m\u001b[1m \u001b[0m┃\u001b[1m \u001b[0m\u001b[1mOutput Shape               \u001b[0m\u001b[1m \u001b[0m┃\u001b[1m \u001b[0m\u001b[1m        Param #\u001b[0m\u001b[1m \u001b[0m┃\n",
       "┡━━━━━━━━━━━━━━━━━━━━━━━━━━━━━━━━━━━━━━╇━━━━━━━━━━━━━━━━━━━━━━━━━━━━━╇━━━━━━━━━━━━━━━━━┩\n",
       "│ embedding_4 (\u001b[38;5;33mEmbedding\u001b[0m)              │ ?                           │     \u001b[38;5;34m0\u001b[0m (unbuilt) │\n",
       "├──────────────────────────────────────┼─────────────────────────────┼─────────────────┤\n",
       "│ conv1d_1 (\u001b[38;5;33mConv1D\u001b[0m)                    │ ?                           │     \u001b[38;5;34m0\u001b[0m (unbuilt) │\n",
       "├──────────────────────────────────────┼─────────────────────────────┼─────────────────┤\n",
       "│ global_max_pooling1d_3               │ ?                           │     \u001b[38;5;34m0\u001b[0m (unbuilt) │\n",
       "│ (\u001b[38;5;33mGlobalMaxPooling1D\u001b[0m)                 │                             │                 │\n",
       "├──────────────────────────────────────┼─────────────────────────────┼─────────────────┤\n",
       "│ dense_14 (\u001b[38;5;33mDense\u001b[0m)                     │ ?                           │     \u001b[38;5;34m0\u001b[0m (unbuilt) │\n",
       "├──────────────────────────────────────┼─────────────────────────────┼─────────────────┤\n",
       "│ dense_15 (\u001b[38;5;33mDense\u001b[0m)                     │ ?                           │     \u001b[38;5;34m0\u001b[0m (unbuilt) │\n",
       "└──────────────────────────────────────┴─────────────────────────────┴─────────────────┘\n"
      ]
     },
     "metadata": {},
     "output_type": "display_data"
    },
    {
     "data": {
      "text/html": [
       "<pre style=\"white-space:pre;overflow-x:auto;line-height:normal;font-family:Menlo,'DejaVu Sans Mono',consolas,'Courier New',monospace\"><span style=\"font-weight: bold\"> Total params: </span><span style=\"color: #00af00; text-decoration-color: #00af00\">0</span> (0.00 B)\n",
       "</pre>\n"
      ],
      "text/plain": [
       "\u001b[1m Total params: \u001b[0m\u001b[38;5;34m0\u001b[0m (0.00 B)\n"
      ]
     },
     "metadata": {},
     "output_type": "display_data"
    },
    {
     "data": {
      "text/html": [
       "<pre style=\"white-space:pre;overflow-x:auto;line-height:normal;font-family:Menlo,'DejaVu Sans Mono',consolas,'Courier New',monospace\"><span style=\"font-weight: bold\"> Trainable params: </span><span style=\"color: #00af00; text-decoration-color: #00af00\">0</span> (0.00 B)\n",
       "</pre>\n"
      ],
      "text/plain": [
       "\u001b[1m Trainable params: \u001b[0m\u001b[38;5;34m0\u001b[0m (0.00 B)\n"
      ]
     },
     "metadata": {},
     "output_type": "display_data"
    },
    {
     "data": {
      "text/html": [
       "<pre style=\"white-space:pre;overflow-x:auto;line-height:normal;font-family:Menlo,'DejaVu Sans Mono',consolas,'Courier New',monospace\"><span style=\"font-weight: bold\"> Non-trainable params: </span><span style=\"color: #00af00; text-decoration-color: #00af00\">0</span> (0.00 B)\n",
       "</pre>\n"
      ],
      "text/plain": [
       "\u001b[1m Non-trainable params: \u001b[0m\u001b[38;5;34m0\u001b[0m (0.00 B)\n"
      ]
     },
     "metadata": {},
     "output_type": "display_data"
    }
   ],
   "source": [
    "tf.random.set_seed(42)\n",
    "\n",
    "cnn_model = tf.keras.Sequential([\n",
    "    tf.keras.layers.Embedding(num_words, 16, input_length=maxlen),\n",
    "    tf.keras.layers.Conv1D(128, 5, activation='relu'),\n",
    "    tf.keras.layers.GlobalMaxPooling1D(),\n",
    "    tf.keras.layers.Dense(64, activation='relu'),\n",
    "    tf.keras.layers.Dense(1, activation='sigmoid')\n",
    "])\n",
    "\n",
    "cnn_model.compile(loss='binary_crossentropy', optimizer='adam', metrics=['accuracy'])\n",
    "\n",
    "cnn_model.summary()"
   ]
  },
  {
   "cell_type": "code",
   "execution_count": 70,
   "id": "e923aaf6-f34d-4cf5-a15b-c5d349c77601",
   "metadata": {},
   "outputs": [
    {
     "name": "stdout",
     "output_type": "stream",
     "text": [
      "Epoch 1/20\n",
      "\u001b[1m213/213\u001b[0m \u001b[32m━━━━━━━━━━━━━━━━━━━━\u001b[0m\u001b[37m\u001b[0m \u001b[1m3s\u001b[0m 6ms/step - accuracy: 0.6870 - loss: 0.5844 - val_accuracy: 0.8940 - val_loss: 0.2651\n",
      "Epoch 2/20\n",
      "\u001b[1m213/213\u001b[0m \u001b[32m━━━━━━━━━━━━━━━━━━━━\u001b[0m\u001b[37m\u001b[0m \u001b[1m1s\u001b[0m 5ms/step - accuracy: 0.9155 - loss: 0.2251 - val_accuracy: 0.9011 - val_loss: 0.2567\n"
     ]
    }
   ],
   "source": [
    "history_cnn = cnn_model.fit(X_train_dl, y_train, validation_data=(X_test_dl, y_test), epochs= 20, batch_size=32, callbacks = [early_stopping])"
   ]
  },
  {
   "cell_type": "code",
   "execution_count": 71,
   "id": "0f8dbad5-0de3-4baa-a0eb-e86c8f32d672",
   "metadata": {},
   "outputs": [
    {
     "name": "stdout",
     "output_type": "stream",
     "text": [
      "\u001b[1m54/54\u001b[0m \u001b[32m━━━━━━━━━━━━━━━━━━━━\u001b[0m\u001b[37m\u001b[0m \u001b[1m0s\u001b[0m 2ms/step - accuracy: 0.9105 - loss: 0.2398\n"
     ]
    },
    {
     "data": {
      "text/html": [
       "<div>\n",
       "<style scoped>\n",
       "    .dataframe tbody tr th:only-of-type {\n",
       "        vertical-align: middle;\n",
       "    }\n",
       "\n",
       "    .dataframe tbody tr th {\n",
       "        vertical-align: top;\n",
       "    }\n",
       "\n",
       "    .dataframe thead th {\n",
       "        text-align: right;\n",
       "    }\n",
       "</style>\n",
       "<table border=\"1\" class=\"dataframe\">\n",
       "  <thead>\n",
       "    <tr style=\"text-align: right;\">\n",
       "      <th></th>\n",
       "      <th>Accuracy</th>\n",
       "      <th>Model</th>\n",
       "    </tr>\n",
       "  </thead>\n",
       "  <tbody>\n",
       "    <tr>\n",
       "      <th>0</th>\n",
       "      <td>0.591</td>\n",
       "      <td>ANN</td>\n",
       "    </tr>\n",
       "    <tr>\n",
       "      <th>1</th>\n",
       "      <td>0.908</td>\n",
       "      <td>Embedding</td>\n",
       "    </tr>\n",
       "    <tr>\n",
       "      <th>2</th>\n",
       "      <td>0.894</td>\n",
       "      <td>CNN</td>\n",
       "    </tr>\n",
       "  </tbody>\n",
       "</table>\n",
       "</div>"
      ],
      "text/plain": [
       "   Accuracy      Model\n",
       "0     0.591        ANN\n",
       "1     0.908  Embedding\n",
       "2     0.894        CNN"
      ]
     },
     "execution_count": 71,
     "metadata": {},
     "output_type": "execute_result"
    }
   ],
   "source": [
    "# CNN modelin değerlendirilmesi, evaluate_model_dl fonksiyonunu tanımlayıp burada kullanmadığınız sürece\n",
    "accuracy_cnn = cnn_model.evaluate(X_test_dl, y_test)[1]  # Modelin doğruluk skorunu almak için\n",
    "\n",
    "new_row_cnn = pd.DataFrame({\n",
    "    'Model': ['CNN'],\n",
    "    'Accuracy': [accuracy_cnn]\n",
    "})\n",
    "\n",
    "result_dl = pd.concat([result_dl, new_row_cnn], ignore_index=True)\n",
    "\n",
    "result_dl"
   ]
  },
  {
   "cell_type": "markdown",
   "id": "b722a5a2-c86a-478a-bc97-c0397cd8e49c",
   "metadata": {},
   "source": [
    "## LSTM"
   ]
  },
  {
   "cell_type": "code",
   "execution_count": 72,
   "id": "18e2ffcb-7a54-4b96-91ad-6f035b897c70",
   "metadata": {},
   "outputs": [
    {
     "name": "stderr",
     "output_type": "stream",
     "text": [
      "C:\\Users\\erenn\\AppData\\Local\\Programs\\Python\\Python312\\Lib\\site-packages\\keras\\src\\layers\\core\\embedding.py:90: UserWarning: Argument `input_length` is deprecated. Just remove it.\n",
      "  warnings.warn(\n"
     ]
    },
    {
     "data": {
      "text/html": [
       "<pre style=\"white-space:pre;overflow-x:auto;line-height:normal;font-family:Menlo,'DejaVu Sans Mono',consolas,'Courier New',monospace\"><span style=\"font-weight: bold\">Model: \"sequential_7\"</span>\n",
       "</pre>\n"
      ],
      "text/plain": [
       "\u001b[1mModel: \"sequential_7\"\u001b[0m\n"
      ]
     },
     "metadata": {},
     "output_type": "display_data"
    },
    {
     "data": {
      "text/html": [
       "<pre style=\"white-space:pre;overflow-x:auto;line-height:normal;font-family:Menlo,'DejaVu Sans Mono',consolas,'Courier New',monospace\">┏━━━━━━━━━━━━━━━━━━━━━━━━━━━━━━━━━━━━━━┳━━━━━━━━━━━━━━━━━━━━━━━━━━━━━┳━━━━━━━━━━━━━━━━━┓\n",
       "┃<span style=\"font-weight: bold\"> Layer (type)                         </span>┃<span style=\"font-weight: bold\"> Output Shape                </span>┃<span style=\"font-weight: bold\">         Param # </span>┃\n",
       "┡━━━━━━━━━━━━━━━━━━━━━━━━━━━━━━━━━━━━━━╇━━━━━━━━━━━━━━━━━━━━━━━━━━━━━╇━━━━━━━━━━━━━━━━━┩\n",
       "│ embedding_5 (<span style=\"color: #0087ff; text-decoration-color: #0087ff\">Embedding</span>)              │ ?                           │     <span style=\"color: #00af00; text-decoration-color: #00af00\">0</span> (unbuilt) │\n",
       "├──────────────────────────────────────┼─────────────────────────────┼─────────────────┤\n",
       "│ lstm_1 (<span style=\"color: #0087ff; text-decoration-color: #0087ff\">LSTM</span>)                        │ ?                           │     <span style=\"color: #00af00; text-decoration-color: #00af00\">0</span> (unbuilt) │\n",
       "├──────────────────────────────────────┼─────────────────────────────┼─────────────────┤\n",
       "│ dense_16 (<span style=\"color: #0087ff; text-decoration-color: #0087ff\">Dense</span>)                     │ ?                           │     <span style=\"color: #00af00; text-decoration-color: #00af00\">0</span> (unbuilt) │\n",
       "├──────────────────────────────────────┼─────────────────────────────┼─────────────────┤\n",
       "│ dense_17 (<span style=\"color: #0087ff; text-decoration-color: #0087ff\">Dense</span>)                     │ ?                           │     <span style=\"color: #00af00; text-decoration-color: #00af00\">0</span> (unbuilt) │\n",
       "└──────────────────────────────────────┴─────────────────────────────┴─────────────────┘\n",
       "</pre>\n"
      ],
      "text/plain": [
       "┏━━━━━━━━━━━━━━━━━━━━━━━━━━━━━━━━━━━━━━┳━━━━━━━━━━━━━━━━━━━━━━━━━━━━━┳━━━━━━━━━━━━━━━━━┓\n",
       "┃\u001b[1m \u001b[0m\u001b[1mLayer (type)                        \u001b[0m\u001b[1m \u001b[0m┃\u001b[1m \u001b[0m\u001b[1mOutput Shape               \u001b[0m\u001b[1m \u001b[0m┃\u001b[1m \u001b[0m\u001b[1m        Param #\u001b[0m\u001b[1m \u001b[0m┃\n",
       "┡━━━━━━━━━━━━━━━━━━━━━━━━━━━━━━━━━━━━━━╇━━━━━━━━━━━━━━━━━━━━━━━━━━━━━╇━━━━━━━━━━━━━━━━━┩\n",
       "│ embedding_5 (\u001b[38;5;33mEmbedding\u001b[0m)              │ ?                           │     \u001b[38;5;34m0\u001b[0m (unbuilt) │\n",
       "├──────────────────────────────────────┼─────────────────────────────┼─────────────────┤\n",
       "│ lstm_1 (\u001b[38;5;33mLSTM\u001b[0m)                        │ ?                           │     \u001b[38;5;34m0\u001b[0m (unbuilt) │\n",
       "├──────────────────────────────────────┼─────────────────────────────┼─────────────────┤\n",
       "│ dense_16 (\u001b[38;5;33mDense\u001b[0m)                     │ ?                           │     \u001b[38;5;34m0\u001b[0m (unbuilt) │\n",
       "├──────────────────────────────────────┼─────────────────────────────┼─────────────────┤\n",
       "│ dense_17 (\u001b[38;5;33mDense\u001b[0m)                     │ ?                           │     \u001b[38;5;34m0\u001b[0m (unbuilt) │\n",
       "└──────────────────────────────────────┴─────────────────────────────┴─────────────────┘\n"
      ]
     },
     "metadata": {},
     "output_type": "display_data"
    },
    {
     "data": {
      "text/html": [
       "<pre style=\"white-space:pre;overflow-x:auto;line-height:normal;font-family:Menlo,'DejaVu Sans Mono',consolas,'Courier New',monospace\"><span style=\"font-weight: bold\"> Total params: </span><span style=\"color: #00af00; text-decoration-color: #00af00\">0</span> (0.00 B)\n",
       "</pre>\n"
      ],
      "text/plain": [
       "\u001b[1m Total params: \u001b[0m\u001b[38;5;34m0\u001b[0m (0.00 B)\n"
      ]
     },
     "metadata": {},
     "output_type": "display_data"
    },
    {
     "data": {
      "text/html": [
       "<pre style=\"white-space:pre;overflow-x:auto;line-height:normal;font-family:Menlo,'DejaVu Sans Mono',consolas,'Courier New',monospace\"><span style=\"font-weight: bold\"> Trainable params: </span><span style=\"color: #00af00; text-decoration-color: #00af00\">0</span> (0.00 B)\n",
       "</pre>\n"
      ],
      "text/plain": [
       "\u001b[1m Trainable params: \u001b[0m\u001b[38;5;34m0\u001b[0m (0.00 B)\n"
      ]
     },
     "metadata": {},
     "output_type": "display_data"
    },
    {
     "data": {
      "text/html": [
       "<pre style=\"white-space:pre;overflow-x:auto;line-height:normal;font-family:Menlo,'DejaVu Sans Mono',consolas,'Courier New',monospace\"><span style=\"font-weight: bold\"> Non-trainable params: </span><span style=\"color: #00af00; text-decoration-color: #00af00\">0</span> (0.00 B)\n",
       "</pre>\n"
      ],
      "text/plain": [
       "\u001b[1m Non-trainable params: \u001b[0m\u001b[38;5;34m0\u001b[0m (0.00 B)\n"
      ]
     },
     "metadata": {},
     "output_type": "display_data"
    }
   ],
   "source": [
    "tf.random.set_seed(42)\n",
    "\n",
    "lstm_model = tf.keras.Sequential([\n",
    "    tf.keras.layers.Embedding(num_words, 16, input_length=maxlen),\n",
    "    tf.keras.layers.LSTM(32),\n",
    "    tf.keras.layers.Dense(64, activation='relu'),\n",
    "    tf.keras.layers.Dense(1, activation='sigmoid')\n",
    "])\n",
    "\n",
    "lstm_model.compile(loss='binary_crossentropy', optimizer='adam', metrics=['accuracy'])\n",
    "\n",
    "lstm_model.summary()"
   ]
  },
  {
   "cell_type": "code",
   "execution_count": 73,
   "id": "02c52748-fc92-4f21-a054-4a605c735f98",
   "metadata": {},
   "outputs": [
    {
     "name": "stdout",
     "output_type": "stream",
     "text": [
      "Epoch 1/20\n",
      "\u001b[1m213/213\u001b[0m \u001b[32m━━━━━━━━━━━━━━━━━━━━\u001b[0m\u001b[37m\u001b[0m \u001b[1m11s\u001b[0m 42ms/step - accuracy: 0.6429 - loss: 0.6003 - val_accuracy: 0.8958 - val_loss: 0.2587\n",
      "Epoch 2/20\n",
      "\u001b[1m213/213\u001b[0m \u001b[32m━━━━━━━━━━━━━━━━━━━━\u001b[0m\u001b[37m\u001b[0m \u001b[1m8s\u001b[0m 39ms/step - accuracy: 0.9164 - loss: 0.2186 - val_accuracy: 0.9028 - val_loss: 0.2490\n"
     ]
    }
   ],
   "source": [
    "history_lstm = lstm_model.fit(X_train_dl, y_train, validation_data=(X_test_dl, y_test), epochs= 20, batch_size=32, callbacks = [early_stopping])"
   ]
  },
  {
   "cell_type": "code",
   "execution_count": 74,
   "id": "7f6047d9-067f-44f9-b8d1-76a1d194aecd",
   "metadata": {},
   "outputs": [
    {
     "name": "stdout",
     "output_type": "stream",
     "text": [
      "\u001b[1m54/54\u001b[0m \u001b[32m━━━━━━━━━━━━━━━━━━━━\u001b[0m\u001b[37m\u001b[0m \u001b[1m1s\u001b[0m 12ms/step - accuracy: 0.9044 - loss: 0.2344\n"
     ]
    },
    {
     "data": {
      "text/html": [
       "<div>\n",
       "<style scoped>\n",
       "    .dataframe tbody tr th:only-of-type {\n",
       "        vertical-align: middle;\n",
       "    }\n",
       "\n",
       "    .dataframe tbody tr th {\n",
       "        vertical-align: top;\n",
       "    }\n",
       "\n",
       "    .dataframe thead th {\n",
       "        text-align: right;\n",
       "    }\n",
       "</style>\n",
       "<table border=\"1\" class=\"dataframe\">\n",
       "  <thead>\n",
       "    <tr style=\"text-align: right;\">\n",
       "      <th></th>\n",
       "      <th>Accuracy</th>\n",
       "      <th>Model</th>\n",
       "    </tr>\n",
       "  </thead>\n",
       "  <tbody>\n",
       "    <tr>\n",
       "      <th>0</th>\n",
       "      <td>0.591</td>\n",
       "      <td>ANN</td>\n",
       "    </tr>\n",
       "    <tr>\n",
       "      <th>1</th>\n",
       "      <td>0.908</td>\n",
       "      <td>Embedding</td>\n",
       "    </tr>\n",
       "    <tr>\n",
       "      <th>2</th>\n",
       "      <td>0.894</td>\n",
       "      <td>CNN</td>\n",
       "    </tr>\n",
       "    <tr>\n",
       "      <th>3</th>\n",
       "      <td>0.896</td>\n",
       "      <td>LSTM</td>\n",
       "    </tr>\n",
       "  </tbody>\n",
       "</table>\n",
       "</div>"
      ],
      "text/plain": [
       "   Accuracy      Model\n",
       "0     0.591        ANN\n",
       "1     0.908  Embedding\n",
       "2     0.894        CNN\n",
       "3     0.896       LSTM"
      ]
     },
     "execution_count": 74,
     "metadata": {},
     "output_type": "execute_result"
    }
   ],
   "source": [
    "accuracy_lstm = lstm_model.evaluate(X_test_dl, y_test)[1]  # Modelin doğruluk skorunu almak için\n",
    "\n",
    "new_row_lstm = pd.DataFrame({\n",
    "    'Model': ['LSTM'],\n",
    "    'Accuracy': [accuracy_lstm]\n",
    "})\n",
    "\n",
    "result_dl = pd.concat([result_dl, new_row_lstm], ignore_index=True)\n",
    "\n",
    "result_dl"
   ]
  },
  {
   "cell_type": "markdown",
   "id": "603c14b5-3493-4c08-80ed-c18a8308361a",
   "metadata": {},
   "source": [
    "# Test"
   ]
  },
  {
   "cell_type": "code",
   "execution_count": null,
   "id": "08691c5f-419d-4111-a45b-028dfa2ac789",
   "metadata": {},
   "outputs": [],
   "source": [
    "# Yukarıdaki tablolarda baktığımızda en iyi modeller Support Vector Machine ve LSTM oldu.\n",
    "# Dolayısıyla bu iki modeller üzerinde testler yapıyoruz.\n",
    "\n",
    "predict_dict = {0: 'Olumsuz', 1: 'Olumlu'}\n",
    "\n",
    "while True:\n",
    "    text = str(input('\\n Write your message: '))\n",
    "    \n",
    "    if text == 'break':\n",
    "        break\n",
    "    \n",
    "    ml_token = tf_vector.transform([text])\n",
    "    pred_ml = svc_tf.predict(ml_token)[0]\n",
    "    dl_token = pad_sequences(tokenizer.texts_to_sequences([text]), maxlen = 200)\n",
    "    pred_dl = (lstm_model.predict(dl_token) > 0.5).astype(int)[0][0]\n",
    "    \n",
    "    print(f'Support Vector Machine (SVM) Tahmini = > {predict_dict[pred_ml]}\\nLSTM Tahmini = > {predict_dict[pred_dl]}')"
   ]
  },
  {
   "cell_type": "code",
   "execution_count": 84,
   "id": "c2796ab1-e9c3-485e-9507-1ac89e988bba",
   "metadata": {},
   "outputs": [],
   "source": [
    "# Save SVM model\n",
    "with open('svm_model.pkl','wb') as f:\n",
    "    pickle.dump(svc_tf,f)"
   ]
  },
  {
   "cell_type": "code",
   "execution_count": 85,
   "id": "134e8b8c-e7fb-4a06-8a67-713bf04530f6",
   "metadata": {},
   "outputs": [],
   "source": [
    "# Save LSTM model\n",
    "lstm_model.save(\"lstm_model.keras\")"
   ]
  },
  {
   "cell_type": "code",
   "execution_count": null,
   "id": "8d8abb17-1f2a-4446-ac78-46de108d52e7",
   "metadata": {},
   "outputs": [],
   "source": []
  }
 ],
 "metadata": {
  "kernelspec": {
   "display_name": "Python 3 (ipykernel)",
   "language": "python",
   "name": "python3"
  },
  "language_info": {
   "codemirror_mode": {
    "name": "ipython",
    "version": 3
   },
   "file_extension": ".py",
   "mimetype": "text/x-python",
   "name": "python",
   "nbconvert_exporter": "python",
   "pygments_lexer": "ipython3",
   "version": "3.12.1"
  }
 },
 "nbformat": 4,
 "nbformat_minor": 5
}
