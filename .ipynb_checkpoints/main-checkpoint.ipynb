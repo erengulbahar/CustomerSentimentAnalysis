{
 "cells": [
  {
   "cell_type": "markdown",
   "id": "6f1b7e1d-b455-4e6b-aff4-a4ac74ebfd6c",
   "metadata": {},
   "source": [
    "# Gerekli Kütüphaneler"
   ]
  },
  {
   "cell_type": "code",
   "execution_count": 1,
   "id": "445133d6-7200-47b8-ae2d-43c9faa35c80",
   "metadata": {},
   "outputs": [
    {
     "name": "stderr",
     "output_type": "stream",
     "text": [
      "[nltk_data] Downloading package stopwords to\n",
      "[nltk_data]     /Users/mustafaerengulbahar/nltk_data...\n",
      "[nltk_data]   Package stopwords is already up-to-date!\n"
     ]
    }
   ],
   "source": [
    "import pandas as pd\n",
    "import re\n",
    "import numpy as np\n",
    "from matplotlib import pyplot as plt\n",
    "import seaborn as sns\n",
    "import tensorflow as tf\n",
    "from xgboost import XGBClassifier\n",
    "from catboost import CatBoostClassifier\n",
    "from sklearn.naive_bayes import BernoulliNB\n",
    "from sklearn.metrics import confusion_matrix, classification_report, f1_score\n",
    "from sklearn.svm import SVC\n",
    "from sklearn.ensemble import RandomForestClassifier, GradientBoostingClassifier\n",
    "from tensorflow.keras.preprocessing.text import Tokenizer\n",
    "from tensorflow.keras.preprocessing.sequence import pad_sequences\n",
    "from tensorflow.keras.callbacks import EarlyStopping\n",
    "from sklearn.feature_extraction.text import TfidfVectorizer, CountVectorizer\n",
    "from sklearn.model_selection import train_test_split, StratifiedKFold, cross_val_score\n",
    "import warnings\n",
    "import nltk\n",
    "nltk.download('stopwords')\n",
    "from nltk.corpus import stopwords\n",
    "import pickle\n",
    "\n",
    "warnings.simplefilter(action='ignore', category=FutureWarning)\n",
    "pd.set_option('display.float_format', lambda x: '%.3f' % x)"
   ]
  },
  {
   "cell_type": "markdown",
   "id": "91868e87-1a89-4241-8295-9e0201e5f5d6",
   "metadata": {},
   "source": [
    "# Veriyi Okuma"
   ]
  },
  {
   "cell_type": "code",
   "execution_count": 2,
   "id": "c7f07d9a-3fa7-4c6a-b515-9d1062b9a630",
   "metadata": {
    "scrolled": true
   },
   "outputs": [
    {
     "data": {
      "text/html": [
       "<div>\n",
       "<style scoped>\n",
       "    .dataframe tbody tr th:only-of-type {\n",
       "        vertical-align: middle;\n",
       "    }\n",
       "\n",
       "    .dataframe tbody tr th {\n",
       "        vertical-align: top;\n",
       "    }\n",
       "\n",
       "    .dataframe thead th {\n",
       "        text-align: right;\n",
       "    }\n",
       "</style>\n",
       "<table border=\"1\" class=\"dataframe\">\n",
       "  <thead>\n",
       "    <tr style=\"text-align: right;\">\n",
       "      <th></th>\n",
       "      <th>Görüş</th>\n",
       "      <th>Durum</th>\n",
       "    </tr>\n",
       "  </thead>\n",
       "  <tbody>\n",
       "    <tr>\n",
       "      <th>0</th>\n",
       "      <td>Cumhuriyetin 100. Yılı x Filenin Sultanları\\n...</td>\n",
       "      <td>Olumlu</td>\n",
       "    </tr>\n",
       "    <tr>\n",
       "      <th>1</th>\n",
       "      <td>Olimpiyat altınımız olacak!!</td>\n",
       "      <td>Olumlu</td>\n",
       "    </tr>\n",
       "    <tr>\n",
       "      <th>2</th>\n",
       "      <td>Keşke Fenerbahçe -Galatasaray süper kupa maçı ...</td>\n",
       "      <td>Olumlu</td>\n",
       "    </tr>\n",
       "    <tr>\n",
       "      <th>3</th>\n",
       "      <td>Sacmalaama olimpiyat yılı fjejsjdj hem gui ile...</td>\n",
       "      <td>Olumlu</td>\n",
       "    </tr>\n",
       "    <tr>\n",
       "      <th>4</th>\n",
       "      <td>Geçen sene bilmem de bu sene yedeğe asla geçme...</td>\n",
       "      <td>Olumlu</td>\n",
       "    </tr>\n",
       "  </tbody>\n",
       "</table>\n",
       "</div>"
      ],
      "text/plain": [
       "                                               Görüş   Durum\n",
       "0   Cumhuriyetin 100. Yılı x Filenin Sultanları\\n...  Olumlu\n",
       "1                       Olimpiyat altınımız olacak!!  Olumlu\n",
       "2  Keşke Fenerbahçe -Galatasaray süper kupa maçı ...  Olumlu\n",
       "3  Sacmalaama olimpiyat yılı fjejsjdj hem gui ile...  Olumlu\n",
       "4  Geçen sene bilmem de bu sene yedeğe asla geçme...  Olumlu"
      ]
     },
     "execution_count": 2,
     "metadata": {},
     "output_type": "execute_result"
    }
   ],
   "source": [
    "# Buradan datayı okuyoruz\n",
    "df = pd.read_excel(\"data/tweets.xlsx\")\n",
    "df.head()"
   ]
  },
  {
   "cell_type": "code",
   "execution_count": 3,
   "id": "8a6ab223-57be-44cb-9b5d-b88627cbb3f1",
   "metadata": {},
   "outputs": [
    {
     "data": {
      "image/png": "[encoded data removed]",
      "text/plain": [
       "<Figure size 640x480 with 1 Axes>"
      ]
     },
     "metadata": {},
     "output_type": "display_data"
    }
   ],
   "source": [
    "# Burada olumlu ve olumsuz metinlerin yoğunluklarını görüyoruz\n",
    "sns.countplot(x = df.Durum);"
   ]
  },
  {
   "cell_type": "markdown",
   "id": "57488cc5-b42d-4f51-add4-bbb99164f6f4",
   "metadata": {},
   "source": [
    "# Veri Ön İşleme"
   ]
  },
  {
   "cell_type": "code",
   "execution_count": 4,
   "id": "6ceabafb-74fd-459a-9999-f3dbe28f8387",
   "metadata": {},
   "outputs": [
    {
     "data": {
      "text/html": [
       "<div>\n",
       "<style scoped>\n",
       "    .dataframe tbody tr th:only-of-type {\n",
       "        vertical-align: middle;\n",
       "    }\n",
       "\n",
       "    .dataframe tbody tr th {\n",
       "        vertical-align: top;\n",
       "    }\n",
       "\n",
       "    .dataframe thead th {\n",
       "        text-align: right;\n",
       "    }\n",
       "</style>\n",
       "<table border=\"1\" class=\"dataframe\">\n",
       "  <thead>\n",
       "    <tr style=\"text-align: right;\">\n",
       "      <th></th>\n",
       "      <th>Görüş</th>\n",
       "      <th>Durum</th>\n",
       "    </tr>\n",
       "  </thead>\n",
       "  <tbody>\n",
       "    <tr>\n",
       "      <th>0</th>\n",
       "      <td>Cumhuriyetin 100. Yılı x Filenin Sultanları\\n...</td>\n",
       "      <td>1</td>\n",
       "    </tr>\n",
       "    <tr>\n",
       "      <th>1</th>\n",
       "      <td>Olimpiyat altınımız olacak!!</td>\n",
       "      <td>1</td>\n",
       "    </tr>\n",
       "    <tr>\n",
       "      <th>2</th>\n",
       "      <td>Keşke Fenerbahçe -Galatasaray süper kupa maçı ...</td>\n",
       "      <td>1</td>\n",
       "    </tr>\n",
       "    <tr>\n",
       "      <th>3</th>\n",
       "      <td>Sacmalaama olimpiyat yılı fjejsjdj hem gui ile...</td>\n",
       "      <td>1</td>\n",
       "    </tr>\n",
       "    <tr>\n",
       "      <th>4</th>\n",
       "      <td>Geçen sene bilmem de bu sene yedeğe asla geçme...</td>\n",
       "      <td>1</td>\n",
       "    </tr>\n",
       "  </tbody>\n",
       "</table>\n",
       "</div>"
      ],
      "text/plain": [
       "                                               Görüş  Durum\n",
       "0   Cumhuriyetin 100. Yılı x Filenin Sultanları\\n...      1\n",
       "1                       Olimpiyat altınımız olacak!!      1\n",
       "2  Keşke Fenerbahçe -Galatasaray süper kupa maçı ...      1\n",
       "3  Sacmalaama olimpiyat yılı fjejsjdj hem gui ile...      1\n",
       "4  Geçen sene bilmem de bu sene yedeğe asla geçme...      1"
      ]
     },
     "execution_count": 4,
     "metadata": {},
     "output_type": "execute_result"
    }
   ],
   "source": [
    "# Burada olumlu ve olumsuz etiketli verileri 1 ve 0 olacak şekilde etiketliyoruz\n",
    "sent_dict = {'Olumsuz': 0, 'Olumlu': 1}\n",
    "\n",
    "df['Durum'] = df['Durum'].map(sent_dict)\n",
    "df.head()"
   ]
  },
  {
   "cell_type": "code",
   "execution_count": 5,
   "id": "98672774-8cf3-4992-917e-8ed27d963958",
   "metadata": {},
   "outputs": [
    {
     "name": "stderr",
     "output_type": "stream",
     "text": [
      "<>:11: SyntaxWarning: invalid escape sequence '\\d'\n",
      "<>:11: SyntaxWarning: invalid escape sequence '\\d'\n",
      "/var/folders/7r/xlf1bkv90rz65td7__4lnrsh0000gn/T/ipykernel_3317/3724318612.py:11: SyntaxWarning: invalid escape sequence '\\d'\n",
      "  df['new_text'] = df['new_text'].str.replace(\"[\\d]\", \"\")\n"
     ]
    },
    {
     "data": {
      "text/html": [
       "<div>\n",
       "<style scoped>\n",
       "    .dataframe tbody tr th:only-of-type {\n",
       "        vertical-align: middle;\n",
       "    }\n",
       "\n",
       "    .dataframe tbody tr th {\n",
       "        vertical-align: top;\n",
       "    }\n",
       "\n",
       "    .dataframe thead th {\n",
       "        text-align: right;\n",
       "    }\n",
       "</style>\n",
       "<table border=\"1\" class=\"dataframe\">\n",
       "  <thead>\n",
       "    <tr style=\"text-align: right;\">\n",
       "      <th></th>\n",
       "      <th>Görüş</th>\n",
       "      <th>Durum</th>\n",
       "      <th>new_text</th>\n",
       "    </tr>\n",
       "  </thead>\n",
       "  <tbody>\n",
       "    <tr>\n",
       "      <th>0</th>\n",
       "      <td>Cumhuriyetin 100. Yılı x Filenin Sultanları\\n...</td>\n",
       "      <td>1</td>\n",
       "      <td>cumhuriyetin 100  yılı x filenin sultanları  ...</td>\n",
       "    </tr>\n",
       "    <tr>\n",
       "      <th>1</th>\n",
       "      <td>Olimpiyat altınımız olacak!!</td>\n",
       "      <td>1</td>\n",
       "      <td>olimpiyat altınımız olacak</td>\n",
       "    </tr>\n",
       "    <tr>\n",
       "      <th>2</th>\n",
       "      <td>Keşke Fenerbahçe -Galatasaray süper kupa maçı ...</td>\n",
       "      <td>1</td>\n",
       "      <td>keşke fenerbahçe -galatasaray süper kupa maçı ...</td>\n",
       "    </tr>\n",
       "    <tr>\n",
       "      <th>3</th>\n",
       "      <td>Sacmalaama olimpiyat yılı fjejsjdj hem gui ile...</td>\n",
       "      <td>1</td>\n",
       "      <td>sacmalaama olimpiyat yılı fjejsjdj hem gui ile...</td>\n",
       "    </tr>\n",
       "    <tr>\n",
       "      <th>4</th>\n",
       "      <td>Geçen sene bilmem de bu sene yedeğe asla geçme...</td>\n",
       "      <td>1</td>\n",
       "      <td>geçen sene bilmem de bu sene yedeğe asla geçme...</td>\n",
       "    </tr>\n",
       "  </tbody>\n",
       "</table>\n",
       "</div>"
      ],
      "text/plain": [
       "                                               Görüş  Durum  \\\n",
       "0   Cumhuriyetin 100. Yılı x Filenin Sultanları\\n...      1   \n",
       "1                       Olimpiyat altınımız olacak!!      1   \n",
       "2  Keşke Fenerbahçe -Galatasaray süper kupa maçı ...      1   \n",
       "3  Sacmalaama olimpiyat yılı fjejsjdj hem gui ile...      1   \n",
       "4  Geçen sene bilmem de bu sene yedeğe asla geçme...      1   \n",
       "\n",
       "                                            new_text  \n",
       "0   cumhuriyetin 100  yılı x filenin sultanları  ...  \n",
       "1                       olimpiyat altınımız olacak    \n",
       "2  keşke fenerbahçe -galatasaray süper kupa maçı ...  \n",
       "3  sacmalaama olimpiyat yılı fjejsjdj hem gui ile...  \n",
       "4  geçen sene bilmem de bu sene yedeğe asla geçme...  "
      ]
     },
     "execution_count": 5,
     "metadata": {},
     "output_type": "execute_result"
    }
   ],
   "source": [
    "# Burada veri üzerinde ön işleme yapıyoruz\n",
    "def clean_text(text):\n",
    "\n",
    "    unwanted_pattern = r'[!.\\n,:“”,?@#\"]'\n",
    "    regex = re.compile(unwanted_pattern)\n",
    "    cleaned_text = regex.sub(\" \", text)\n",
    "    \n",
    "    return cleaned_text\n",
    "\n",
    "df['new_text'] = df['Görüş'].astype(str).apply(clean_text)\n",
    "df['new_text'] = df['new_text'].str.replace(\"[\\d]\", \"\")\n",
    "df['new_text'] = df['new_text'].str.lower()\n",
    "\n",
    "df.head()"
   ]
  },
  {
   "cell_type": "code",
   "execution_count": 6,
   "id": "63f6256d-4b08-44c3-b31b-b6914d9fee71",
   "metadata": {},
   "outputs": [
    {
     "data": {
      "text/plain": [
       "Görüş       0\n",
       "Durum       0\n",
       "new_text    0\n",
       "dtype: int64"
      ]
     },
     "execution_count": 6,
     "metadata": {},
     "output_type": "execute_result"
    }
   ],
   "source": [
    "# Değer olmayan verileri tablodan siliyoruz\n",
    "df = df.dropna()\n",
    "df.isna().sum()"
   ]
  },
  {
   "cell_type": "code",
   "execution_count": 7,
   "id": "88e4dc4a-d481-4143-8b19-cca0ecd39b26",
   "metadata": {},
   "outputs": [
    {
     "data": {
      "text/plain": [
       "['acaba', 'ama', 'aslında', 'az', 'bazı']"
      ]
     },
     "execution_count": 7,
     "metadata": {},
     "output_type": "execute_result"
    }
   ],
   "source": [
    "# Burada bazı gereksiz kelimeri silmek için NLTK kütüphanesinden stopwords fonksiyonunu kullanıyoruz. Bazı gereksiz kelimeri gösterelim.\n",
    "ineffective = stopwords.words('turkish')\n",
    "ineffective[:5]"
   ]
  },
  {
   "cell_type": "code",
   "execution_count": 8,
   "id": "190914ef-ff60-443f-8271-62a0b7bb00cc",
   "metadata": {},
   "outputs": [
    {
     "data": {
      "text/html": [
       "<div>\n",
       "<style scoped>\n",
       "    .dataframe tbody tr th:only-of-type {\n",
       "        vertical-align: middle;\n",
       "    }\n",
       "\n",
       "    .dataframe tbody tr th {\n",
       "        vertical-align: top;\n",
       "    }\n",
       "\n",
       "    .dataframe thead th {\n",
       "        text-align: right;\n",
       "    }\n",
       "</style>\n",
       "<table border=\"1\" class=\"dataframe\">\n",
       "  <thead>\n",
       "    <tr style=\"text-align: right;\">\n",
       "      <th></th>\n",
       "      <th>Görüş</th>\n",
       "      <th>Durum</th>\n",
       "      <th>new_text</th>\n",
       "    </tr>\n",
       "  </thead>\n",
       "  <tbody>\n",
       "    <tr>\n",
       "      <th>0</th>\n",
       "      <td>Cumhuriyetin 100. Yılı x Filenin Sultanları\\n...</td>\n",
       "      <td>1</td>\n",
       "      <td>cumhuriyetin 100 yılı x filenin sultanları avr...</td>\n",
       "    </tr>\n",
       "    <tr>\n",
       "      <th>1</th>\n",
       "      <td>Olimpiyat altınımız olacak!!</td>\n",
       "      <td>1</td>\n",
       "      <td>olimpiyat altınımız olacak</td>\n",
       "    </tr>\n",
       "    <tr>\n",
       "      <th>2</th>\n",
       "      <td>Keşke Fenerbahçe -Galatasaray süper kupa maçı ...</td>\n",
       "      <td>1</td>\n",
       "      <td>keşke fenerbahçe -galatasaray süper kupa maçı ...</td>\n",
       "    </tr>\n",
       "    <tr>\n",
       "      <th>3</th>\n",
       "      <td>Sacmalaama olimpiyat yılı fjejsjdj hem gui ile...</td>\n",
       "      <td>1</td>\n",
       "      <td>sacmalaama olimpiyat yılı fjejsjdj gui calisma...</td>\n",
       "    </tr>\n",
       "    <tr>\n",
       "      <th>4</th>\n",
       "      <td>Geçen sene bilmem de bu sene yedeğe asla geçme...</td>\n",
       "      <td>1</td>\n",
       "      <td>geçen sene bilmem sene yedeğe asla geçmezdi ar...</td>\n",
       "    </tr>\n",
       "  </tbody>\n",
       "</table>\n",
       "</div>"
      ],
      "text/plain": [
       "                                               Görüş  Durum  \\\n",
       "0   Cumhuriyetin 100. Yılı x Filenin Sultanları\\n...      1   \n",
       "1                       Olimpiyat altınımız olacak!!      1   \n",
       "2  Keşke Fenerbahçe -Galatasaray süper kupa maçı ...      1   \n",
       "3  Sacmalaama olimpiyat yılı fjejsjdj hem gui ile...      1   \n",
       "4  Geçen sene bilmem de bu sene yedeğe asla geçme...      1   \n",
       "\n",
       "                                            new_text  \n",
       "0  cumhuriyetin 100 yılı x filenin sultanları avr...  \n",
       "1                         olimpiyat altınımız olacak  \n",
       "2  keşke fenerbahçe -galatasaray süper kupa maçı ...  \n",
       "3  sacmalaama olimpiyat yılı fjejsjdj gui calisma...  \n",
       "4  geçen sene bilmem sene yedeğe asla geçmezdi ar...  "
      ]
     },
     "execution_count": 8,
     "metadata": {},
     "output_type": "execute_result"
    }
   ],
   "source": [
    "df['new_text'] = df['new_text'].apply(lambda x: \" \".join(x for x in x.split() if x not in ineffective))\n",
    "\n",
    "df.head()"
   ]
  },
  {
   "cell_type": "code",
   "execution_count": 9,
   "id": "76675055-8398-456f-96a9-b8ba9452c90e",
   "metadata": {},
   "outputs": [],
   "source": [
    "# Yapılan ön işlemli dataframe'yi kaydedelim\n",
    "df.to_csv(\"data/tweets2.csv\")"
   ]
  },
  {
   "cell_type": "code",
   "execution_count": 10,
   "id": "17aaf7d2-8377-452b-8da7-5cfdb20a4e41",
   "metadata": {},
   "outputs": [],
   "source": [
    "# TF-IDF'yi metindeki bir kelimenin önemini ölçmek için kullanıyoruz. Böylece bir kelimenin cümledeki sıklık değeri metnin tamamındaki sıklık değerine bölünerek o sözcüğe bir ağırlık değeri verilir.\n",
    "# CountVectorizer, bir metindeki her kelimenin geçiş sayısını sayarak bir dağılım matrisi oluşturur.Bu matriste, her kelime bir sütun ve her metin bir satırdır.\n",
    "X_train, X_test, y_train, y_test = train_test_split(df['new_text'], df['Durum'], test_size=0.2, random_state=42)\n",
    "\n",
    "tf_vector = TfidfVectorizer(max_features =  5000)\n",
    "ct_vector = CountVectorizer(max_features = 5000)\n",
    "\n",
    "#X = tf_vector.fit_transform(df['new_text'])\n",
    "#Y = df['sentiment']\n",
    "\n",
    "X_train_vec = tf_vector.fit_transform(X_train)\n",
    "X_test_vec = tf_vector.transform(X_test)\n",
    "X_train_ct = ct_vector.fit_transform(X_train)\n",
    "X_test_ct = ct_vector.transform(X_test)"
   ]
  },
  {
   "cell_type": "markdown",
   "id": "a81c63e0-820b-455f-9af0-62cbcd8a7919",
   "metadata": {},
   "source": [
    "# Makine Öğrenmesi Modelleri"
   ]
  },
  {
   "cell_type": "markdown",
   "id": "e6125b71-06fb-4009-ac4b-9e0874bbe41c",
   "metadata": {},
   "source": [
    "## Naive Bayes"
   ]
  },
  {
   "cell_type": "code",
   "execution_count": 11,
   "id": "8a2d9a5c-5f62-49e9-b353-0ab5896a4a11",
   "metadata": {},
   "outputs": [
    {
     "data": {
      "image/png": "[encoded data removed]",
      "text/plain": [
       "<Figure size 640x480 with 1 Axes>"
      ]
     },
     "metadata": {},
     "output_type": "display_data"
    },
    {
     "name": "stdout",
     "output_type": "stream",
     "text": [
      "              precision    recall  f1-score   support\n",
      "\n",
      "           0       0.77      0.95      0.85      1088\n",
      "           1       0.94      0.71      0.81      1083\n",
      "\n",
      "    accuracy                           0.83      2171\n",
      "   macro avg       0.85      0.83      0.83      2171\n",
      "weighted avg       0.85      0.83      0.83      2171\n",
      "\n"
     ]
    }
   ],
   "source": [
    "nb_tf = BernoulliNB()\n",
    "nb_tf.fit(X_train_vec, y_train)\n",
    "\n",
    "def evaluate_model(model, X_test, y_test):\n",
    "    y_pred = model.predict(X_test)\n",
    "    cm = confusion_matrix(y_test, y_pred)\n",
    "    sns.heatmap(cm, annot=True, cbar=False, fmt=\".4g\")\n",
    "    plt.show()\n",
    "    print(classification_report(y_test, y_pred))\n",
    "    \n",
    "result = pd.DataFrame(columns=['TF_Vectorizer_accuracy', 'Count_Vectorizer_accuracy', 'Model'])\n",
    "    \n",
    "evaluate_model(nb_tf, X_test_vec, y_test)\n",
    "\n",
    "# Precision (Hassasiyet): Pozitif olarak tahmin edilen örnekler arasında gerçekten pozitif olanların oranı.\n",
    "# Recall (Duyarlılık veya yeniden çağırma): Gerçek pozitif örneklerin, pozitif olarak doğru tahmin edilenlerle oranı.\n",
    "# F1-Score: Hassasiyet ve duyarlılığın harmonik ortalaması. Dengeli bir metrik olup, her iki değeri de dikkate alır.\n",
    "# Support (Destek): Her sınıftaki gerçek örnek sayısı."
   ]
  },
  {
   "cell_type": "code",
   "execution_count": 12,
   "id": "c086a42e-c3f7-4d1c-afd3-a9df2ee04266",
   "metadata": {},
   "outputs": [
    {
     "data": {
      "image/png": "[encoded data removed]",
      "text/plain": [
       "<Figure size 640x480 with 1 Axes>"
      ]
     },
     "metadata": {},
     "output_type": "display_data"
    },
    {
     "name": "stdout",
     "output_type": "stream",
     "text": [
      "              precision    recall  f1-score   support\n",
      "\n",
      "           0       0.77      0.95      0.85      1088\n",
      "           1       0.94      0.71      0.81      1083\n",
      "\n",
      "    accuracy                           0.83      2171\n",
      "   macro avg       0.85      0.83      0.83      2171\n",
      "weighted avg       0.85      0.83      0.83      2171\n",
      "\n"
     ]
    },
    {
     "data": {
      "text/html": [
       "<div>\n",
       "<style scoped>\n",
       "    .dataframe tbody tr th:only-of-type {\n",
       "        vertical-align: middle;\n",
       "    }\n",
       "\n",
       "    .dataframe tbody tr th {\n",
       "        vertical-align: top;\n",
       "    }\n",
       "\n",
       "    .dataframe thead th {\n",
       "        text-align: right;\n",
       "    }\n",
       "</style>\n",
       "<table border=\"1\" class=\"dataframe\">\n",
       "  <thead>\n",
       "    <tr style=\"text-align: right;\">\n",
       "      <th></th>\n",
       "      <th>TF_Vectorizer_accuracy</th>\n",
       "      <th>Count_Vectorizer_accuracy</th>\n",
       "      <th>Model</th>\n",
       "    </tr>\n",
       "  </thead>\n",
       "  <tbody>\n",
       "    <tr>\n",
       "      <th>0</th>\n",
       "      <td>0.832</td>\n",
       "      <td>0.832</td>\n",
       "      <td>Naive Bayes</td>\n",
       "    </tr>\n",
       "  </tbody>\n",
       "</table>\n",
       "</div>"
      ],
      "text/plain": [
       "   TF_Vectorizer_accuracy  Count_Vectorizer_accuracy        Model\n",
       "0                   0.832                      0.832  Naive Bayes"
      ]
     },
     "execution_count": 12,
     "metadata": {},
     "output_type": "execute_result"
    }
   ],
   "source": [
    "nb_ct = BernoulliNB()\n",
    "nb_ct.fit(X_train_ct, y_train)\n",
    "\n",
    "new_row = pd.DataFrame({\n",
    "    'Model': ['Naive Bayes'],\n",
    "    'Count_Vectorizer_accuracy': [nb_ct.score(X_test_ct, y_test)],\n",
    "    'TF_Vectorizer_accuracy': [nb_tf.score(X_test_vec, y_test)]\n",
    "})\n",
    "\n",
    "evaluate_model(nb_ct, X_test_ct, y_test)\n",
    "result = pd.concat([result, new_row], ignore_index=True)\n",
    "\n",
    "result"
   ]
  },
  {
   "cell_type": "markdown",
   "id": "8946a8ea-7569-495c-9db7-ddca2b227e38",
   "metadata": {},
   "source": [
    "## Support Vector Machine (SVM)"
   ]
  },
  {
   "cell_type": "code",
   "execution_count": 13,
   "id": "04e4c3ee-cb19-4cb5-89fc-dfb517e889a0",
   "metadata": {},
   "outputs": [
    {
     "data": {
      "image/png": "[encoded data removed]",
      "text/plain": [
       "<Figure size 640x480 with 1 Axes>"
      ]
     },
     "metadata": {},
     "output_type": "display_data"
    },
    {
     "name": "stdout",
     "output_type": "stream",
     "text": [
      "              precision    recall  f1-score   support\n",
      "\n",
      "           0       0.79      0.93      0.86      1088\n",
      "           1       0.92      0.76      0.83      1083\n",
      "\n",
      "    accuracy                           0.84      2171\n",
      "   macro avg       0.85      0.84      0.84      2171\n",
      "weighted avg       0.85      0.84      0.84      2171\n",
      "\n"
     ]
    }
   ],
   "source": [
    "svc_tf = SVC()\n",
    "svc_tf.fit(X_train_vec, y_train)\n",
    "evaluate_model(svc_tf, X_test_vec, y_test)\n",
    "\n",
    "# Precision (Hassasiyet): Pozitif olarak tahmin edilen örnekler arasında gerçekten pozitif olanların oranı.\n",
    "# Recall (Duyarlılık veya yeniden çağırma): Gerçek pozitif örneklerin, pozitif olarak doğru tahmin edilenlerle oranı.\n",
    "# F1-Score: Hassasiyet ve duyarlılığın harmonik ortalaması. Dengeli bir metrik olup, her iki değeri de dikkate alır.\n",
    "# Support (Destek): Her sınıftaki gerçek örnek sayısı."
   ]
  },
  {
   "cell_type": "code",
   "execution_count": 14,
   "id": "1c27c5d9-84c8-4b12-adf7-69668db93c96",
   "metadata": {},
   "outputs": [
    {
     "data": {
      "image/png": "[encoded data removed]",
      "text/plain": [
       "<Figure size 640x480 with 1 Axes>"
      ]
     },
     "metadata": {},
     "output_type": "display_data"
    },
    {
     "name": "stdout",
     "output_type": "stream",
     "text": [
      "              precision    recall  f1-score   support\n",
      "\n",
      "           0       0.78      0.93      0.85      1088\n",
      "           1       0.91      0.73      0.81      1083\n",
      "\n",
      "    accuracy                           0.83      2171\n",
      "   macro avg       0.84      0.83      0.83      2171\n",
      "weighted avg       0.84      0.83      0.83      2171\n",
      "\n"
     ]
    },
    {
     "data": {
      "text/html": [
       "<div>\n",
       "<style scoped>\n",
       "    .dataframe tbody tr th:only-of-type {\n",
       "        vertical-align: middle;\n",
       "    }\n",
       "\n",
       "    .dataframe tbody tr th {\n",
       "        vertical-align: top;\n",
       "    }\n",
       "\n",
       "    .dataframe thead th {\n",
       "        text-align: right;\n",
       "    }\n",
       "</style>\n",
       "<table border=\"1\" class=\"dataframe\">\n",
       "  <thead>\n",
       "    <tr style=\"text-align: right;\">\n",
       "      <th></th>\n",
       "      <th>TF_Vectorizer_accuracy</th>\n",
       "      <th>Count_Vectorizer_accuracy</th>\n",
       "      <th>Model</th>\n",
       "    </tr>\n",
       "  </thead>\n",
       "  <tbody>\n",
       "    <tr>\n",
       "      <th>0</th>\n",
       "      <td>0.832</td>\n",
       "      <td>0.832</td>\n",
       "      <td>Naive Bayes</td>\n",
       "    </tr>\n",
       "    <tr>\n",
       "      <th>1</th>\n",
       "      <td>0.844</td>\n",
       "      <td>0.831</td>\n",
       "      <td>Support Vector Machine</td>\n",
       "    </tr>\n",
       "  </tbody>\n",
       "</table>\n",
       "</div>"
      ],
      "text/plain": [
       "   TF_Vectorizer_accuracy  Count_Vectorizer_accuracy                   Model\n",
       "0                   0.832                      0.832             Naive Bayes\n",
       "1                   0.844                      0.831  Support Vector Machine"
      ]
     },
     "execution_count": 14,
     "metadata": {},
     "output_type": "execute_result"
    }
   ],
   "source": [
    "svc_ct = SVC()\n",
    "svc_ct.fit(X_train_ct, y_train)\n",
    "evaluate_model(svc_ct, X_test_ct, y_test)\n",
    "\n",
    "new_row_svc = pd.DataFrame({\n",
    "    'Model': ['Support Vector Machine'],\n",
    "    'Count_Vectorizer_accuracy': [svc_ct.score(X_test_ct, y_test)],\n",
    "    'TF_Vectorizer_accuracy': [svc_tf.score(X_test_vec, y_test)]\n",
    "})\n",
    "\n",
    "result = pd.concat([result, new_row_svc], ignore_index=True)\n",
    "result"
   ]
  },
  {
   "cell_type": "markdown",
   "id": "44a93520-12e7-4181-b02d-88c3ad575abe",
   "metadata": {},
   "source": [
    "## XGBOOST"
   ]
  },
  {
   "cell_type": "code",
   "execution_count": 15,
   "id": "7421bffb-155d-4917-b02c-418c47c6ebc6",
   "metadata": {},
   "outputs": [
    {
     "data": {
      "image/png": "[encoded data removed]",
      "text/plain": [
       "<Figure size 640x480 with 1 Axes>"
      ]
     },
     "metadata": {},
     "output_type": "display_data"
    },
    {
     "name": "stdout",
     "output_type": "stream",
     "text": [
      "              precision    recall  f1-score   support\n",
      "\n",
      "           0       0.77      0.90      0.83      1088\n",
      "           1       0.88      0.73      0.80      1083\n",
      "\n",
      "    accuracy                           0.82      2171\n",
      "   macro avg       0.83      0.82      0.82      2171\n",
      "weighted avg       0.83      0.82      0.82      2171\n",
      "\n"
     ]
    }
   ],
   "source": [
    "xb_tf = XGBClassifier()\n",
    "xb_tf.fit(X_train_vec, y_train)\n",
    "evaluate_model(xb_tf, X_test_vec, y_test)\n",
    "\n",
    "# Precision (Hassasiyet): Pozitif olarak tahmin edilen örnekler arasında gerçekten pozitif olanların oranı.\n",
    "# Recall (Duyarlılık veya yeniden çağırma): Gerçek pozitif örneklerin, pozitif olarak doğru tahmin edilenlerle oranı.\n",
    "# F1-Score: Hassasiyet ve duyarlılığın harmonik ortalaması. Dengeli bir metrik olup, her iki değeri de dikkate alır.\n",
    "# Support (Destek): Her sınıftaki gerçek örnek sayısı."
   ]
  },
  {
   "cell_type": "code",
   "execution_count": 16,
   "id": "fc055056-0c44-44e6-9923-05d5b3463f16",
   "metadata": {},
   "outputs": [
    {
     "data": {
      "image/png": "[encoded data removed]",
      "text/plain": [
       "<Figure size 640x480 with 1 Axes>"
      ]
     },
     "metadata": {},
     "output_type": "display_data"
    },
    {
     "name": "stdout",
     "output_type": "stream",
     "text": [
      "              precision    recall  f1-score   support\n",
      "\n",
      "           0       0.77      0.90      0.83      1088\n",
      "           1       0.88      0.73      0.80      1083\n",
      "\n",
      "    accuracy                           0.82      2171\n",
      "   macro avg       0.83      0.82      0.82      2171\n",
      "weighted avg       0.83      0.82      0.82      2171\n",
      "\n"
     ]
    },
    {
     "data": {
      "text/html": [
       "<div>\n",
       "<style scoped>\n",
       "    .dataframe tbody tr th:only-of-type {\n",
       "        vertical-align: middle;\n",
       "    }\n",
       "\n",
       "    .dataframe tbody tr th {\n",
       "        vertical-align: top;\n",
       "    }\n",
       "\n",
       "    .dataframe thead th {\n",
       "        text-align: right;\n",
       "    }\n",
       "</style>\n",
       "<table border=\"1\" class=\"dataframe\">\n",
       "  <thead>\n",
       "    <tr style=\"text-align: right;\">\n",
       "      <th></th>\n",
       "      <th>TF_Vectorizer_accuracy</th>\n",
       "      <th>Count_Vectorizer_accuracy</th>\n",
       "      <th>Model</th>\n",
       "    </tr>\n",
       "  </thead>\n",
       "  <tbody>\n",
       "    <tr>\n",
       "      <th>0</th>\n",
       "      <td>0.832</td>\n",
       "      <td>0.832</td>\n",
       "      <td>Naive Bayes</td>\n",
       "    </tr>\n",
       "    <tr>\n",
       "      <th>1</th>\n",
       "      <td>0.844</td>\n",
       "      <td>0.831</td>\n",
       "      <td>Support Vector Machine</td>\n",
       "    </tr>\n",
       "    <tr>\n",
       "      <th>2</th>\n",
       "      <td>0.817</td>\n",
       "      <td>0.817</td>\n",
       "      <td>XGBOOST</td>\n",
       "    </tr>\n",
       "  </tbody>\n",
       "</table>\n",
       "</div>"
      ],
      "text/plain": [
       "   TF_Vectorizer_accuracy  Count_Vectorizer_accuracy                   Model\n",
       "0                   0.832                      0.832             Naive Bayes\n",
       "1                   0.844                      0.831  Support Vector Machine\n",
       "2                   0.817                      0.817                 XGBOOST"
      ]
     },
     "execution_count": 16,
     "metadata": {},
     "output_type": "execute_result"
    }
   ],
   "source": [
    "xb_ct = XGBClassifier()\n",
    "xb_ct.fit(X_train_ct, y_train)\n",
    "evaluate_model(xb_ct, X_test_ct, y_test)\n",
    "\n",
    "new_row_xb = pd.DataFrame({\n",
    "    'Model': ['XGBOOST'],\n",
    "    'Count_Vectorizer_accuracy': [xb_ct.score(X_test_ct, y_test)],\n",
    "    'TF_Vectorizer_accuracy': [xb_tf.score(X_test_vec, y_test)]\n",
    "})\n",
    "\n",
    "result = pd.concat([result, new_row_xb], ignore_index=True)\n",
    "\n",
    "result"
   ]
  },
  {
   "cell_type": "markdown",
   "id": "8d90cf6e-4656-4f6d-9b72-948215a68f2f",
   "metadata": {},
   "source": [
    "## CATBOOST"
   ]
  },
  {
   "cell_type": "code",
   "execution_count": 17,
   "id": "88298995-edee-41db-87ad-7a2dd74f9a10",
   "metadata": {},
   "outputs": [
    {
     "data": {
      "image/png": "[encoded data removed]",
      "text/plain": [
       "<Figure size 640x480 with 1 Axes>"
      ]
     },
     "metadata": {},
     "output_type": "display_data"
    },
    {
     "name": "stdout",
     "output_type": "stream",
     "text": [
      "              precision    recall  f1-score   support\n",
      "\n",
      "           0       0.78      0.90      0.84      1088\n",
      "           1       0.88      0.74      0.81      1083\n",
      "\n",
      "    accuracy                           0.82      2171\n",
      "   macro avg       0.83      0.82      0.82      2171\n",
      "weighted avg       0.83      0.82      0.82      2171\n",
      "\n"
     ]
    }
   ],
   "source": [
    "cb_tf = CatBoostClassifier()\n",
    "cb_tf.fit(X_train_vec, y_train, verbose = 0)\n",
    "evaluate_model(cb_tf, X_test_vec, y_test)\n",
    "\n",
    "# Precision (Hassasiyet): Pozitif olarak tahmin edilen örnekler arasında gerçekten pozitif olanların oranı.\n",
    "# Recall (Duyarlılık veya yeniden çağırma): Gerçek pozitif örneklerin, pozitif olarak doğru tahmin edilenlerle oranı.\n",
    "# F1-Score: Hassasiyet ve duyarlılığın harmonik ortalaması. Dengeli bir metrik olup, her iki değeri de dikkate alır.\n",
    "# Support (Destek): Her sınıftaki gerçek örnek sayısı."
   ]
  },
  {
   "cell_type": "code",
   "execution_count": 18,
   "id": "8a442eb1-53cd-4310-968a-0778a561e0d8",
   "metadata": {},
   "outputs": [
    {
     "data": {
      "image/png": "[encoded data removed]",
      "text/plain": [
       "<Figure size 640x480 with 1 Axes>"
      ]
     },
     "metadata": {},
     "output_type": "display_data"
    },
    {
     "name": "stdout",
     "output_type": "stream",
     "text": [
      "              precision    recall  f1-score   support\n",
      "\n",
      "           0       0.77      0.91      0.84      1088\n",
      "           1       0.89      0.73      0.80      1083\n",
      "\n",
      "    accuracy                           0.82      2171\n",
      "   macro avg       0.83      0.82      0.82      2171\n",
      "weighted avg       0.83      0.82      0.82      2171\n",
      "\n"
     ]
    },
    {
     "data": {
      "text/html": [
       "<div>\n",
       "<style scoped>\n",
       "    .dataframe tbody tr th:only-of-type {\n",
       "        vertical-align: middle;\n",
       "    }\n",
       "\n",
       "    .dataframe tbody tr th {\n",
       "        vertical-align: top;\n",
       "    }\n",
       "\n",
       "    .dataframe thead th {\n",
       "        text-align: right;\n",
       "    }\n",
       "</style>\n",
       "<table border=\"1\" class=\"dataframe\">\n",
       "  <thead>\n",
       "    <tr style=\"text-align: right;\">\n",
       "      <th></th>\n",
       "      <th>TF_Vectorizer_accuracy</th>\n",
       "      <th>Count_Vectorizer_accuracy</th>\n",
       "      <th>Model</th>\n",
       "    </tr>\n",
       "  </thead>\n",
       "  <tbody>\n",
       "    <tr>\n",
       "      <th>0</th>\n",
       "      <td>0.832</td>\n",
       "      <td>0.832</td>\n",
       "      <td>Naive Bayes</td>\n",
       "    </tr>\n",
       "    <tr>\n",
       "      <th>1</th>\n",
       "      <td>0.844</td>\n",
       "      <td>0.831</td>\n",
       "      <td>Support Vector Machine</td>\n",
       "    </tr>\n",
       "    <tr>\n",
       "      <th>2</th>\n",
       "      <td>0.817</td>\n",
       "      <td>0.817</td>\n",
       "      <td>XGBOOST</td>\n",
       "    </tr>\n",
       "    <tr>\n",
       "      <th>3</th>\n",
       "      <td>0.821</td>\n",
       "      <td>0.820</td>\n",
       "      <td>CATBOOST</td>\n",
       "    </tr>\n",
       "  </tbody>\n",
       "</table>\n",
       "</div>"
      ],
      "text/plain": [
       "   TF_Vectorizer_accuracy  Count_Vectorizer_accuracy                   Model\n",
       "0                   0.832                      0.832             Naive Bayes\n",
       "1                   0.844                      0.831  Support Vector Machine\n",
       "2                   0.817                      0.817                 XGBOOST\n",
       "3                   0.821                      0.820                CATBOOST"
      ]
     },
     "execution_count": 18,
     "metadata": {},
     "output_type": "execute_result"
    }
   ],
   "source": [
    "cb_ct = CatBoostClassifier()\n",
    "cb_ct.fit(X_train_ct, y_train, verbose=0)\n",
    "evaluate_model(cb_ct, X_test_ct, y_test)\n",
    "\n",
    "new_row_cb = pd.DataFrame({\n",
    "    'Model': ['CATBOOST'],\n",
    "    'Count_Vectorizer_accuracy': [cb_ct.score(X_test_ct, y_test)],\n",
    "    'TF_Vectorizer_accuracy': [cb_tf.score(X_test_vec, y_test)]\n",
    "})\n",
    "\n",
    "result = pd.concat([result, new_row_cb], ignore_index=True)\n",
    "result"
   ]
  },
  {
   "cell_type": "markdown",
   "id": "747c2865-7e86-4a3f-b2c9-4f5fae7fb997",
   "metadata": {},
   "source": [
    "# Derin Öğrenme Modelleri"
   ]
  },
  {
   "cell_type": "markdown",
   "id": "ad6e8c3a-1ad3-4f0c-adc0-05f190f7ee4b",
   "metadata": {},
   "source": [
    "## ANN"
   ]
  },
  {
   "cell_type": "code",
   "execution_count": 19,
   "id": "8b379aeb-04b9-494a-9162-12ad68cb78a9",
   "metadata": {},
   "outputs": [],
   "source": [
    "train_df, test_df = train_test_split(df, test_size=0.2, random_state=42)\n",
    "\n",
    "# Tokenizer'ı yarat və train datasını tokenize et\n",
    "# Create Tokenizer and tokenize train data\n",
    "num_words = 10000\n",
    "tokenizer = Tokenizer(num_words=num_words)\n",
    "tokenizer.fit_on_texts(train_df[\"Görüş\"])\n",
    "\n",
    "# Tokenize edilmiş dataları tamamla (padding et)\n",
    "# Padding tokenized data\n",
    "maxlen = 200\n",
    "X_train_dl = pad_sequences(tokenizer.texts_to_sequences(train_df[\"Görüş\"]), maxlen=maxlen)\n",
    "X_test_dl = pad_sequences(tokenizer.texts_to_sequences(test_df[\"Görüş\"]), maxlen=maxlen)\n",
    "\n",
    "y_train = train_df[\"Durum\"].values\n",
    "y_test = test_df[\"Durum\"].values"
   ]
  },
  {
   "cell_type": "code",
   "execution_count": 20,
   "id": "fa0be580-5edf-4ee0-808e-967e0c5c922a",
   "metadata": {},
   "outputs": [
    {
     "name": "stderr",
     "output_type": "stream",
     "text": [
      "/Library/Frameworks/Python.framework/Versions/3.12/lib/python3.12/site-packages/keras/src/layers/core/dense.py:86: UserWarning: Do not pass an `input_shape`/`input_dim` argument to a layer. When using Sequential models, prefer using an `Input(shape)` object as the first layer in the model instead.\n",
      "  super().__init__(activity_regularizer=activity_regularizer, **kwargs)\n"
     ]
    },
    {
     "data": {
      "text/html": [
       "<pre style=\"white-space:pre;overflow-x:auto;line-height:normal;font-family:Menlo,'DejaVu Sans Mono',consolas,'Courier New',monospace\"><span style=\"font-weight: bold\">Model: \"sequential\"</span>\n",
       "</pre>\n"
      ],
      "text/plain": [
       "\u001b[1mModel: \"sequential\"\u001b[0m\n"
      ]
     },
     "metadata": {},
     "output_type": "display_data"
    },
    {
     "data": {
      "text/html": [
       "<pre style=\"white-space:pre;overflow-x:auto;line-height:normal;font-family:Menlo,'DejaVu Sans Mono',consolas,'Courier New',monospace\">┏━━━━━━━━━━━━━━━━━━━━━━━━━━━━━━━━━┳━━━━━━━━━━━━━━━━━━━━━━━━┳━━━━━━━━━━━━━━━┓\n",
       "┃<span style=\"font-weight: bold\"> Layer (type)                    </span>┃<span style=\"font-weight: bold\"> Output Shape           </span>┃<span style=\"font-weight: bold\">       Param # </span>┃\n",
       "┡━━━━━━━━━━━━━━━━━━━━━━━━━━━━━━━━━╇━━━━━━━━━━━━━━━━━━━━━━━━╇━━━━━━━━━━━━━━━┩\n",
       "│ dense (<span style=\"color: #0087ff; text-decoration-color: #0087ff\">Dense</span>)                   │ (<span style=\"color: #00d7ff; text-decoration-color: #00d7ff\">None</span>, <span style=\"color: #00af00; text-decoration-color: #00af00\">128</span>)            │        <span style=\"color: #00af00; text-decoration-color: #00af00\">25,728</span> │\n",
       "├─────────────────────────────────┼────────────────────────┼───────────────┤\n",
       "│ dense_1 (<span style=\"color: #0087ff; text-decoration-color: #0087ff\">Dense</span>)                 │ (<span style=\"color: #00d7ff; text-decoration-color: #00d7ff\">None</span>, <span style=\"color: #00af00; text-decoration-color: #00af00\">64</span>)             │         <span style=\"color: #00af00; text-decoration-color: #00af00\">8,256</span> │\n",
       "├─────────────────────────────────┼────────────────────────┼───────────────┤\n",
       "│ dense_2 (<span style=\"color: #0087ff; text-decoration-color: #0087ff\">Dense</span>)                 │ (<span style=\"color: #00d7ff; text-decoration-color: #00d7ff\">None</span>, <span style=\"color: #00af00; text-decoration-color: #00af00\">1</span>)              │            <span style=\"color: #00af00; text-decoration-color: #00af00\">65</span> │\n",
       "└─────────────────────────────────┴────────────────────────┴───────────────┘\n",
       "</pre>\n"
      ],
      "text/plain": [
       "┏━━━━━━━━━━━━━━━━━━━━━━━━━━━━━━━━━┳━━━━━━━━━━━━━━━━━━━━━━━━┳━━━━━━━━━━━━━━━┓\n",
       "┃\u001b[1m \u001b[0m\u001b[1mLayer (type)                   \u001b[0m\u001b[1m \u001b[0m┃\u001b[1m \u001b[0m\u001b[1mOutput Shape          \u001b[0m\u001b[1m \u001b[0m┃\u001b[1m \u001b[0m\u001b[1m      Param #\u001b[0m\u001b[1m \u001b[0m┃\n",
       "┡━━━━━━━━━━━━━━━━━━━━━━━━━━━━━━━━━╇━━━━━━━━━━━━━━━━━━━━━━━━╇━━━━━━━━━━━━━━━┩\n",
       "│ dense (\u001b[38;5;33mDense\u001b[0m)                   │ (\u001b[38;5;45mNone\u001b[0m, \u001b[38;5;34m128\u001b[0m)            │        \u001b[38;5;34m25,728\u001b[0m │\n",
       "├─────────────────────────────────┼────────────────────────┼───────────────┤\n",
       "│ dense_1 (\u001b[38;5;33mDense\u001b[0m)                 │ (\u001b[38;5;45mNone\u001b[0m, \u001b[38;5;34m64\u001b[0m)             │         \u001b[38;5;34m8,256\u001b[0m │\n",
       "├─────────────────────────────────┼────────────────────────┼───────────────┤\n",
       "│ dense_2 (\u001b[38;5;33mDense\u001b[0m)                 │ (\u001b[38;5;45mNone\u001b[0m, \u001b[38;5;34m1\u001b[0m)              │            \u001b[38;5;34m65\u001b[0m │\n",
       "└─────────────────────────────────┴────────────────────────┴───────────────┘\n"
      ]
     },
     "metadata": {},
     "output_type": "display_data"
    },
    {
     "data": {
      "text/html": [
       "<pre style=\"white-space:pre;overflow-x:auto;line-height:normal;font-family:Menlo,'DejaVu Sans Mono',consolas,'Courier New',monospace\"><span style=\"font-weight: bold\"> Total params: </span><span style=\"color: #00af00; text-decoration-color: #00af00\">34,049</span> (133.00 KB)\n",
       "</pre>\n"
      ],
      "text/plain": [
       "\u001b[1m Total params: \u001b[0m\u001b[38;5;34m34,049\u001b[0m (133.00 KB)\n"
      ]
     },
     "metadata": {},
     "output_type": "display_data"
    },
    {
     "data": {
      "text/html": [
       "<pre style=\"white-space:pre;overflow-x:auto;line-height:normal;font-family:Menlo,'DejaVu Sans Mono',consolas,'Courier New',monospace\"><span style=\"font-weight: bold\"> Trainable params: </span><span style=\"color: #00af00; text-decoration-color: #00af00\">34,049</span> (133.00 KB)\n",
       "</pre>\n"
      ],
      "text/plain": [
       "\u001b[1m Trainable params: \u001b[0m\u001b[38;5;34m34,049\u001b[0m (133.00 KB)\n"
      ]
     },
     "metadata": {},
     "output_type": "display_data"
    },
    {
     "data": {
      "text/html": [
       "<pre style=\"white-space:pre;overflow-x:auto;line-height:normal;font-family:Menlo,'DejaVu Sans Mono',consolas,'Courier New',monospace\"><span style=\"font-weight: bold\"> Non-trainable params: </span><span style=\"color: #00af00; text-decoration-color: #00af00\">0</span> (0.00 B)\n",
       "</pre>\n"
      ],
      "text/plain": [
       "\u001b[1m Non-trainable params: \u001b[0m\u001b[38;5;34m0\u001b[0m (0.00 B)\n"
      ]
     },
     "metadata": {},
     "output_type": "display_data"
    }
   ],
   "source": [
    "tf.random.set_seed(42)\n",
    "\n",
    "ann_model = tf.keras.Sequential([\n",
    "    tf.keras.layers.Dense(128, activation='relu', input_shape = (X_train_dl.shape[1], )),\n",
    "    tf.keras.layers.Dense(64, activation='relu'),\n",
    "    tf.keras.layers.Dense(1, activation='sigmoid')\n",
    "])\n",
    "\n",
    "ann_model.compile(loss='binary_crossentropy', optimizer='adam', metrics=['accuracy'])\n",
    "\n",
    "ann_model.summary()"
   ]
  },
  {
   "cell_type": "code",
   "execution_count": 21,
   "id": "f625cbee-4e10-4298-98f4-babc660b1625",
   "metadata": {},
   "outputs": [],
   "source": [
    "early_stopping = tf.keras.callbacks.EarlyStopping(monitor='val_loss', patience=2, mode='min', restore_best_weights=True)"
   ]
  },
  {
   "cell_type": "code",
   "execution_count": 22,
   "id": "623aec4e-8825-4202-afb3-ea28fd9aea11",
   "metadata": {},
   "outputs": [
    {
     "name": "stdout",
     "output_type": "stream",
     "text": [
      "Epoch 1/20\n",
      "\u001b[1m272/272\u001b[0m \u001b[32m━━━━━━━━━━━━━━━━━━━━\u001b[0m\u001b[37m\u001b[0m \u001b[1m0s\u001b[0m 557us/step - accuracy: 0.5067 - loss: 76.0284 - val_accuracy: 0.5067 - val_loss: 19.1350\n",
      "Epoch 2/20\n",
      "\u001b[1m272/272\u001b[0m \u001b[32m━━━━━━━━━━━━━━━━━━━━\u001b[0m\u001b[37m\u001b[0m \u001b[1m0s\u001b[0m 403us/step - accuracy: 0.5123 - loss: 18.4267 - val_accuracy: 0.5099 - val_loss: 11.0833\n",
      "Epoch 3/20\n",
      "\u001b[1m272/272\u001b[0m \u001b[32m━━━━━━━━━━━━━━━━━━━━\u001b[0m\u001b[37m\u001b[0m \u001b[1m0s\u001b[0m 398us/step - accuracy: 0.5406 - loss: 9.8911 - val_accuracy: 0.4942 - val_loss: 8.0045\n",
      "Epoch 4/20\n",
      "\u001b[1m272/272\u001b[0m \u001b[32m━━━━━━━━━━━━━━━━━━━━\u001b[0m\u001b[37m\u001b[0m \u001b[1m0s\u001b[0m 412us/step - accuracy: 0.5483 - loss: 6.5166 - val_accuracy: 0.5154 - val_loss: 6.0765\n",
      "Epoch 5/20\n",
      "\u001b[1m272/272\u001b[0m \u001b[32m━━━━━━━━━━━━━━━━━━━━\u001b[0m\u001b[37m\u001b[0m \u001b[1m0s\u001b[0m 403us/step - accuracy: 0.5579 - loss: 4.8082 - val_accuracy: 0.5002 - val_loss: 4.8513\n",
      "Epoch 6/20\n",
      "\u001b[1m272/272\u001b[0m \u001b[32m━━━━━━━━━━━━━━━━━━━━\u001b[0m\u001b[37m\u001b[0m \u001b[1m0s\u001b[0m 397us/step - accuracy: 0.5656 - loss: 4.3047 - val_accuracy: 0.5108 - val_loss: 5.3863\n",
      "Epoch 7/20\n",
      "\u001b[1m272/272\u001b[0m \u001b[32m━━━━━━━━━━━━━━━━━━━━\u001b[0m\u001b[37m\u001b[0m \u001b[1m0s\u001b[0m 386us/step - accuracy: 0.5648 - loss: 4.0834 - val_accuracy: 0.5159 - val_loss: 3.8637\n",
      "Epoch 8/20\n",
      "\u001b[1m272/272\u001b[0m \u001b[32m━━━━━━━━━━━━━━━━━━━━\u001b[0m\u001b[37m\u001b[0m \u001b[1m0s\u001b[0m 401us/step - accuracy: 0.5841 - loss: 2.6133 - val_accuracy: 0.5012 - val_loss: 3.3865\n",
      "Epoch 9/20\n",
      "\u001b[1m272/272\u001b[0m \u001b[32m━━━━━━━━━━━━━━━━━━━━\u001b[0m\u001b[37m\u001b[0m \u001b[1m0s\u001b[0m 402us/step - accuracy: 0.5945 - loss: 2.1076 - val_accuracy: 0.5039 - val_loss: 3.1304\n",
      "Epoch 10/20\n",
      "\u001b[1m272/272\u001b[0m \u001b[32m━━━━━━━━━━━━━━━━━━━━\u001b[0m\u001b[37m\u001b[0m \u001b[1m0s\u001b[0m 403us/step - accuracy: 0.6014 - loss: 1.9835 - val_accuracy: 0.5191 - val_loss: 3.2727\n",
      "Epoch 11/20\n",
      "\u001b[1m272/272\u001b[0m \u001b[32m━━━━━━━━━━━━━━━━━━━━\u001b[0m\u001b[37m\u001b[0m \u001b[1m0s\u001b[0m 399us/step - accuracy: 0.6101 - loss: 1.8835 - val_accuracy: 0.5279 - val_loss: 2.5961\n",
      "Epoch 12/20\n",
      "\u001b[1m272/272\u001b[0m \u001b[32m━━━━━━━━━━━━━━━━━━━━\u001b[0m\u001b[37m\u001b[0m \u001b[1m0s\u001b[0m 390us/step - accuracy: 0.6188 - loss: 1.3936 - val_accuracy: 0.5140 - val_loss: 2.5944\n",
      "Epoch 13/20\n",
      "\u001b[1m272/272\u001b[0m \u001b[32m━━━━━━━━━━━━━━━━━━━━\u001b[0m\u001b[37m\u001b[0m \u001b[1m0s\u001b[0m 457us/step - accuracy: 0.6129 - loss: 1.4935 - val_accuracy: 0.5145 - val_loss: 2.5282\n",
      "Epoch 14/20\n",
      "\u001b[1m272/272\u001b[0m \u001b[32m━━━━━━━━━━━━━━━━━━━━\u001b[0m\u001b[37m\u001b[0m \u001b[1m0s\u001b[0m 400us/step - accuracy: 0.6090 - loss: 1.3210 - val_accuracy: 0.5228 - val_loss: 2.3481\n",
      "Epoch 15/20\n",
      "\u001b[1m272/272\u001b[0m \u001b[32m━━━━━━━━━━━━━━━━━━━━\u001b[0m\u001b[37m\u001b[0m \u001b[1m0s\u001b[0m 413us/step - accuracy: 0.6158 - loss: 1.3987 - val_accuracy: 0.5039 - val_loss: 2.4825\n",
      "Epoch 16/20\n",
      "\u001b[1m272/272\u001b[0m \u001b[32m━━━━━━━━━━━━━━━━━━━━\u001b[0m\u001b[37m\u001b[0m \u001b[1m0s\u001b[0m 412us/step - accuracy: 0.6110 - loss: 1.3886 - val_accuracy: 0.5030 - val_loss: 2.0868\n",
      "Epoch 17/20\n",
      "\u001b[1m272/272\u001b[0m \u001b[32m━━━━━━━━━━━━━━━━━━━━\u001b[0m\u001b[37m\u001b[0m \u001b[1m0s\u001b[0m 415us/step - accuracy: 0.6131 - loss: 1.1794 - val_accuracy: 0.5035 - val_loss: 2.6040\n",
      "Epoch 18/20\n",
      "\u001b[1m272/272\u001b[0m \u001b[32m━━━━━━━━━━━━━━━━━━━━\u001b[0m\u001b[37m\u001b[0m \u001b[1m0s\u001b[0m 404us/step - accuracy: 0.6103 - loss: 1.2854 - val_accuracy: 0.5021 - val_loss: 2.1850\n"
     ]
    }
   ],
   "source": [
    "history_ann = ann_model.fit(X_train_dl, y_train, validation_data=(X_test_dl, y_test), epochs= 20, batch_size=32, callbacks = [early_stopping])"
   ]
  },
  {
   "cell_type": "code",
   "execution_count": 23,
   "id": "7a5ddb61-4936-4f62-998a-c290614ba560",
   "metadata": {},
   "outputs": [],
   "source": [
    "def evaluate_model_dl(model, X_test, y_test):\n",
    "    y_pred = (model.predict(X_test_dl) > 0.5).astype(int)\n",
    "    cm = confusion_matrix(y_test, y_pred)\n",
    "    sns.heatmap(cm, annot=True, cbar=False, fmt=\".4g\")\n",
    "    plt.show()\n",
    "    print(classification_report(y_test, y_pred))\n",
    "    \n",
    "result_dl = pd.DataFrame(columns=['Accuracy', 'Model'])"
   ]
  },
  {
   "cell_type": "code",
   "execution_count": 24,
   "id": "ac5396f4-5029-4426-a9ff-79b5c58a2870",
   "metadata": {},
   "outputs": [
    {
     "name": "stdout",
     "output_type": "stream",
     "text": [
      "\u001b[1m68/68\u001b[0m \u001b[32m━━━━━━━━━━━━━━━━━━━━\u001b[0m\u001b[37m\u001b[0m \u001b[1m0s\u001b[0m 406us/step\n"
     ]
    },
    {
     "data": {
      "image/png": "[encoded data removed]",
      "text/plain": [
       "<Figure size 640x480 with 1 Axes>"
      ]
     },
     "metadata": {},
     "output_type": "display_data"
    },
    {
     "name": "stdout",
     "output_type": "stream",
     "text": [
      "              precision    recall  f1-score   support\n",
      "\n",
      "           0       0.50      0.48      0.49      1088\n",
      "           1       0.50      0.52      0.51      1083\n",
      "\n",
      "    accuracy                           0.50      2171\n",
      "   macro avg       0.50      0.50      0.50      2171\n",
      "weighted avg       0.50      0.50      0.50      2171\n",
      "\n"
     ]
    }
   ],
   "source": [
    "evaluate_model_dl(ann_model, X_test_dl, y_test)\n",
    "\n",
    "# Precision (Hassasiyet): Pozitif olarak tahmin edilen örnekler arasında gerçekten pozitif olanların oranı.\n",
    "# Recall (Duyarlılık veya yeniden çağırma): Gerçek pozitif örneklerin, pozitif olarak doğru tahmin edilenlerle oranı.\n",
    "# F1-Score: Hassasiyet ve duyarlılığın harmonik ortalaması. Dengeli bir metrik olup, her iki değeri de dikkate alır.\n",
    "# Support (Destek): Her sınıftaki gerçek örnek sayısı."
   ]
  },
  {
   "cell_type": "code",
   "execution_count": 25,
   "id": "7ddf8a7d-d9ce-49ce-9fe3-5c939b24babf",
   "metadata": {},
   "outputs": [
    {
     "name": "stdout",
     "output_type": "stream",
     "text": [
      "\u001b[1m68/68\u001b[0m \u001b[32m━━━━━━━━━━━━━━━━━━━━\u001b[0m\u001b[37m\u001b[0m \u001b[1m0s\u001b[0m 262us/step - accuracy: 0.5042 - loss: 2.2684\n"
     ]
    },
    {
     "data": {
      "text/html": [
       "<div>\n",
       "<style scoped>\n",
       "    .dataframe tbody tr th:only-of-type {\n",
       "        vertical-align: middle;\n",
       "    }\n",
       "\n",
       "    .dataframe tbody tr th {\n",
       "        vertical-align: top;\n",
       "    }\n",
       "\n",
       "    .dataframe thead th {\n",
       "        text-align: right;\n",
       "    }\n",
       "</style>\n",
       "<table border=\"1\" class=\"dataframe\">\n",
       "  <thead>\n",
       "    <tr style=\"text-align: right;\">\n",
       "      <th></th>\n",
       "      <th>Accuracy</th>\n",
       "      <th>Model</th>\n",
       "    </tr>\n",
       "  </thead>\n",
       "  <tbody>\n",
       "    <tr>\n",
       "      <th>0</th>\n",
       "      <td>0.503</td>\n",
       "      <td>ANN</td>\n",
       "    </tr>\n",
       "  </tbody>\n",
       "</table>\n",
       "</div>"
      ],
      "text/plain": [
       "   Accuracy Model\n",
       "0     0.503   ANN"
      ]
     },
     "execution_count": 25,
     "metadata": {},
     "output_type": "execute_result"
    }
   ],
   "source": [
    "# ANN model değerlendirmesi (ann_model ve X_test_dl, y_test zaten tanımlanmış olmalı)\n",
    "accuracy_ann = ann_model.evaluate(X_test_dl, y_test)[1]  # Modelin doğruluk skorunu almak için\n",
    "\n",
    "new_row_ann = pd.DataFrame({\n",
    "    'Model': ['ANN'],\n",
    "    'Accuracy': [accuracy_ann]\n",
    "})\n",
    "\n",
    "result_dl = pd.concat([result_dl, new_row_ann], ignore_index=True)\n",
    "result_dl"
   ]
  },
  {
   "cell_type": "markdown",
   "id": "91e90ed4-e610-4e57-82dd-620ab90b214a",
   "metadata": {},
   "source": [
    "## Embeding"
   ]
  },
  {
   "cell_type": "code",
   "execution_count": 26,
   "id": "798df586-d45c-4635-97cd-0069c8174649",
   "metadata": {},
   "outputs": [
    {
     "name": "stderr",
     "output_type": "stream",
     "text": [
      "/Library/Frameworks/Python.framework/Versions/3.12/lib/python3.12/site-packages/keras/src/layers/core/embedding.py:86: UserWarning: Argument `input_length` is deprecated. Just remove it.\n",
      "  warnings.warn(\n"
     ]
    },
    {
     "data": {
      "text/html": [
       "<pre style=\"white-space:pre;overflow-x:auto;line-height:normal;font-family:Menlo,'DejaVu Sans Mono',consolas,'Courier New',monospace\"><span style=\"font-weight: bold\">Model: \"sequential_1\"</span>\n",
       "</pre>\n"
      ],
      "text/plain": [
       "\u001b[1mModel: \"sequential_1\"\u001b[0m\n"
      ]
     },
     "metadata": {},
     "output_type": "display_data"
    },
    {
     "data": {
      "text/html": [
       "<pre style=\"white-space:pre;overflow-x:auto;line-height:normal;font-family:Menlo,'DejaVu Sans Mono',consolas,'Courier New',monospace\">┏━━━━━━━━━━━━━━━━━━━━━━━━━━━━━━━━━┳━━━━━━━━━━━━━━━━━━━━━━━━┳━━━━━━━━━━━━━━━┓\n",
       "┃<span style=\"font-weight: bold\"> Layer (type)                    </span>┃<span style=\"font-weight: bold\"> Output Shape           </span>┃<span style=\"font-weight: bold\">       Param # </span>┃\n",
       "┡━━━━━━━━━━━━━━━━━━━━━━━━━━━━━━━━━╇━━━━━━━━━━━━━━━━━━━━━━━━╇━━━━━━━━━━━━━━━┩\n",
       "│ embedding (<span style=\"color: #0087ff; text-decoration-color: #0087ff\">Embedding</span>)           │ ?                      │   <span style=\"color: #00af00; text-decoration-color: #00af00\">0</span> (unbuilt) │\n",
       "├─────────────────────────────────┼────────────────────────┼───────────────┤\n",
       "│ global_max_pooling1d            │ ?                      │   <span style=\"color: #00af00; text-decoration-color: #00af00\">0</span> (unbuilt) │\n",
       "│ (<span style=\"color: #0087ff; text-decoration-color: #0087ff\">GlobalMaxPooling1D</span>)            │                        │               │\n",
       "├─────────────────────────────────┼────────────────────────┼───────────────┤\n",
       "│ dense_3 (<span style=\"color: #0087ff; text-decoration-color: #0087ff\">Dense</span>)                 │ ?                      │   <span style=\"color: #00af00; text-decoration-color: #00af00\">0</span> (unbuilt) │\n",
       "├─────────────────────────────────┼────────────────────────┼───────────────┤\n",
       "│ dense_4 (<span style=\"color: #0087ff; text-decoration-color: #0087ff\">Dense</span>)                 │ ?                      │   <span style=\"color: #00af00; text-decoration-color: #00af00\">0</span> (unbuilt) │\n",
       "└─────────────────────────────────┴────────────────────────┴───────────────┘\n",
       "</pre>\n"
      ],
      "text/plain": [
       "┏━━━━━━━━━━━━━━━━━━━━━━━━━━━━━━━━━┳━━━━━━━━━━━━━━━━━━━━━━━━┳━━━━━━━━━━━━━━━┓\n",
       "┃\u001b[1m \u001b[0m\u001b[1mLayer (type)                   \u001b[0m\u001b[1m \u001b[0m┃\u001b[1m \u001b[0m\u001b[1mOutput Shape          \u001b[0m\u001b[1m \u001b[0m┃\u001b[1m \u001b[0m\u001b[1m      Param #\u001b[0m\u001b[1m \u001b[0m┃\n",
       "┡━━━━━━━━━━━━━━━━━━━━━━━━━━━━━━━━━╇━━━━━━━━━━━━━━━━━━━━━━━━╇━━━━━━━━━━━━━━━┩\n",
       "│ embedding (\u001b[38;5;33mEmbedding\u001b[0m)           │ ?                      │   \u001b[38;5;34m0\u001b[0m (unbuilt) │\n",
       "├─────────────────────────────────┼────────────────────────┼───────────────┤\n",
       "│ global_max_pooling1d            │ ?                      │   \u001b[38;5;34m0\u001b[0m (unbuilt) │\n",
       "│ (\u001b[38;5;33mGlobalMaxPooling1D\u001b[0m)            │                        │               │\n",
       "├─────────────────────────────────┼────────────────────────┼───────────────┤\n",
       "│ dense_3 (\u001b[38;5;33mDense\u001b[0m)                 │ ?                      │   \u001b[38;5;34m0\u001b[0m (unbuilt) │\n",
       "├─────────────────────────────────┼────────────────────────┼───────────────┤\n",
       "│ dense_4 (\u001b[38;5;33mDense\u001b[0m)                 │ ?                      │   \u001b[38;5;34m0\u001b[0m (unbuilt) │\n",
       "└─────────────────────────────────┴────────────────────────┴───────────────┘\n"
      ]
     },
     "metadata": {},
     "output_type": "display_data"
    },
    {
     "data": {
      "text/html": [
       "<pre style=\"white-space:pre;overflow-x:auto;line-height:normal;font-family:Menlo,'DejaVu Sans Mono',consolas,'Courier New',monospace\"><span style=\"font-weight: bold\"> Total params: </span><span style=\"color: #00af00; text-decoration-color: #00af00\">0</span> (0.00 B)\n",
       "</pre>\n"
      ],
      "text/plain": [
       "\u001b[1m Total params: \u001b[0m\u001b[38;5;34m0\u001b[0m (0.00 B)\n"
      ]
     },
     "metadata": {},
     "output_type": "display_data"
    },
    {
     "data": {
      "text/html": [
       "<pre style=\"white-space:pre;overflow-x:auto;line-height:normal;font-family:Menlo,'DejaVu Sans Mono',consolas,'Courier New',monospace\"><span style=\"font-weight: bold\"> Trainable params: </span><span style=\"color: #00af00; text-decoration-color: #00af00\">0</span> (0.00 B)\n",
       "</pre>\n"
      ],
      "text/plain": [
       "\u001b[1m Trainable params: \u001b[0m\u001b[38;5;34m0\u001b[0m (0.00 B)\n"
      ]
     },
     "metadata": {},
     "output_type": "display_data"
    },
    {
     "data": {
      "text/html": [
       "<pre style=\"white-space:pre;overflow-x:auto;line-height:normal;font-family:Menlo,'DejaVu Sans Mono',consolas,'Courier New',monospace\"><span style=\"font-weight: bold\"> Non-trainable params: </span><span style=\"color: #00af00; text-decoration-color: #00af00\">0</span> (0.00 B)\n",
       "</pre>\n"
      ],
      "text/plain": [
       "\u001b[1m Non-trainable params: \u001b[0m\u001b[38;5;34m0\u001b[0m (0.00 B)\n"
      ]
     },
     "metadata": {},
     "output_type": "display_data"
    }
   ],
   "source": [
    "tf.random.set_seed(42)\n",
    "\n",
    "em_model = tf.keras.Sequential([\n",
    "    tf.keras.layers.Embedding(num_words, 16, input_length=maxlen),\n",
    "    tf.keras.layers.GlobalMaxPooling1D(),\n",
    "    tf.keras.layers.Dense(64, activation='relu'),\n",
    "    tf.keras.layers.Dense(1, activation='sigmoid')\n",
    "])\n",
    "\n",
    "em_model.compile(loss='binary_crossentropy', optimizer='adam', metrics=['accuracy'])\n",
    "\n",
    "em_model.summary()"
   ]
  },
  {
   "cell_type": "code",
   "execution_count": 27,
   "id": "9b04a923-a574-44cf-8971-c4fd6007c2d0",
   "metadata": {},
   "outputs": [
    {
     "name": "stdout",
     "output_type": "stream",
     "text": [
      "Epoch 1/20\n",
      "\u001b[1m272/272\u001b[0m \u001b[32m━━━━━━━━━━━━━━━━━━━━\u001b[0m\u001b[37m\u001b[0m \u001b[1m1s\u001b[0m 1ms/step - accuracy: 0.6747 - loss: 0.6286 - val_accuracy: 0.8148 - val_loss: 0.4063\n",
      "Epoch 2/20\n",
      "\u001b[1m272/272\u001b[0m \u001b[32m━━━━━━━━━━━━━━━━━━━━\u001b[0m\u001b[37m\u001b[0m \u001b[1m0s\u001b[0m 986us/step - accuracy: 0.8420 - loss: 0.3708 - val_accuracy: 0.8236 - val_loss: 0.3783\n",
      "Epoch 3/20\n",
      "\u001b[1m272/272\u001b[0m \u001b[32m━━━━━━━━━━━━━━━━━━━━\u001b[0m\u001b[37m\u001b[0m \u001b[1m0s\u001b[0m 988us/step - accuracy: 0.8810 - loss: 0.2861 - val_accuracy: 0.8277 - val_loss: 0.3780\n",
      "Epoch 4/20\n",
      "\u001b[1m272/272\u001b[0m \u001b[32m━━━━━━━━━━━━━━━━━━━━\u001b[0m\u001b[37m\u001b[0m \u001b[1m0s\u001b[0m 1ms/step - accuracy: 0.9185 - loss: 0.2138 - val_accuracy: 0.8250 - val_loss: 0.3930\n",
      "Epoch 5/20\n",
      "\u001b[1m272/272\u001b[0m \u001b[32m━━━━━━━━━━━━━━━━━━━━\u001b[0m\u001b[37m\u001b[0m \u001b[1m0s\u001b[0m 950us/step - accuracy: 0.9434 - loss: 0.1546 - val_accuracy: 0.8213 - val_loss: 0.4199\n"
     ]
    }
   ],
   "source": [
    "history_em = em_model.fit(X_train_dl, y_train, validation_data=(X_test_dl, y_test), epochs= 20, batch_size=32, callbacks = [early_stopping])"
   ]
  },
  {
   "cell_type": "code",
   "execution_count": 28,
   "id": "e2898f18-84b8-4b85-99d8-9f9b2bc528fd",
   "metadata": {},
   "outputs": [
    {
     "name": "stdout",
     "output_type": "stream",
     "text": [
      "\u001b[1m68/68\u001b[0m \u001b[32m━━━━━━━━━━━━━━━━━━━━\u001b[0m\u001b[37m\u001b[0m \u001b[1m0s\u001b[0m 381us/step\n"
     ]
    },
    {
     "data": {
      "image/png": "[encoded data removed]",
      "text/plain": [
       "<Figure size 640x480 with 1 Axes>"
      ]
     },
     "metadata": {},
     "output_type": "display_data"
    },
    {
     "name": "stdout",
     "output_type": "stream",
     "text": [
      "              precision    recall  f1-score   support\n",
      "\n",
      "           0       0.81      0.86      0.83      1088\n",
      "           1       0.85      0.79      0.82      1083\n",
      "\n",
      "    accuracy                           0.83      2171\n",
      "   macro avg       0.83      0.83      0.83      2171\n",
      "weighted avg       0.83      0.83      0.83      2171\n",
      "\n"
     ]
    }
   ],
   "source": [
    "evaluate_model_dl(em_model, X_test_dl, y_test)\n",
    "\n",
    "# Precision (Hassasiyet): Pozitif olarak tahmin edilen örnekler arasında gerçekten pozitif olanların oranı.\n",
    "# Recall (Duyarlılık veya yeniden çağırma): Gerçek pozitif örneklerin, pozitif olarak doğru tahmin edilenlerle oranı.\n",
    "# F1-Score: Hassasiyet ve duyarlılığın harmonik ortalaması. Dengeli bir metrik olup, her iki değeri de dikkate alır.\n",
    "# Support (Destek): Her sınıftaki gerçek örnek sayısı."
   ]
  },
  {
   "cell_type": "code",
   "execution_count": 29,
   "id": "f3a779e2-bea6-4d8c-8afe-5f20f13a04a7",
   "metadata": {},
   "outputs": [
    {
     "name": "stdout",
     "output_type": "stream",
     "text": [
      "\u001b[1m68/68\u001b[0m \u001b[32m━━━━━━━━━━━━━━━━━━━━\u001b[0m\u001b[37m\u001b[0m \u001b[1m0s\u001b[0m 372us/step - accuracy: 0.8302 - loss: 0.3704\n"
     ]
    },
    {
     "data": {
      "text/html": [
       "<div>\n",
       "<style scoped>\n",
       "    .dataframe tbody tr th:only-of-type {\n",
       "        vertical-align: middle;\n",
       "    }\n",
       "\n",
       "    .dataframe tbody tr th {\n",
       "        vertical-align: top;\n",
       "    }\n",
       "\n",
       "    .dataframe thead th {\n",
       "        text-align: right;\n",
       "    }\n",
       "</style>\n",
       "<table border=\"1\" class=\"dataframe\">\n",
       "  <thead>\n",
       "    <tr style=\"text-align: right;\">\n",
       "      <th></th>\n",
       "      <th>Accuracy</th>\n",
       "      <th>Model</th>\n",
       "    </tr>\n",
       "  </thead>\n",
       "  <tbody>\n",
       "    <tr>\n",
       "      <th>0</th>\n",
       "      <td>0.503</td>\n",
       "      <td>ANN</td>\n",
       "    </tr>\n",
       "    <tr>\n",
       "      <th>1</th>\n",
       "      <td>0.828</td>\n",
       "      <td>Embedding</td>\n",
       "    </tr>\n",
       "  </tbody>\n",
       "</table>\n",
       "</div>"
      ],
      "text/plain": [
       "   Accuracy      Model\n",
       "0     0.503        ANN\n",
       "1     0.828  Embedding"
      ]
     },
     "execution_count": 29,
     "metadata": {},
     "output_type": "execute_result"
    }
   ],
   "source": [
    "# Embedding modelin değerlendirilmesi\n",
    "accuracy_embedding = em_model.evaluate(X_test_dl, y_test)[1]  # Modelin doğruluk skorunu almak için\n",
    "\n",
    "new_row_embedding = pd.DataFrame({\n",
    "    'Model': ['Embedding'],\n",
    "    'Accuracy': [accuracy_embedding]\n",
    "})\n",
    "\n",
    "result_dl = pd.concat([result_dl, new_row_embedding], ignore_index=True)\n",
    "\n",
    "result_dl"
   ]
  },
  {
   "cell_type": "markdown",
   "id": "58950d44-a980-4aa5-aede-278c2bbff22d",
   "metadata": {},
   "source": [
    "## CNN"
   ]
  },
  {
   "cell_type": "code",
   "execution_count": 30,
   "id": "62165c2a-edd1-4849-bc5d-7718b1174b5f",
   "metadata": {},
   "outputs": [
    {
     "name": "stderr",
     "output_type": "stream",
     "text": [
      "/Library/Frameworks/Python.framework/Versions/3.12/lib/python3.12/site-packages/keras/src/layers/core/embedding.py:86: UserWarning: Argument `input_length` is deprecated. Just remove it.\n",
      "  warnings.warn(\n"
     ]
    },
    {
     "data": {
      "text/html": [
       "<pre style=\"white-space:pre;overflow-x:auto;line-height:normal;font-family:Menlo,'DejaVu Sans Mono',consolas,'Courier New',monospace\"><span style=\"font-weight: bold\">Model: \"sequential_2\"</span>\n",
       "</pre>\n"
      ],
      "text/plain": [
       "\u001b[1mModel: \"sequential_2\"\u001b[0m\n"
      ]
     },
     "metadata": {},
     "output_type": "display_data"
    },
    {
     "data": {
      "text/html": [
       "<pre style=\"white-space:pre;overflow-x:auto;line-height:normal;font-family:Menlo,'DejaVu Sans Mono',consolas,'Courier New',monospace\">┏━━━━━━━━━━━━━━━━━━━━━━━━━━━━━━━━━┳━━━━━━━━━━━━━━━━━━━━━━━━┳━━━━━━━━━━━━━━━┓\n",
       "┃<span style=\"font-weight: bold\"> Layer (type)                    </span>┃<span style=\"font-weight: bold\"> Output Shape           </span>┃<span style=\"font-weight: bold\">       Param # </span>┃\n",
       "┡━━━━━━━━━━━━━━━━━━━━━━━━━━━━━━━━━╇━━━━━━━━━━━━━━━━━━━━━━━━╇━━━━━━━━━━━━━━━┩\n",
       "│ embedding_1 (<span style=\"color: #0087ff; text-decoration-color: #0087ff\">Embedding</span>)         │ ?                      │   <span style=\"color: #00af00; text-decoration-color: #00af00\">0</span> (unbuilt) │\n",
       "├─────────────────────────────────┼────────────────────────┼───────────────┤\n",
       "│ conv1d (<span style=\"color: #0087ff; text-decoration-color: #0087ff\">Conv1D</span>)                 │ ?                      │   <span style=\"color: #00af00; text-decoration-color: #00af00\">0</span> (unbuilt) │\n",
       "├─────────────────────────────────┼────────────────────────┼───────────────┤\n",
       "│ global_max_pooling1d_1          │ ?                      │   <span style=\"color: #00af00; text-decoration-color: #00af00\">0</span> (unbuilt) │\n",
       "│ (<span style=\"color: #0087ff; text-decoration-color: #0087ff\">GlobalMaxPooling1D</span>)            │                        │               │\n",
       "├─────────────────────────────────┼────────────────────────┼───────────────┤\n",
       "│ dense_5 (<span style=\"color: #0087ff; text-decoration-color: #0087ff\">Dense</span>)                 │ ?                      │   <span style=\"color: #00af00; text-decoration-color: #00af00\">0</span> (unbuilt) │\n",
       "├─────────────────────────────────┼────────────────────────┼───────────────┤\n",
       "│ dense_6 (<span style=\"color: #0087ff; text-decoration-color: #0087ff\">Dense</span>)                 │ ?                      │   <span style=\"color: #00af00; text-decoration-color: #00af00\">0</span> (unbuilt) │\n",
       "└─────────────────────────────────┴────────────────────────┴───────────────┘\n",
       "</pre>\n"
      ],
      "text/plain": [
       "┏━━━━━━━━━━━━━━━━━━━━━━━━━━━━━━━━━┳━━━━━━━━━━━━━━━━━━━━━━━━┳━━━━━━━━━━━━━━━┓\n",
       "┃\u001b[1m \u001b[0m\u001b[1mLayer (type)                   \u001b[0m\u001b[1m \u001b[0m┃\u001b[1m \u001b[0m\u001b[1mOutput Shape          \u001b[0m\u001b[1m \u001b[0m┃\u001b[1m \u001b[0m\u001b[1m      Param #\u001b[0m\u001b[1m \u001b[0m┃\n",
       "┡━━━━━━━━━━━━━━━━━━━━━━━━━━━━━━━━━╇━━━━━━━━━━━━━━━━━━━━━━━━╇━━━━━━━━━━━━━━━┩\n",
       "│ embedding_1 (\u001b[38;5;33mEmbedding\u001b[0m)         │ ?                      │   \u001b[38;5;34m0\u001b[0m (unbuilt) │\n",
       "├─────────────────────────────────┼────────────────────────┼───────────────┤\n",
       "│ conv1d (\u001b[38;5;33mConv1D\u001b[0m)                 │ ?                      │   \u001b[38;5;34m0\u001b[0m (unbuilt) │\n",
       "├─────────────────────────────────┼────────────────────────┼───────────────┤\n",
       "│ global_max_pooling1d_1          │ ?                      │   \u001b[38;5;34m0\u001b[0m (unbuilt) │\n",
       "│ (\u001b[38;5;33mGlobalMaxPooling1D\u001b[0m)            │                        │               │\n",
       "├─────────────────────────────────┼────────────────────────┼───────────────┤\n",
       "│ dense_5 (\u001b[38;5;33mDense\u001b[0m)                 │ ?                      │   \u001b[38;5;34m0\u001b[0m (unbuilt) │\n",
       "├─────────────────────────────────┼────────────────────────┼───────────────┤\n",
       "│ dense_6 (\u001b[38;5;33mDense\u001b[0m)                 │ ?                      │   \u001b[38;5;34m0\u001b[0m (unbuilt) │\n",
       "└─────────────────────────────────┴────────────────────────┴───────────────┘\n"
      ]
     },
     "metadata": {},
     "output_type": "display_data"
    },
    {
     "data": {
      "text/html": [
       "<pre style=\"white-space:pre;overflow-x:auto;line-height:normal;font-family:Menlo,'DejaVu Sans Mono',consolas,'Courier New',monospace\"><span style=\"font-weight: bold\"> Total params: </span><span style=\"color: #00af00; text-decoration-color: #00af00\">0</span> (0.00 B)\n",
       "</pre>\n"
      ],
      "text/plain": [
       "\u001b[1m Total params: \u001b[0m\u001b[38;5;34m0\u001b[0m (0.00 B)\n"
      ]
     },
     "metadata": {},
     "output_type": "display_data"
    },
    {
     "data": {
      "text/html": [
       "<pre style=\"white-space:pre;overflow-x:auto;line-height:normal;font-family:Menlo,'DejaVu Sans Mono',consolas,'Courier New',monospace\"><span style=\"font-weight: bold\"> Trainable params: </span><span style=\"color: #00af00; text-decoration-color: #00af00\">0</span> (0.00 B)\n",
       "</pre>\n"
      ],
      "text/plain": [
       "\u001b[1m Trainable params: \u001b[0m\u001b[38;5;34m0\u001b[0m (0.00 B)\n"
      ]
     },
     "metadata": {},
     "output_type": "display_data"
    },
    {
     "data": {
      "text/html": [
       "<pre style=\"white-space:pre;overflow-x:auto;line-height:normal;font-family:Menlo,'DejaVu Sans Mono',consolas,'Courier New',monospace\"><span style=\"font-weight: bold\"> Non-trainable params: </span><span style=\"color: #00af00; text-decoration-color: #00af00\">0</span> (0.00 B)\n",
       "</pre>\n"
      ],
      "text/plain": [
       "\u001b[1m Non-trainable params: \u001b[0m\u001b[38;5;34m0\u001b[0m (0.00 B)\n"
      ]
     },
     "metadata": {},
     "output_type": "display_data"
    }
   ],
   "source": [
    "tf.random.set_seed(42)\n",
    "\n",
    "cnn_model = tf.keras.Sequential([\n",
    "    tf.keras.layers.Embedding(num_words, 16, input_length=maxlen),\n",
    "    tf.keras.layers.Conv1D(128, 5, activation='relu'),\n",
    "    tf.keras.layers.GlobalMaxPooling1D(),\n",
    "    tf.keras.layers.Dense(64, activation='relu'),\n",
    "    tf.keras.layers.Dense(1, activation='sigmoid')\n",
    "])\n",
    "\n",
    "cnn_model.compile(loss='binary_crossentropy', optimizer='adam', metrics=['accuracy'])\n",
    "\n",
    "cnn_model.summary()"
   ]
  },
  {
   "cell_type": "code",
   "execution_count": 31,
   "id": "e923aaf6-f34d-4cf5-a15b-c5d349c77601",
   "metadata": {},
   "outputs": [
    {
     "name": "stdout",
     "output_type": "stream",
     "text": [
      "Epoch 1/20\n",
      "\u001b[1m272/272\u001b[0m \u001b[32m━━━━━━━━━━━━━━━━━━━━\u001b[0m\u001b[37m\u001b[0m \u001b[1m1s\u001b[0m 3ms/step - accuracy: 0.6559 - loss: 0.5801 - val_accuracy: 0.8383 - val_loss: 0.3517\n",
      "Epoch 2/20\n",
      "\u001b[1m272/272\u001b[0m \u001b[32m━━━━━━━━━━━━━━━━━━━━\u001b[0m\u001b[37m\u001b[0m \u001b[1m1s\u001b[0m 3ms/step - accuracy: 0.8655 - loss: 0.2966 - val_accuracy: 0.8356 - val_loss: 0.4110\n",
      "Epoch 3/20\n",
      "\u001b[1m272/272\u001b[0m \u001b[32m━━━━━━━━━━━━━━━━━━━━\u001b[0m\u001b[37m\u001b[0m \u001b[1m1s\u001b[0m 3ms/step - accuracy: 0.9377 - loss: 0.1650 - val_accuracy: 0.8263 - val_loss: 0.5636\n"
     ]
    }
   ],
   "source": [
    "history_cnn = cnn_model.fit(X_train_dl, y_train, validation_data=(X_test_dl, y_test), epochs= 20, batch_size=32, callbacks = [early_stopping])"
   ]
  },
  {
   "cell_type": "code",
   "execution_count": 32,
   "id": "0f8dbad5-0de3-4baa-a0eb-e86c8f32d672",
   "metadata": {},
   "outputs": [
    {
     "name": "stdout",
     "output_type": "stream",
     "text": [
      "\u001b[1m68/68\u001b[0m \u001b[32m━━━━━━━━━━━━━━━━━━━━\u001b[0m\u001b[37m\u001b[0m \u001b[1m0s\u001b[0m 890us/step - accuracy: 0.8360 - loss: 0.3463\n"
     ]
    },
    {
     "data": {
      "text/html": [
       "<div>\n",
       "<style scoped>\n",
       "    .dataframe tbody tr th:only-of-type {\n",
       "        vertical-align: middle;\n",
       "    }\n",
       "\n",
       "    .dataframe tbody tr th {\n",
       "        vertical-align: top;\n",
       "    }\n",
       "\n",
       "    .dataframe thead th {\n",
       "        text-align: right;\n",
       "    }\n",
       "</style>\n",
       "<table border=\"1\" class=\"dataframe\">\n",
       "  <thead>\n",
       "    <tr style=\"text-align: right;\">\n",
       "      <th></th>\n",
       "      <th>Accuracy</th>\n",
       "      <th>Model</th>\n",
       "    </tr>\n",
       "  </thead>\n",
       "  <tbody>\n",
       "    <tr>\n",
       "      <th>0</th>\n",
       "      <td>0.503</td>\n",
       "      <td>ANN</td>\n",
       "    </tr>\n",
       "    <tr>\n",
       "      <th>1</th>\n",
       "      <td>0.828</td>\n",
       "      <td>Embedding</td>\n",
       "    </tr>\n",
       "    <tr>\n",
       "      <th>2</th>\n",
       "      <td>0.838</td>\n",
       "      <td>CNN</td>\n",
       "    </tr>\n",
       "  </tbody>\n",
       "</table>\n",
       "</div>"
      ],
      "text/plain": [
       "   Accuracy      Model\n",
       "0     0.503        ANN\n",
       "1     0.828  Embedding\n",
       "2     0.838        CNN"
      ]
     },
     "execution_count": 32,
     "metadata": {},
     "output_type": "execute_result"
    }
   ],
   "source": [
    "# CNN modelin değerlendirilmesi, evaluate_model_dl fonksiyonunu tanımlayıp burada kullanmadığınız sürece\n",
    "accuracy_cnn = cnn_model.evaluate(X_test_dl, y_test)[1]  # Modelin doğruluk skorunu almak için\n",
    "\n",
    "new_row_cnn = pd.DataFrame({\n",
    "    'Model': ['CNN'],\n",
    "    'Accuracy': [accuracy_cnn]\n",
    "})\n",
    "\n",
    "result_dl = pd.concat([result_dl, new_row_cnn], ignore_index=True)\n",
    "\n",
    "result_dl"
   ]
  },
  {
   "cell_type": "markdown",
   "id": "b722a5a2-c86a-478a-bc97-c0397cd8e49c",
   "metadata": {},
   "source": [
    "## LSTM"
   ]
  },
  {
   "cell_type": "code",
   "execution_count": 33,
   "id": "18e2ffcb-7a54-4b96-91ad-6f035b897c70",
   "metadata": {},
   "outputs": [
    {
     "name": "stderr",
     "output_type": "stream",
     "text": [
      "/Library/Frameworks/Python.framework/Versions/3.12/lib/python3.12/site-packages/keras/src/layers/core/embedding.py:86: UserWarning: Argument `input_length` is deprecated. Just remove it.\n",
      "  warnings.warn(\n"
     ]
    },
    {
     "data": {
      "text/html": [
       "<pre style=\"white-space:pre;overflow-x:auto;line-height:normal;font-family:Menlo,'DejaVu Sans Mono',consolas,'Courier New',monospace\"><span style=\"font-weight: bold\">Model: \"sequential_3\"</span>\n",
       "</pre>\n"
      ],
      "text/plain": [
       "\u001b[1mModel: \"sequential_3\"\u001b[0m\n"
      ]
     },
     "metadata": {},
     "output_type": "display_data"
    },
    {
     "data": {
      "text/html": [
       "<pre style=\"white-space:pre;overflow-x:auto;line-height:normal;font-family:Menlo,'DejaVu Sans Mono',consolas,'Courier New',monospace\">┏━━━━━━━━━━━━━━━━━━━━━━━━━━━━━━━━━┳━━━━━━━━━━━━━━━━━━━━━━━━┳━━━━━━━━━━━━━━━┓\n",
       "┃<span style=\"font-weight: bold\"> Layer (type)                    </span>┃<span style=\"font-weight: bold\"> Output Shape           </span>┃<span style=\"font-weight: bold\">       Param # </span>┃\n",
       "┡━━━━━━━━━━━━━━━━━━━━━━━━━━━━━━━━━╇━━━━━━━━━━━━━━━━━━━━━━━━╇━━━━━━━━━━━━━━━┩\n",
       "│ embedding_2 (<span style=\"color: #0087ff; text-decoration-color: #0087ff\">Embedding</span>)         │ ?                      │   <span style=\"color: #00af00; text-decoration-color: #00af00\">0</span> (unbuilt) │\n",
       "├─────────────────────────────────┼────────────────────────┼───────────────┤\n",
       "│ lstm (<span style=\"color: #0087ff; text-decoration-color: #0087ff\">LSTM</span>)                     │ ?                      │   <span style=\"color: #00af00; text-decoration-color: #00af00\">0</span> (unbuilt) │\n",
       "├─────────────────────────────────┼────────────────────────┼───────────────┤\n",
       "│ dense_7 (<span style=\"color: #0087ff; text-decoration-color: #0087ff\">Dense</span>)                 │ ?                      │   <span style=\"color: #00af00; text-decoration-color: #00af00\">0</span> (unbuilt) │\n",
       "├─────────────────────────────────┼────────────────────────┼───────────────┤\n",
       "│ dense_8 (<span style=\"color: #0087ff; text-decoration-color: #0087ff\">Dense</span>)                 │ ?                      │   <span style=\"color: #00af00; text-decoration-color: #00af00\">0</span> (unbuilt) │\n",
       "└─────────────────────────────────┴────────────────────────┴───────────────┘\n",
       "</pre>\n"
      ],
      "text/plain": [
       "┏━━━━━━━━━━━━━━━━━━━━━━━━━━━━━━━━━┳━━━━━━━━━━━━━━━━━━━━━━━━┳━━━━━━━━━━━━━━━┓\n",
       "┃\u001b[1m \u001b[0m\u001b[1mLayer (type)                   \u001b[0m\u001b[1m \u001b[0m┃\u001b[1m \u001b[0m\u001b[1mOutput Shape          \u001b[0m\u001b[1m \u001b[0m┃\u001b[1m \u001b[0m\u001b[1m      Param #\u001b[0m\u001b[1m \u001b[0m┃\n",
       "┡━━━━━━━━━━━━━━━━━━━━━━━━━━━━━━━━━╇━━━━━━━━━━━━━━━━━━━━━━━━╇━━━━━━━━━━━━━━━┩\n",
       "│ embedding_2 (\u001b[38;5;33mEmbedding\u001b[0m)         │ ?                      │   \u001b[38;5;34m0\u001b[0m (unbuilt) │\n",
       "├─────────────────────────────────┼────────────────────────┼───────────────┤\n",
       "│ lstm (\u001b[38;5;33mLSTM\u001b[0m)                     │ ?                      │   \u001b[38;5;34m0\u001b[0m (unbuilt) │\n",
       "├─────────────────────────────────┼────────────────────────┼───────────────┤\n",
       "│ dense_7 (\u001b[38;5;33mDense\u001b[0m)                 │ ?                      │   \u001b[38;5;34m0\u001b[0m (unbuilt) │\n",
       "├─────────────────────────────────┼────────────────────────┼───────────────┤\n",
       "│ dense_8 (\u001b[38;5;33mDense\u001b[0m)                 │ ?                      │   \u001b[38;5;34m0\u001b[0m (unbuilt) │\n",
       "└─────────────────────────────────┴────────────────────────┴───────────────┘\n"
      ]
     },
     "metadata": {},
     "output_type": "display_data"
    },
    {
     "data": {
      "text/html": [
       "<pre style=\"white-space:pre;overflow-x:auto;line-height:normal;font-family:Menlo,'DejaVu Sans Mono',consolas,'Courier New',monospace\"><span style=\"font-weight: bold\"> Total params: </span><span style=\"color: #00af00; text-decoration-color: #00af00\">0</span> (0.00 B)\n",
       "</pre>\n"
      ],
      "text/plain": [
       "\u001b[1m Total params: \u001b[0m\u001b[38;5;34m0\u001b[0m (0.00 B)\n"
      ]
     },
     "metadata": {},
     "output_type": "display_data"
    },
    {
     "data": {
      "text/html": [
       "<pre style=\"white-space:pre;overflow-x:auto;line-height:normal;font-family:Menlo,'DejaVu Sans Mono',consolas,'Courier New',monospace\"><span style=\"font-weight: bold\"> Trainable params: </span><span style=\"color: #00af00; text-decoration-color: #00af00\">0</span> (0.00 B)\n",
       "</pre>\n"
      ],
      "text/plain": [
       "\u001b[1m Trainable params: \u001b[0m\u001b[38;5;34m0\u001b[0m (0.00 B)\n"
      ]
     },
     "metadata": {},
     "output_type": "display_data"
    },
    {
     "data": {
      "text/html": [
       "<pre style=\"white-space:pre;overflow-x:auto;line-height:normal;font-family:Menlo,'DejaVu Sans Mono',consolas,'Courier New',monospace\"><span style=\"font-weight: bold\"> Non-trainable params: </span><span style=\"color: #00af00; text-decoration-color: #00af00\">0</span> (0.00 B)\n",
       "</pre>\n"
      ],
      "text/plain": [
       "\u001b[1m Non-trainable params: \u001b[0m\u001b[38;5;34m0\u001b[0m (0.00 B)\n"
      ]
     },
     "metadata": {},
     "output_type": "display_data"
    }
   ],
   "source": [
    "tf.random.set_seed(42)\n",
    "\n",
    "lstm_model = tf.keras.Sequential([\n",
    "    tf.keras.layers.Embedding(num_words, 16, input_length=maxlen),\n",
    "    tf.keras.layers.LSTM(32),\n",
    "    tf.keras.layers.Dense(64, activation='relu'),\n",
    "    tf.keras.layers.Dense(1, activation='sigmoid')\n",
    "])\n",
    "\n",
    "lstm_model.compile(loss='binary_crossentropy', optimizer='adam', metrics=['accuracy'])\n",
    "\n",
    "lstm_model.summary()"
   ]
  },
  {
   "cell_type": "code",
   "execution_count": 34,
   "id": "02c52748-fc92-4f21-a054-4a605c735f98",
   "metadata": {},
   "outputs": [
    {
     "name": "stdout",
     "output_type": "stream",
     "text": [
      "Epoch 1/20\n",
      "\u001b[1m272/272\u001b[0m \u001b[32m━━━━━━━━━━━━━━━━━━━━\u001b[0m\u001b[37m\u001b[0m \u001b[1m5s\u001b[0m 17ms/step - accuracy: 0.6759 - loss: 0.5798 - val_accuracy: 0.8443 - val_loss: 0.3539\n",
      "Epoch 2/20\n",
      "\u001b[1m272/272\u001b[0m \u001b[32m━━━━━━━━━━━━━━━━━━━━\u001b[0m\u001b[37m\u001b[0m \u001b[1m5s\u001b[0m 17ms/step - accuracy: 0.8880 - loss: 0.2707 - val_accuracy: 0.8369 - val_loss: 0.3800\n"
     ]
    }
   ],
   "source": [
    "history_lstm = lstm_model.fit(X_train_dl, y_train, validation_data=(X_test_dl, y_test), epochs= 20, batch_size=32, callbacks = [early_stopping])"
   ]
  },
  {
   "cell_type": "code",
   "execution_count": 35,
   "id": "7f6047d9-067f-44f9-b8d1-76a1d194aecd",
   "metadata": {},
   "outputs": [
    {
     "name": "stdout",
     "output_type": "stream",
     "text": [
      "\u001b[1m68/68\u001b[0m \u001b[32m━━━━━━━━━━━━━━━━━━━━\u001b[0m\u001b[37m\u001b[0m \u001b[1m0s\u001b[0m 4ms/step - accuracy: 0.8556 - loss: 0.3415\n"
     ]
    },
    {
     "data": {
      "text/html": [
       "<div>\n",
       "<style scoped>\n",
       "    .dataframe tbody tr th:only-of-type {\n",
       "        vertical-align: middle;\n",
       "    }\n",
       "\n",
       "    .dataframe tbody tr th {\n",
       "        vertical-align: top;\n",
       "    }\n",
       "\n",
       "    .dataframe thead th {\n",
       "        text-align: right;\n",
       "    }\n",
       "</style>\n",
       "<table border=\"1\" class=\"dataframe\">\n",
       "  <thead>\n",
       "    <tr style=\"text-align: right;\">\n",
       "      <th></th>\n",
       "      <th>Accuracy</th>\n",
       "      <th>Model</th>\n",
       "    </tr>\n",
       "  </thead>\n",
       "  <tbody>\n",
       "    <tr>\n",
       "      <th>0</th>\n",
       "      <td>0.503</td>\n",
       "      <td>ANN</td>\n",
       "    </tr>\n",
       "    <tr>\n",
       "      <th>1</th>\n",
       "      <td>0.828</td>\n",
       "      <td>Embedding</td>\n",
       "    </tr>\n",
       "    <tr>\n",
       "      <th>2</th>\n",
       "      <td>0.838</td>\n",
       "      <td>CNN</td>\n",
       "    </tr>\n",
       "    <tr>\n",
       "      <th>3</th>\n",
       "      <td>0.844</td>\n",
       "      <td>LSTM</td>\n",
       "    </tr>\n",
       "  </tbody>\n",
       "</table>\n",
       "</div>"
      ],
      "text/plain": [
       "   Accuracy      Model\n",
       "0     0.503        ANN\n",
       "1     0.828  Embedding\n",
       "2     0.838        CNN\n",
       "3     0.844       LSTM"
      ]
     },
     "execution_count": 35,
     "metadata": {},
     "output_type": "execute_result"
    }
   ],
   "source": [
    "accuracy_lstm = lstm_model.evaluate(X_test_dl, y_test)[1]  # Modelin doğruluk skorunu almak için\n",
    "\n",
    "new_row_lstm = pd.DataFrame({\n",
    "    'Model': ['LSTM'],\n",
    "    'Accuracy': [accuracy_lstm]\n",
    "})\n",
    "\n",
    "result_dl = pd.concat([result_dl, new_row_lstm], ignore_index=True)\n",
    "\n",
    "result_dl"
   ]
  },
  {
   "cell_type": "markdown",
   "id": "603c14b5-3493-4c08-80ed-c18a8308361a",
   "metadata": {},
   "source": [
    "# Test"
   ]
  },
  {
   "cell_type": "code",
   "execution_count": null,
   "id": "08691c5f-419d-4111-a45b-028dfa2ac789",
   "metadata": {},
   "outputs": [],
   "source": [
    "# Yukarıdaki tablolarda baktığımızda en iyi modeller Support Vector Machine ve LSTM oldu.\n",
    "# Dolayısıyla bu iki modeller üzerinde testler yapıyoruz.\n",
    "\n",
    "predict_dict = {0: 'Olumsuz', 1: 'Olumlu'}\n",
    "\n",
    "while True:\n",
    "    text = str(input('\\n Write your message: '))\n",
    "    \n",
    "    if text == 'break':\n",
    "        break\n",
    "    \n",
    "    ml_token = tf_vector.transform([text])\n",
    "    pred_ml = svc_tf.predict(ml_token)[0]\n",
    "    dl_token = pad_sequences(tokenizer.texts_to_sequences([text]), maxlen = 200)\n",
    "    pred_dl = (lstm_model.predict(dl_token) > 0.5).astype(int)[0][0]\n",
    "    \n",
    "    print(f'Support Vector Machine (SVM) Tahmini = > {predict_dict[pred_ml]}\\nLSTM Tahmini = > {predict_dict[pred_dl]}')"
   ]
  },
  {
   "cell_type": "code",
   "execution_count": 84,
   "id": "c2796ab1-e9c3-485e-9507-1ac89e988bba",
   "metadata": {},
   "outputs": [],
   "source": [
    "# Save SVM model\n",
    "with open('svm_model.pkl','wb') as f:\n",
    "    pickle.dump(svc_tf,f)"
   ]
  },
  {
   "cell_type": "code",
   "execution_count": 85,
   "id": "134e8b8c-e7fb-4a06-8a67-713bf04530f6",
   "metadata": {},
   "outputs": [],
   "source": [
    "# Save LSTM model\n",
    "lstm_model.save(\"lstm_model.keras\")"
   ]
  },
  {
   "cell_type": "code",
   "execution_count": null,
   "id": "8d8abb17-1f2a-4446-ac78-46de108d52e7",
   "metadata": {},
   "outputs": [],
   "source": []
  }
 ],
 "metadata": {
  "kernelspec": {
   "display_name": "Python 3 (ipykernel)",
   "language": "python",
   "name": "python3"
  },
  "language_info": {
   "codemirror_mode": {
    "name": "ipython",
    "version": 3
   },
   "file_extension": ".py",
   "mimetype": "text/x-python",
   "name": "python",
   "nbconvert_exporter": "python",
   "pygments_lexer": "ipython3",
   "version": "3.12.1"
  }
 },
 "nbformat": 4,
 "nbformat_minor": 5
}
